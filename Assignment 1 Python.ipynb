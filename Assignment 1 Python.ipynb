{
 "cells": [
  {
   "cell_type": "markdown",
   "id": "6c69bab7",
   "metadata": {},
   "source": [
    "# Descriptive Statistics And Visual Representation Of The Simulated Qualitative Univariate Data"
   ]
  },
  {
   "cell_type": "markdown",
   "id": "0bb58ba0",
   "metadata": {},
   "source": [
    "## Importing the necessary libraries and modules"
   ]
  },
  {
   "cell_type": "code",
   "execution_count": 18,
   "id": "65c9b1e6",
   "metadata": {},
   "outputs": [],
   "source": [
    "import pandas as pd #for data analysis,can also be used to import files in different formats e.g csv into python\n",
    "import numpy as np #also known as numerical python(mainly used for working with arrays)\n",
    "import matplotlib.pyplot as plt #used for visualization in Python·It can also be used to create quality plots\n",
    "import math #provides access to some common math functions and constants in Python\n",
    "import os #provides functions for creating and removing a directory etc\n",
    "import sidetable as stb #builds simple but useful summary tables\n",
    "import seaborn as sns #for making statistical graphics in Python\n",
    "\n",
    "#Change of directory to the working directory\n",
    "os.chdir(\"C:/Users/user/Desktop/STA413 GIWA/Python class\")"
   ]
  },
  {
   "cell_type": "code",
   "execution_count": 19,
   "id": "7eab9e96",
   "metadata": {},
   "outputs": [
    {
     "data": {
      "text/plain": [
       "'C:\\\\Users\\\\user\\\\Desktop\\\\STA413 GIWA\\\\Python class'"
      ]
     },
     "execution_count": 19,
     "metadata": {},
     "output_type": "execute_result"
    }
   ],
   "source": [
    "#Verificaton of working directory\n",
    "path = os.getcwd()\n",
    "path"
   ]
  },
  {
   "cell_type": "code",
   "execution_count": 20,
   "id": "0ae8f9f5",
   "metadata": {},
   "outputs": [
    {
     "data": {
      "text/html": [
       "<div>\n",
       "<style scoped>\n",
       "    .dataframe tbody tr th:only-of-type {\n",
       "        vertical-align: middle;\n",
       "    }\n",
       "\n",
       "    .dataframe tbody tr th {\n",
       "        vertical-align: top;\n",
       "    }\n",
       "\n",
       "    .dataframe thead th {\n",
       "        text-align: right;\n",
       "    }\n",
       "</style>\n",
       "<table border=\"1\" class=\"dataframe\">\n",
       "  <thead>\n",
       "    <tr style=\"text-align: right;\">\n",
       "      <th></th>\n",
       "      <th>BMI Status</th>\n",
       "    </tr>\n",
       "  </thead>\n",
       "  <tbody>\n",
       "    <tr>\n",
       "      <th>0</th>\n",
       "      <td>NORMAL</td>\n",
       "    </tr>\n",
       "    <tr>\n",
       "      <th>1</th>\n",
       "      <td>NORMAL</td>\n",
       "    </tr>\n",
       "    <tr>\n",
       "      <th>2</th>\n",
       "      <td>UNDERWEIGHT</td>\n",
       "    </tr>\n",
       "    <tr>\n",
       "      <th>3</th>\n",
       "      <td>UNDERWEIGHT</td>\n",
       "    </tr>\n",
       "    <tr>\n",
       "      <th>4</th>\n",
       "      <td>NORMAL</td>\n",
       "    </tr>\n",
       "  </tbody>\n",
       "</table>\n",
       "</div>"
      ],
      "text/plain": [
       "    BMI Status\n",
       "0       NORMAL\n",
       "1       NORMAL\n",
       "2  UNDERWEIGHT\n",
       "3  UNDERWEIGHT\n",
       "4       NORMAL"
      ]
     },
     "execution_count": 20,
     "metadata": {},
     "output_type": "execute_result"
    }
   ],
   "source": [
    "#Importing the simulated excel file for the qualitative univariate data\n",
    "#We assign a variable \"univqual\" to the excel file containing our required data\n",
    "univqual = pd.read_excel(\"Assignment 1.xlsx\")\n",
    "#To view the first five row of the simulated data\n",
    "univqual.head()"
   ]
  },
  {
   "cell_type": "code",
   "execution_count": 21,
   "id": "05ab304c",
   "metadata": {},
   "outputs": [
    {
     "data": {
      "text/html": [
       "<div>\n",
       "<style scoped>\n",
       "    .dataframe tbody tr th:only-of-type {\n",
       "        vertical-align: middle;\n",
       "    }\n",
       "\n",
       "    .dataframe tbody tr th {\n",
       "        vertical-align: top;\n",
       "    }\n",
       "\n",
       "    .dataframe thead th {\n",
       "        text-align: right;\n",
       "    }\n",
       "</style>\n",
       "<table border=\"1\" class=\"dataframe\">\n",
       "  <thead>\n",
       "    <tr style=\"text-align: right;\">\n",
       "      <th>col_0</th>\n",
       "      <th>count</th>\n",
       "    </tr>\n",
       "    <tr>\n",
       "      <th>BMI Status</th>\n",
       "      <th></th>\n",
       "    </tr>\n",
       "  </thead>\n",
       "  <tbody>\n",
       "    <tr>\n",
       "      <th>EXTREMELY OBESE</th>\n",
       "      <td>3</td>\n",
       "    </tr>\n",
       "    <tr>\n",
       "      <th>NORMAL</th>\n",
       "      <td>74</td>\n",
       "    </tr>\n",
       "    <tr>\n",
       "      <th>OBESE</th>\n",
       "      <td>35</td>\n",
       "    </tr>\n",
       "    <tr>\n",
       "      <th>OVERWEIGHT</th>\n",
       "      <td>52</td>\n",
       "    </tr>\n",
       "    <tr>\n",
       "      <th>UNDERWEIGHT</th>\n",
       "      <td>86</td>\n",
       "    </tr>\n",
       "  </tbody>\n",
       "</table>\n",
       "</div>"
      ],
      "text/plain": [
       "col_0            count\n",
       "BMI Status            \n",
       "EXTREMELY OBESE      3\n",
       "NORMAL              74\n",
       "OBESE               35\n",
       "OVERWEIGHT          52\n",
       "UNDERWEIGHT         86"
      ]
     },
     "execution_count": 21,
     "metadata": {},
     "output_type": "execute_result"
    }
   ],
   "source": [
    "#Frequency Table\n",
    "freqtab = pd.crosstab(index=univqual[\"BMI Status\"], columns=\"count\")\n",
    "freqtab\n",
    "\n",
    "#From the frequency table,the number of extremely obese students is 3,the number of normal students is 74 etc"
   ]
  },
  {
   "cell_type": "code",
   "execution_count": 22,
   "id": "faa4062c",
   "metadata": {},
   "outputs": [
    {
     "data": {
      "text/html": [
       "<div>\n",
       "<style scoped>\n",
       "    .dataframe tbody tr th:only-of-type {\n",
       "        vertical-align: middle;\n",
       "    }\n",
       "\n",
       "    .dataframe tbody tr th {\n",
       "        vertical-align: top;\n",
       "    }\n",
       "\n",
       "    .dataframe thead th {\n",
       "        text-align: right;\n",
       "    }\n",
       "</style>\n",
       "<table border=\"1\" class=\"dataframe\">\n",
       "  <thead>\n",
       "    <tr style=\"text-align: right;\">\n",
       "      <th></th>\n",
       "      <th>BMI Status</th>\n",
       "      <th>count</th>\n",
       "      <th>percent</th>\n",
       "      <th>cumulative_count</th>\n",
       "      <th>cumulative_percent</th>\n",
       "    </tr>\n",
       "  </thead>\n",
       "  <tbody>\n",
       "    <tr>\n",
       "      <th>0</th>\n",
       "      <td>UNDERWEIGHT</td>\n",
       "      <td>86</td>\n",
       "      <td>34.4</td>\n",
       "      <td>86</td>\n",
       "      <td>34.4</td>\n",
       "    </tr>\n",
       "    <tr>\n",
       "      <th>1</th>\n",
       "      <td>NORMAL</td>\n",
       "      <td>74</td>\n",
       "      <td>29.6</td>\n",
       "      <td>160</td>\n",
       "      <td>64.0</td>\n",
       "    </tr>\n",
       "    <tr>\n",
       "      <th>2</th>\n",
       "      <td>OVERWEIGHT</td>\n",
       "      <td>52</td>\n",
       "      <td>20.8</td>\n",
       "      <td>212</td>\n",
       "      <td>84.8</td>\n",
       "    </tr>\n",
       "    <tr>\n",
       "      <th>3</th>\n",
       "      <td>OBESE</td>\n",
       "      <td>35</td>\n",
       "      <td>14.0</td>\n",
       "      <td>247</td>\n",
       "      <td>98.8</td>\n",
       "    </tr>\n",
       "    <tr>\n",
       "      <th>4</th>\n",
       "      <td>EXTREMELY OBESE</td>\n",
       "      <td>3</td>\n",
       "      <td>1.2</td>\n",
       "      <td>250</td>\n",
       "      <td>100.0</td>\n",
       "    </tr>\n",
       "  </tbody>\n",
       "</table>\n",
       "</div>"
      ],
      "text/plain": [
       "        BMI Status  count  percent  cumulative_count  cumulative_percent\n",
       "0      UNDERWEIGHT     86     34.4                86                34.4\n",
       "1           NORMAL     74     29.6               160                64.0\n",
       "2       OVERWEIGHT     52     20.8               212                84.8\n",
       "3            OBESE     35     14.0               247                98.8\n",
       "4  EXTREMELY OBESE      3      1.2               250               100.0"
      ]
     },
     "execution_count": 22,
     "metadata": {},
     "output_type": "execute_result"
    }
   ],
   "source": [
    "#Frequency Table for BMI Status(without excepting the cumulative frequencies and percentages)\n",
    "univqual.stb.freq([\"BMI Status\"])\n",
    "\n",
    "#The frequency table below has more info about the frequency of each category of the BMI Status\n",
    "#From the frequency table,the number of extremely obese students is 3,the number of normal students is 74 etc\n",
    "#From the frequency table,the percentage of underweight students is 34.4%,the percentage of normal students is 29.6% etc\n",
    "#From the frequency table,the cumulative number of overweight students is 212 etc\n",
    "#From the frequency table,the cumulative percentage of overweight students is 84.8% etc"
   ]
  },
  {
   "cell_type": "code",
   "execution_count": 23,
   "id": "b51b9d30",
   "metadata": {},
   "outputs": [
    {
     "data": {
      "text/html": [
       "<div>\n",
       "<style scoped>\n",
       "    .dataframe tbody tr th:only-of-type {\n",
       "        vertical-align: middle;\n",
       "    }\n",
       "\n",
       "    .dataframe tbody tr th {\n",
       "        vertical-align: top;\n",
       "    }\n",
       "\n",
       "    .dataframe thead th {\n",
       "        text-align: right;\n",
       "    }\n",
       "</style>\n",
       "<table border=\"1\" class=\"dataframe\">\n",
       "  <thead>\n",
       "    <tr style=\"text-align: right;\">\n",
       "      <th></th>\n",
       "      <th>BMI Status</th>\n",
       "    </tr>\n",
       "  </thead>\n",
       "  <tbody>\n",
       "    <tr>\n",
       "      <th>count</th>\n",
       "      <td>250</td>\n",
       "    </tr>\n",
       "    <tr>\n",
       "      <th>unique</th>\n",
       "      <td>5</td>\n",
       "    </tr>\n",
       "    <tr>\n",
       "      <th>top</th>\n",
       "      <td>UNDERWEIGHT</td>\n",
       "    </tr>\n",
       "    <tr>\n",
       "      <th>freq</th>\n",
       "      <td>86</td>\n",
       "    </tr>\n",
       "  </tbody>\n",
       "</table>\n",
       "</div>"
      ],
      "text/plain": [
       "         BMI Status\n",
       "count           250\n",
       "unique            5\n",
       "top     UNDERWEIGHT\n",
       "freq             86"
      ]
     },
     "execution_count": 23,
     "metadata": {},
     "output_type": "execute_result"
    }
   ],
   "source": [
    "#Summary Statistics of BMI Status\n",
    "univqual.describe(include=\"all\")\n",
    "\n",
    "#This is a summary statistics of the data,it outputs the frequency(count),number of categories(unique),mode(top) and frequency of mode of the data(freq) because of the nature of the data(categorical)\n",
    "#From the table,the numer of BMI Statuses is 250,the number of categories of the BMI Status is 5,the BMI Status that occurs most is \"Underweight\" and the number of underweight students is 86."
   ]
  },
  {
   "cell_type": "code",
   "execution_count": 24,
   "id": "7f1738a5",
   "metadata": {},
   "outputs": [
    {
     "name": "stdout",
     "output_type": "stream",
     "text": [
      "<class 'pandas.core.frame.DataFrame'>\n",
      "RangeIndex: 250 entries, 0 to 249\n",
      "Data columns (total 1 columns):\n",
      " #   Column      Non-Null Count  Dtype \n",
      "---  ------      --------------  ----- \n",
      " 0   BMI Status  250 non-null    object\n",
      "dtypes: object(1)\n",
      "memory usage: 2.1+ KB\n"
     ]
    }
   ],
   "source": [
    "#Information about the data\n",
    "univqual.info()\n",
    "\n",
    "#The output summarizes the number of columns occupied in the data(1),the number of non-null values in the column and the datatype of the values in the column"
   ]
  },
  {
   "cell_type": "code",
   "execution_count": 25,
   "id": "d22f3aa3",
   "metadata": {},
   "outputs": [
    {
     "data": {
      "text/html": [
       "<div>\n",
       "<style scoped>\n",
       "    .dataframe tbody tr th:only-of-type {\n",
       "        vertical-align: middle;\n",
       "    }\n",
       "\n",
       "    .dataframe tbody tr th {\n",
       "        vertical-align: top;\n",
       "    }\n",
       "\n",
       "    .dataframe thead th {\n",
       "        text-align: right;\n",
       "    }\n",
       "</style>\n",
       "<table border=\"1\" class=\"dataframe\">\n",
       "  <thead>\n",
       "    <tr style=\"text-align: right;\">\n",
       "      <th></th>\n",
       "      <th>BMI Status</th>\n",
       "    </tr>\n",
       "  </thead>\n",
       "  <tbody>\n",
       "    <tr>\n",
       "      <th>0</th>\n",
       "      <td>UNDERWEIGHT</td>\n",
       "    </tr>\n",
       "  </tbody>\n",
       "</table>\n",
       "</div>"
      ],
      "text/plain": [
       "    BMI Status\n",
       "0  UNDERWEIGHT"
      ]
     },
     "execution_count": 25,
     "metadata": {},
     "output_type": "execute_result"
    }
   ],
   "source": [
    "#Mode of BMI Status\n",
    "univqual.mode()\n",
    "\n",
    "#From the output,the most frequently occurring BMI Status is UNDERWEIGHT"
   ]
  },
  {
   "cell_type": "code",
   "execution_count": 26,
   "id": "99857e3d",
   "metadata": {},
   "outputs": [
    {
     "data": {
      "image/png": "[encoded data removed]",
      "text/plain": [
       "<Figure size 576x576 with 1 Axes>"
      ]
     },
     "metadata": {
      "needs_background": "light"
     },
     "output_type": "display_data"
    }
   ],
   "source": [
    "#Categorical Plot of BMI Status vs the frequency of each category\n",
    "sns.catplot(x = \"BMI Status\", kind = \"count\", data = univqual,height=8)\n",
    "plt.title(\"Categorical Plot of BMI Status and the frequency of each category\")\n",
    "plt.show()\n",
    "\n",
    "#The categorical plot below outputs a bar plot because it is the best plot for the data.\n",
    "#The categorical plot outputs compares the counts of different categories of BMI Statuses.UNDERWEIGHT is the most coomon,followed by NORMAL,OVERWEIGHT,OBESE and EXTREMELY OBESE.The counts range from 3 to 86. "
   ]
  },
  {
   "cell_type": "code",
   "execution_count": 27,
   "id": "8c1a199c",
   "metadata": {},
   "outputs": [
    {
     "data": {
      "image/png": "[encoded data removed]",
      "text/plain": [
       "<Figure size 432x288 with 1 Axes>"
      ]
     },
     "metadata": {
      "needs_background": "light"
     },
     "output_type": "display_data"
    }
   ],
   "source": [
    "#Bar plot of BMI Status vs the frequency of the categories\n",
    "univqual[\"BMI Status\"].value_counts().plot(kind = \"bar\")\n",
    "plt.show()\n"
   ]
  },
  {
   "cell_type": "code",
   "execution_count": 28,
   "id": "4455c9f1",
   "metadata": {},
   "outputs": [
    {
     "data": {
      "image/png": "[encoded data removed]",
      "text/plain": [
       "<Figure size 432x288 with 1 Axes>"
      ]
     },
     "metadata": {},
     "output_type": "display_data"
    }
   ],
   "source": [
    "#Plotting a pie chart for the frequency of each BMI Status category\n",
    "plt.pie(univqual[\"BMI Status\"].value_counts(),labels=[\"NORMAL\",\"UNDERWEIGHT\",\"OVERWEIGHT\",\"OBESE\",\"EXTREMELY OBESE\"], autopct = \"%1.1f%%\")\n",
    "plt.title(\"BMI Status Pie Plot\")\n",
    "plt.show()\n",
    "\n",
    "#The folowing pie chart shows the proportion of students of different BMI Statuses,34.4% of the students are Normal,1.2% of the students are Extremely obese etc.\n",
    "#Therefore,the pie plot shows that the Normal students have the highest proportion."
   ]
  },
  {
   "cell_type": "code",
   "execution_count": null,
   "id": "262bac1f",
   "metadata": {},
   "outputs": [],
   "source": []
  }
 ],
 "metadata": {
  "kernelspec": {
   "display_name": "Python 3",
   "language": "python",
   "name": "python3"
  },
  "language_info": {
   "codemirror_mode": {
    "name": "ipython",
    "version": 3
   },
   "file_extension": ".py",
   "mimetype": "text/x-python",
   "name": "python",
   "nbconvert_exporter": "python",
   "pygments_lexer": "ipython3",
   "version": "3.8.8"
  }
 },
 "nbformat": 4,
 "nbformat_minor": 5
}
