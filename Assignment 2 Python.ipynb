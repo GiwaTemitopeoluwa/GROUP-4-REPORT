{
 "cells": [
  {
   "cell_type": "markdown",
   "id": "1583e907",
   "metadata": {},
   "source": [
    "# Descriptive Statistics And Visual Representation Of The Simulated Quantitative Univariate Data"
   ]
  },
  {
   "cell_type": "code",
   "execution_count": 3,
   "id": "9a419d64",
   "metadata": {},
   "outputs": [],
   "source": [
    "import pandas as pd\n",
    "import numpy as np\n",
    "import matplotlib.pyplot as plt\n",
    "import math\n",
    "import os\n",
    "import sidetable as stb\n",
    "import statistics\n",
    "import seaborn as sns\n",
    "from scipy import stats\n",
    "\n",
    "os.chdir(\"C:/Users/user/Desktop/STA413 GIWA/Python class\")"
   ]
  },
  {
   "cell_type": "code",
   "execution_count": 4,
   "id": "3a5456a1",
   "metadata": {},
   "outputs": [
    {
     "data": {
      "text/plain": [
       "'C:\\\\Users\\\\user\\\\Desktop\\\\STA413 GIWA\\\\Python class'"
      ]
     },
     "execution_count": 4,
     "metadata": {},
     "output_type": "execute_result"
    }
   ],
   "source": [
    "path = os.getcwd()\n",
    "path"
   ]
  },
  {
   "cell_type": "code",
   "execution_count": 5,
   "id": "71be3f12",
   "metadata": {},
   "outputs": [
    {
     "data": {
      "text/html": [
       "<div>\n",
       "<style scoped>\n",
       "    .dataframe tbody tr th:only-of-type {\n",
       "        vertical-align: middle;\n",
       "    }\n",
       "\n",
       "    .dataframe tbody tr th {\n",
       "        vertical-align: top;\n",
       "    }\n",
       "\n",
       "    .dataframe thead th {\n",
       "        text-align: right;\n",
       "    }\n",
       "</style>\n",
       "<table border=\"1\" class=\"dataframe\">\n",
       "  <thead>\n",
       "    <tr style=\"text-align: right;\">\n",
       "      <th></th>\n",
       "      <th>StudentAge</th>\n",
       "    </tr>\n",
       "  </thead>\n",
       "  <tbody>\n",
       "    <tr>\n",
       "      <th>0</th>\n",
       "      <td>24</td>\n",
       "    </tr>\n",
       "    <tr>\n",
       "      <th>1</th>\n",
       "      <td>26</td>\n",
       "    </tr>\n",
       "    <tr>\n",
       "      <th>2</th>\n",
       "      <td>24</td>\n",
       "    </tr>\n",
       "    <tr>\n",
       "      <th>3</th>\n",
       "      <td>26</td>\n",
       "    </tr>\n",
       "    <tr>\n",
       "      <th>4</th>\n",
       "      <td>21</td>\n",
       "    </tr>\n",
       "  </tbody>\n",
       "</table>\n",
       "</div>"
      ],
      "text/plain": [
       "   StudentAge\n",
       "0          24\n",
       "1          26\n",
       "2          24\n",
       "3          26\n",
       "4          21"
      ]
     },
     "execution_count": 5,
     "metadata": {},
     "output_type": "execute_result"
    }
   ],
   "source": [
    "univquan = pd.read_excel(\"Assignment 2.xlsx\")\n",
    "univquan.head()"
   ]
  },
  {
   "cell_type": "code",
   "execution_count": 6,
   "id": "f5b9786f",
   "metadata": {},
   "outputs": [
    {
     "data": {
      "text/html": [
       "<div>\n",
       "<style scoped>\n",
       "    .dataframe tbody tr th:only-of-type {\n",
       "        vertical-align: middle;\n",
       "    }\n",
       "\n",
       "    .dataframe tbody tr th {\n",
       "        vertical-align: top;\n",
       "    }\n",
       "\n",
       "    .dataframe thead th {\n",
       "        text-align: right;\n",
       "    }\n",
       "</style>\n",
       "<table border=\"1\" class=\"dataframe\">\n",
       "  <thead>\n",
       "    <tr style=\"text-align: right;\">\n",
       "      <th></th>\n",
       "      <th>StudentAge</th>\n",
       "      <th>count</th>\n",
       "      <th>percent</th>\n",
       "      <th>cumulative_count</th>\n",
       "      <th>cumulative_percent</th>\n",
       "    </tr>\n",
       "  </thead>\n",
       "  <tbody>\n",
       "    <tr>\n",
       "      <th>0</th>\n",
       "      <td>24</td>\n",
       "      <td>30</td>\n",
       "      <td>12.0</td>\n",
       "      <td>30</td>\n",
       "      <td>12.0</td>\n",
       "    </tr>\n",
       "    <tr>\n",
       "      <th>1</th>\n",
       "      <td>26</td>\n",
       "      <td>29</td>\n",
       "      <td>11.6</td>\n",
       "      <td>59</td>\n",
       "      <td>23.6</td>\n",
       "    </tr>\n",
       "    <tr>\n",
       "      <th>2</th>\n",
       "      <td>25</td>\n",
       "      <td>26</td>\n",
       "      <td>10.4</td>\n",
       "      <td>85</td>\n",
       "      <td>34.0</td>\n",
       "    </tr>\n",
       "    <tr>\n",
       "      <th>3</th>\n",
       "      <td>20</td>\n",
       "      <td>25</td>\n",
       "      <td>10.0</td>\n",
       "      <td>110</td>\n",
       "      <td>44.0</td>\n",
       "    </tr>\n",
       "    <tr>\n",
       "      <th>4</th>\n",
       "      <td>18</td>\n",
       "      <td>23</td>\n",
       "      <td>9.2</td>\n",
       "      <td>133</td>\n",
       "      <td>53.2</td>\n",
       "    </tr>\n",
       "    <tr>\n",
       "      <th>5</th>\n",
       "      <td>23</td>\n",
       "      <td>22</td>\n",
       "      <td>8.8</td>\n",
       "      <td>155</td>\n",
       "      <td>62.0</td>\n",
       "    </tr>\n",
       "    <tr>\n",
       "      <th>6</th>\n",
       "      <td>22</td>\n",
       "      <td>21</td>\n",
       "      <td>8.4</td>\n",
       "      <td>176</td>\n",
       "      <td>70.4</td>\n",
       "    </tr>\n",
       "    <tr>\n",
       "      <th>7</th>\n",
       "      <td>21</td>\n",
       "      <td>17</td>\n",
       "      <td>6.8</td>\n",
       "      <td>193</td>\n",
       "      <td>77.2</td>\n",
       "    </tr>\n",
       "    <tr>\n",
       "      <th>8</th>\n",
       "      <td>19</td>\n",
       "      <td>17</td>\n",
       "      <td>6.8</td>\n",
       "      <td>210</td>\n",
       "      <td>84.0</td>\n",
       "    </tr>\n",
       "    <tr>\n",
       "      <th>9</th>\n",
       "      <td>17</td>\n",
       "      <td>16</td>\n",
       "      <td>6.4</td>\n",
       "      <td>226</td>\n",
       "      <td>90.4</td>\n",
       "    </tr>\n",
       "    <tr>\n",
       "      <th>10</th>\n",
       "      <td>27</td>\n",
       "      <td>15</td>\n",
       "      <td>6.0</td>\n",
       "      <td>241</td>\n",
       "      <td>96.4</td>\n",
       "    </tr>\n",
       "    <tr>\n",
       "      <th>11</th>\n",
       "      <td>16</td>\n",
       "      <td>9</td>\n",
       "      <td>3.6</td>\n",
       "      <td>250</td>\n",
       "      <td>100.0</td>\n",
       "    </tr>\n",
       "  </tbody>\n",
       "</table>\n",
       "</div>"
      ],
      "text/plain": [
       "    StudentAge  count  percent  cumulative_count  cumulative_percent\n",
       "0           24     30     12.0                30                12.0\n",
       "1           26     29     11.6                59                23.6\n",
       "2           25     26     10.4                85                34.0\n",
       "3           20     25     10.0               110                44.0\n",
       "4           18     23      9.2               133                53.2\n",
       "5           23     22      8.8               155                62.0\n",
       "6           22     21      8.4               176                70.4\n",
       "7           21     17      6.8               193                77.2\n",
       "8           19     17      6.8               210                84.0\n",
       "9           17     16      6.4               226                90.4\n",
       "10          27     15      6.0               241                96.4\n",
       "11          16      9      3.6               250               100.0"
      ]
     },
     "execution_count": 6,
     "metadata": {},
     "output_type": "execute_result"
    }
   ],
   "source": [
    "#Frequency Table\n",
    "univquan.stb.freq([\"StudentAge\"])"
   ]
  },
  {
   "cell_type": "code",
   "execution_count": 42,
   "id": "1c1ac57c",
   "metadata": {},
   "outputs": [
    {
     "data": {
      "text/html": [
       "<div>\n",
       "<style scoped>\n",
       "    .dataframe tbody tr th:only-of-type {\n",
       "        vertical-align: middle;\n",
       "    }\n",
       "\n",
       "    .dataframe tbody tr th {\n",
       "        vertical-align: top;\n",
       "    }\n",
       "\n",
       "    .dataframe thead th {\n",
       "        text-align: right;\n",
       "    }\n",
       "</style>\n",
       "<table border=\"1\" class=\"dataframe\">\n",
       "  <thead>\n",
       "    <tr style=\"text-align: right;\">\n",
       "      <th></th>\n",
       "      <th>StudentAge</th>\n",
       "    </tr>\n",
       "  </thead>\n",
       "  <tbody>\n",
       "    <tr>\n",
       "      <th>count</th>\n",
       "      <td>250.000000</td>\n",
       "    </tr>\n",
       "    <tr>\n",
       "      <th>mean</th>\n",
       "      <td>22.028000</td>\n",
       "    </tr>\n",
       "    <tr>\n",
       "      <th>std</th>\n",
       "      <td>3.216926</td>\n",
       "    </tr>\n",
       "    <tr>\n",
       "      <th>min</th>\n",
       "      <td>16.000000</td>\n",
       "    </tr>\n",
       "    <tr>\n",
       "      <th>25%</th>\n",
       "      <td>19.000000</td>\n",
       "    </tr>\n",
       "    <tr>\n",
       "      <th>50%</th>\n",
       "      <td>22.000000</td>\n",
       "    </tr>\n",
       "    <tr>\n",
       "      <th>75%</th>\n",
       "      <td>25.000000</td>\n",
       "    </tr>\n",
       "    <tr>\n",
       "      <th>max</th>\n",
       "      <td>27.000000</td>\n",
       "    </tr>\n",
       "  </tbody>\n",
       "</table>\n",
       "</div>"
      ],
      "text/plain": [
       "       StudentAge\n",
       "count  250.000000\n",
       "mean    22.028000\n",
       "std      3.216926\n",
       "min     16.000000\n",
       "25%     19.000000\n",
       "50%     22.000000\n",
       "75%     25.000000\n",
       "max     27.000000"
      ]
     },
     "execution_count": 42,
     "metadata": {},
     "output_type": "execute_result"
    }
   ],
   "source": [
    "#Summary Statistics\n",
    "univquan.describe(include=\"all\")\n",
    "\n",
    "#This is a summary statistics of the data,it outputs the frequency(count),the average(mean),the standard deviation(std),the minimum value of the data(min),the first quartile(25%),the interquartile or median(50%),the third quartile(75%) nad the maximum value of the data(max)\n",
    "#Therefore,we conclude from the table that the number ages of the students is 250,the average is 22.028,the standard deviation is 3.216926,the minimum value of the data is 16,the first quartile is 19,the interquartile or median is 22,the third quartile is 25 and the maximum value of the data is 27\n",
    "#Therefore,with respect to the first quartile,25% of the data are less than or equal to 19,\n",
    "#with respect to the interquartile or median,50% of the data are between 19 and 25,\n",
    "#with respect to the third quartile,75% of the data are less than or equal to 25.\n",
    "#With respect to the standard deviation,since it is small,it indicates lesser spread of the data i.e the data points tend to be close to the mean"
   ]
  },
  {
   "cell_type": "code",
   "execution_count": 8,
   "id": "ffd0c794",
   "metadata": {},
   "outputs": [
    {
     "data": {
      "text/plain": [
       "StudentAge    22.0\n",
       "dtype: float64"
      ]
     },
     "execution_count": 8,
     "metadata": {},
     "output_type": "execute_result"
    }
   ],
   "source": [
    "univquan.median()"
   ]
  },
  {
   "cell_type": "code",
   "execution_count": 35,
   "id": "00acfb82",
   "metadata": {},
   "outputs": [
    {
     "data": {
      "text/html": [
       "<div>\n",
       "<style scoped>\n",
       "    .dataframe tbody tr th:only-of-type {\n",
       "        vertical-align: middle;\n",
       "    }\n",
       "\n",
       "    .dataframe tbody tr th {\n",
       "        vertical-align: top;\n",
       "    }\n",
       "\n",
       "    .dataframe thead th {\n",
       "        text-align: right;\n",
       "    }\n",
       "</style>\n",
       "<table border=\"1\" class=\"dataframe\">\n",
       "  <thead>\n",
       "    <tr style=\"text-align: right;\">\n",
       "      <th></th>\n",
       "      <th>StudentAge</th>\n",
       "    </tr>\n",
       "  </thead>\n",
       "  <tbody>\n",
       "    <tr>\n",
       "      <th>0</th>\n",
       "      <td>24</td>\n",
       "    </tr>\n",
       "  </tbody>\n",
       "</table>\n",
       "</div>"
      ],
      "text/plain": [
       "   StudentAge\n",
       "0          24"
      ]
     },
     "execution_count": 35,
     "metadata": {},
     "output_type": "execute_result"
    }
   ],
   "source": [
    "univquan.mode()\n",
    "\n",
    "#The most frequently occurring age is 24 years old"
   ]
  },
  {
   "cell_type": "code",
   "execution_count": 43,
   "id": "c81116c9",
   "metadata": {},
   "outputs": [
    {
     "name": "stdout",
     "output_type": "stream",
     "text": [
      "27\n"
     ]
    }
   ],
   "source": [
    "#Maximum of data\n",
    "maxAge = max(univquan[\"StudentAge\"])\n",
    "print(maxAge)"
   ]
  },
  {
   "cell_type": "code",
   "execution_count": 44,
   "id": "ed7107ff",
   "metadata": {},
   "outputs": [
    {
     "name": "stdout",
     "output_type": "stream",
     "text": [
      "16\n"
     ]
    }
   ],
   "source": [
    "#Minimum of quantitative data\n",
    "minAge = min(univquan[\"StudentAge\"])\n",
    "print(minAge)"
   ]
  },
  {
   "cell_type": "code",
   "execution_count": 12,
   "id": "7e614ba6",
   "metadata": {},
   "outputs": [
    {
     "data": {
      "text/plain": [
       "11"
      ]
     },
     "execution_count": 12,
     "metadata": {},
     "output_type": "execute_result"
    }
   ],
   "source": [
    "#Range of quantitative data\n",
    "range = maxAge - minAge\n",
    "range\n",
    "\n",
    "\n",
    "\n",
    "#The range below indicates a lesser dispersion in the data since the range is small."
   ]
  },
  {
   "cell_type": "code",
   "execution_count": 41,
   "id": "cec9aa1a",
   "metadata": {},
   "outputs": [
    {
     "name": "stdout",
     "output_type": "stream",
     "text": [
      "10.348610441767068\n"
     ]
    }
   ],
   "source": [
    "#variance of quantitative data\n",
    "varianceStat = statistics.variance(univquan[\"StudentAge\"])\n",
    "print(varianceStat)\n",
    "\n",
    "#The value below is the value of the variance but it hardly measured how spread a data is about its mean so it is advisable to use the standard deviation because it is the squareroot of the variance"
   ]
  },
  {
   "cell_type": "code",
   "execution_count": 14,
   "id": "ddef2b54",
   "metadata": {},
   "outputs": [
    {
     "name": "stdout",
     "output_type": "stream",
     "text": [
      "<class 'pandas.core.frame.DataFrame'>\n",
      "RangeIndex: 250 entries, 0 to 249\n",
      "Data columns (total 1 columns):\n",
      " #   Column      Non-Null Count  Dtype\n",
      "---  ------      --------------  -----\n",
      " 0   StudentAge  250 non-null    int64\n",
      "dtypes: int64(1)\n",
      "memory usage: 2.1 KB\n"
     ]
    }
   ],
   "source": [
    "univquan.info()"
   ]
  },
  {
   "cell_type": "code",
   "execution_count": 15,
   "id": "24c7d9b1",
   "metadata": {},
   "outputs": [
    {
     "data": {
      "text/plain": [
       "-0.19621098793141006"
      ]
     },
     "execution_count": 15,
     "metadata": {},
     "output_type": "execute_result"
    }
   ],
   "source": [
    "#Skewness of quantitative data\n",
    "(univquan[\"StudentAge\"]).skew()\n",
    "\n",
    "#The value below measures the extent to which the data is not symmetrical\n",
    "#Therefore,the data is left-skewed because the skewness is less than 0"
   ]
  },
  {
   "cell_type": "code",
   "execution_count": 16,
   "id": "1e9fdcd8",
   "metadata": {},
   "outputs": [
    {
     "data": {
      "text/plain": [
       "-1.1571598976356157"
      ]
     },
     "execution_count": 16,
     "metadata": {},
     "output_type": "execute_result"
    }
   ],
   "source": [
    "#Kurtosis of quantitative data\n",
    "(univquan[\"StudentAge\"]).kurt()\n",
    "\n",
    "#The value below indicates how the peak and the tails of the distribution differ from the normal distribution\n",
    "#since the kurtosis is less than zero,the data is not normally distributed\n",
    "#The data exhibits a negative kurtosis "
   ]
  },
  {
   "cell_type": "code",
   "execution_count": 34,
   "id": "49b5a98e",
   "metadata": {},
   "outputs": [
    {
     "data": {
      "image/png": "[encoded data removed]",
      "text/plain": [
       "<Figure size 432x288 with 1 Axes>"
      ]
     },
     "metadata": {
      "needs_background": "light"
     },
     "output_type": "display_data"
    }
   ],
   "source": [
    "#Distribution plot\n",
    "sns.distplot(univquan[\"StudentAge\"], bins = 10 , kde = True) \n",
    "#Kernel Density Estimation (kde)\n",
    "plt.show()\n",
    "\n",
    "\n",
    "#From the distrsibution plot below,the data is bimodal because there is more than one mode(19 and 24).Therefore,we may identify that the sample includes data from two populations."
   ]
  },
  {
   "cell_type": "code",
   "execution_count": 40,
   "id": "508d5e80",
   "metadata": {},
   "outputs": [
    {
     "data": {
      "image/png": "[encoded data removed]",
      "text/plain": [
       "<Figure size 432x288 with 1 Axes>"
      ]
     },
     "metadata": {
      "needs_background": "light"
     },
     "output_type": "display_data"
    }
   ],
   "source": [
    "_, bins, _ = plt.hist(univquan, 10 , density=1, alpha=0.5) #to create a histogram from the dataset with 10 bins and store an array specifying the bin ranges in the variable \"bins\"\n",
    "\n",
    "mu, sigma = stats.norm.fit(univquan) #to get the mean and standard deviation of data\n",
    "best_fit_line = stats.norm.pdf(bins, mu, sigma) #to get a line of best fit for the data\n",
    "plt.plot(bins, best_fit_line)\n",
    "plt.show()\n",
    "\n",
    "\n",
    "\n",
    "#From the histogram below,the data does not follow a normal distribution because it is neither symmetric nor bell-shaped"
   ]
  },
  {
   "cell_type": "code",
   "execution_count": null,
   "id": "d68c49f0",
   "metadata": {},
   "outputs": [],
   "source": []
  }
 ],
 "metadata": {
  "kernelspec": {
   "display_name": "Python 3",
   "language": "python",
   "name": "python3"
  },
  "language_info": {
   "codemirror_mode": {
    "name": "ipython",
    "version": 3
   },
   "file_extension": ".py",
   "mimetype": "text/x-python",
   "name": "python",
   "nbconvert_exporter": "python",
   "pygments_lexer": "ipython3",
   "version": "3.8.8"
  }
 },
 "nbformat": 4,
 "nbformat_minor": 5
}
