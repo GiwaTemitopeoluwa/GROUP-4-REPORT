{
 "cells": [
  {
   "cell_type": "markdown",
   "id": "48358c1a",
   "metadata": {},
   "source": [
    "# Descriptive Statistics And Visual Representation Of The Simulated Qualitative Bivariate Data"
   ]
  },
  {
   "cell_type": "code",
   "execution_count": 27,
   "id": "f74ab407",
   "metadata": {},
   "outputs": [],
   "source": [
    "import pandas as pd\n",
    "import numpy as np\n",
    "import matplotlib.pyplot as plt\n",
    "import math\n",
    "import os\n",
    "import sidetable as stb\n",
    "import statistics\n",
    "import seaborn as sns\n",
    "from statsmodels.graphics.mosaicplot import mosaic\n",
    "\n",
    "os.chdir(\"C:/Users/user/Desktop/STA413 GIWA/Python class\")"
   ]
  },
  {
   "cell_type": "code",
   "execution_count": 2,
   "id": "558ec98c",
   "metadata": {},
   "outputs": [
    {
     "data": {
      "text/plain": [
       "'C:\\\\Users\\\\user\\\\Desktop\\\\STA413 GIWA\\\\Python class'"
      ]
     },
     "execution_count": 2,
     "metadata": {},
     "output_type": "execute_result"
    }
   ],
   "source": [
    "path = os.getcwd()\n",
    "path"
   ]
  },
  {
   "cell_type": "code",
   "execution_count": 31,
   "id": "5f155c99",
   "metadata": {},
   "outputs": [
    {
     "data": {
      "text/html": [
       "<div>\n",
       "<style scoped>\n",
       "    .dataframe tbody tr th:only-of-type {\n",
       "        vertical-align: middle;\n",
       "    }\n",
       "\n",
       "    .dataframe tbody tr th {\n",
       "        vertical-align: top;\n",
       "    }\n",
       "\n",
       "    .dataframe thead th {\n",
       "        text-align: right;\n",
       "    }\n",
       "</style>\n",
       "<table border=\"1\" class=\"dataframe\">\n",
       "  <thead>\n",
       "    <tr style=\"text-align: right;\">\n",
       "      <th></th>\n",
       "      <th>Hair Color</th>\n",
       "      <th>BMI Status</th>\n",
       "    </tr>\n",
       "  </thead>\n",
       "  <tbody>\n",
       "    <tr>\n",
       "      <th>0</th>\n",
       "      <td>Red</td>\n",
       "      <td>NORMAL</td>\n",
       "    </tr>\n",
       "    <tr>\n",
       "      <th>1</th>\n",
       "      <td>Brunette</td>\n",
       "      <td>NORMAL</td>\n",
       "    </tr>\n",
       "    <tr>\n",
       "      <th>2</th>\n",
       "      <td>Red</td>\n",
       "      <td>UNDERWEIGHT</td>\n",
       "    </tr>\n",
       "    <tr>\n",
       "      <th>3</th>\n",
       "      <td>Blonde</td>\n",
       "      <td>UNDERWEIGHT</td>\n",
       "    </tr>\n",
       "    <tr>\n",
       "      <th>4</th>\n",
       "      <td>Brunette</td>\n",
       "      <td>NORMAL</td>\n",
       "    </tr>\n",
       "  </tbody>\n",
       "</table>\n",
       "</div>"
      ],
      "text/plain": [
       "  Hair Color   BMI Status\n",
       "0        Red       NORMAL\n",
       "1   Brunette       NORMAL\n",
       "2        Red  UNDERWEIGHT\n",
       "3     Blonde  UNDERWEIGHT\n",
       "4   Brunette       NORMAL"
      ]
     },
     "execution_count": 31,
     "metadata": {},
     "output_type": "execute_result"
    }
   ],
   "source": [
    "univqualdoub = pd.read_excel(\"Assignment 3.xlsx\")\n",
    "univqualdoub.head()"
   ]
  },
  {
   "cell_type": "code",
   "execution_count": 30,
   "id": "c609618b",
   "metadata": {},
   "outputs": [
    {
     "data": {
      "text/html": [
       "<div>\n",
       "<style scoped>\n",
       "    .dataframe tbody tr th:only-of-type {\n",
       "        vertical-align: middle;\n",
       "    }\n",
       "\n",
       "    .dataframe tbody tr th {\n",
       "        vertical-align: top;\n",
       "    }\n",
       "\n",
       "    .dataframe thead th {\n",
       "        text-align: right;\n",
       "    }\n",
       "</style>\n",
       "<table border=\"1\" class=\"dataframe\">\n",
       "  <thead>\n",
       "    <tr style=\"text-align: right;\">\n",
       "      <th></th>\n",
       "      <th>Hair Color</th>\n",
       "      <th>BMI Status</th>\n",
       "    </tr>\n",
       "  </thead>\n",
       "  <tbody>\n",
       "    <tr>\n",
       "      <th>count</th>\n",
       "      <td>250</td>\n",
       "      <td>250</td>\n",
       "    </tr>\n",
       "    <tr>\n",
       "      <th>unique</th>\n",
       "      <td>4</td>\n",
       "      <td>5</td>\n",
       "    </tr>\n",
       "    <tr>\n",
       "      <th>top</th>\n",
       "      <td>Blonde</td>\n",
       "      <td>UNDERWEIGHT</td>\n",
       "    </tr>\n",
       "    <tr>\n",
       "      <th>freq</th>\n",
       "      <td>69</td>\n",
       "      <td>86</td>\n",
       "    </tr>\n",
       "  </tbody>\n",
       "</table>\n",
       "</div>"
      ],
      "text/plain": [
       "       Hair Color   BMI Status\n",
       "count         250          250\n",
       "unique          4            5\n",
       "top        Blonde  UNDERWEIGHT\n",
       "freq           69           86"
      ]
     },
     "execution_count": 30,
     "metadata": {},
     "output_type": "execute_result"
    }
   ],
   "source": [
    "univqualdoub.describe(include = \"all\")"
   ]
  },
  {
   "cell_type": "code",
   "execution_count": 5,
   "id": "4e0f5a34",
   "metadata": {},
   "outputs": [
    {
     "name": "stdout",
     "output_type": "stream",
     "text": [
      "<class 'pandas.core.frame.DataFrame'>\n",
      "RangeIndex: 250 entries, 0 to 249\n",
      "Data columns (total 2 columns):\n",
      " #   Column      Non-Null Count  Dtype \n",
      "---  ------      --------------  ----- \n",
      " 0   Hair Color  250 non-null    object\n",
      " 1   BMI Status  250 non-null    object\n",
      "dtypes: object(2)\n",
      "memory usage: 4.0+ KB\n"
     ]
    }
   ],
   "source": [
    "univqualdoub.info()"
   ]
  },
  {
   "cell_type": "code",
   "execution_count": 25,
   "id": "8d8a93b1",
   "metadata": {},
   "outputs": [
    {
     "name": "stdout",
     "output_type": "stream",
     "text": [
      "BMI Status  EXTREMELY OBESE  NORMAL  OBESE  OVERWEIGHT  UNDERWEIGHT\n",
      "Hair Color                                                         \n",
      "Blonde                    0      21     12           9           27\n",
      "Brown                     1      11      9          13           20\n",
      "Brunette                  0      23      6          14           16\n",
      "Red                       2      19      8          16           23\n"
     ]
    }
   ],
   "source": [
    "#Crosstabulation of two categorical variables for the chi-square test\n",
    "table = pd.crosstab(univqualdoub[\"Hair Color\"],\n",
    "                            univqualdoub['BMI Status\"],\n",
    "                               margins = False)\n",
    "print(table)"
   ]
  },
  {
   "cell_type": "code",
   "execution_count": 7,
   "id": "031ca274",
   "metadata": {},
   "outputs": [
    {
     "data": {
      "text/html": [
       "<div>\n",
       "<style scoped>\n",
       "    .dataframe tbody tr th:only-of-type {\n",
       "        vertical-align: middle;\n",
       "    }\n",
       "\n",
       "    .dataframe tbody tr th {\n",
       "        vertical-align: top;\n",
       "    }\n",
       "\n",
       "    .dataframe thead th {\n",
       "        text-align: right;\n",
       "    }\n",
       "</style>\n",
       "<table border=\"1\" class=\"dataframe\">\n",
       "  <thead>\n",
       "    <tr style=\"text-align: right;\">\n",
       "      <th></th>\n",
       "      <th>Hair Color</th>\n",
       "      <th>BMI Status</th>\n",
       "    </tr>\n",
       "  </thead>\n",
       "  <tbody>\n",
       "    <tr>\n",
       "      <th>0</th>\n",
       "      <td>Blonde</td>\n",
       "      <td>UNDERWEIGHT</td>\n",
       "    </tr>\n",
       "  </tbody>\n",
       "</table>\n",
       "</div>"
      ],
      "text/plain": [
       "  Hair Color   BMI Status\n",
       "0     Blonde  UNDERWEIGHT"
      ]
     },
     "execution_count": 7,
     "metadata": {},
     "output_type": "execute_result"
    }
   ],
   "source": [
    "univqualdoub.mode()"
   ]
  },
  {
   "cell_type": "code",
   "execution_count": 29,
   "id": "4da40c38",
   "metadata": {},
   "outputs": [
    {
     "name": "stdout",
     "output_type": "stream",
     "text": [
      "BMI Status  EXTREMELY OBESE  NORMAL  OBESE  OVERWEIGHT  UNDERWEIGHT\n",
      "Hair Color                                                         \n",
      "Blonde                    0      21     12           9           27\n",
      "Brown                     1      11      9          13           20\n",
      "Brunette                  0      23      6          14           16\n",
      "Red                       2      19      8          16           23\n",
      "dof=12\n",
      "probability = 0.950, critical = 21.026, stat = 12.771\n",
      "Independent (fail to reject H0)\n",
      "significance = 0.050, p = 0.386\n",
      "Independent (fail to reject H0)\n"
     ]
    }
   ],
   "source": [
    "# chi-squared test\n",
    "from scipy.stats import chi2_contingency\n",
    "from scipy.stats import chi2\n",
    "# contingency table\n",
    "table1 = table\n",
    "print(table1)\n",
    "teststatistic, pvalue , dof, expectedfreq = chi2_contingency(table1)\n",
    "print(\"dof=%d\" % dof)\n",
    "# %d means integer\n",
    "# interpret test-statistic\n",
    "prob = 0.95\n",
    "critical = chi2.ppf(prob, dof)\n",
    "#ppf - Percent point function\n",
    "print(\"probability = %.3f, critical = %.3f, stat = %.3f\" % (prob, critical, teststatistic))\n",
    "if abs(teststatistic) >= critical:\n",
    "    print(\"Dependent (reject H0)\")\n",
    "else:\n",
    "    print(\"Independent (fail to reject H0)\")\n",
    "# interpret p-value\n",
    "alpha = 1.0 - prob\n",
    "print(\"significance = %.3f, p = %.3f\" % (alpha, pvalue))\n",
    "if pvalue <= alpha:\n",
    "    print(\"Dependent (reject H0)\")\n",
    "else:\n",
    "    print(\"Independent (fail to reject H0)\")"
   ]
  },
  {
   "cell_type": "code",
   "execution_count": 34,
   "id": "f8738c30",
   "metadata": {},
   "outputs": [
    {
     "data": {
      "image/png": "[encoded data removed]",
      "text/plain": [
       "<Figure size 585.475x504 with 1 Axes>"
      ]
     },
     "metadata": {},
     "output_type": "display_data"
    }
   ],
   "source": [
    "#grouped bar charts\n",
    "sns.catplot(x = \"BMI Status\", hue = \"Hair Color\", kind = \"count\", data = univqualdoub , height = 7)\n",
    "plt.show()\n"
   ]
  },
  {
   "cell_type": "code",
   "execution_count": 11,
   "id": "bec53d23",
   "metadata": {},
   "outputs": [
    {
     "data": {
      "image/png": "[encoded data removed]",
      "text/plain": [
       "<Figure size 1440x576 with 3 Axes>"
      ]
     },
     "metadata": {},
     "output_type": "display_data"
    }
   ],
   "source": [
    "mosaic(data=univqualdoub, index=[\"BMI Status\", \"Hair Color\"])\n",
    "sns.set(rc = {'figure.figsize':(20,8)})\n",
    "plt.show()\n",
    "\n",
    "#The mosaic plot shows that underweight blonde students have the highest proportion"
   ]
  },
  {
   "cell_type": "code",
   "execution_count": null,
   "id": "d14affab",
   "metadata": {},
   "outputs": [],
   "source": []
  }
 ],
 "metadata": {
  "kernelspec": {
   "display_name": "Python 3",
   "language": "python",
   "name": "python3"
  },
  "language_info": {
   "codemirror_mode": {
    "name": "ipython",
    "version": 3
   },
   "file_extension": ".py",
   "mimetype": "text/x-python",
   "name": "python",
   "nbconvert_exporter": "python",
   "pygments_lexer": "ipython3",
   "version": "3.8.8"
  }
 },
 "nbformat": 4,
 "nbformat_minor": 5
}
