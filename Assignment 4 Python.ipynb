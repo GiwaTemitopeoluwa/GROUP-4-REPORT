{
 "cells": [
  {
   "cell_type": "markdown",
   "id": "1ba3f427",
   "metadata": {},
   "source": [
    "# Descriptive Statistics And Visual Representation Of The Simulated Quantitative Bivariate Data"
   ]
  },
  {
   "cell_type": "code",
   "execution_count": 1,
   "id": "3a4daba0",
   "metadata": {},
   "outputs": [],
   "source": [
    "import pandas as pd\n",
    "import numpy as np\n",
    "import matplotlib.pyplot as plt\n",
    "import math\n",
    "import os\n",
    "import sidetable as stb\n",
    "import statistics\n",
    "import seaborn as sns\n",
    "\n",
    "os.chdir(\"C:/Users/user/Desktop/STA413 GIWA/Python class\")"
   ]
  },
  {
   "cell_type": "code",
   "execution_count": 2,
   "id": "64e08742",
   "metadata": {},
   "outputs": [
    {
     "data": {
      "text/plain": [
       "'C:\\\\Users\\\\user\\\\Desktop\\\\STA413 GIWA\\\\Python class'"
      ]
     },
     "execution_count": 2,
     "metadata": {},
     "output_type": "execute_result"
    }
   ],
   "source": [
    "path = os.getcwd()\n",
    "path"
   ]
  },
  {
   "cell_type": "code",
   "execution_count": 3,
   "id": "18c6e447",
   "metadata": {},
   "outputs": [
    {
     "data": {
      "text/html": [
       "<div>\n",
       "<style scoped>\n",
       "    .dataframe tbody tr th:only-of-type {\n",
       "        vertical-align: middle;\n",
       "    }\n",
       "\n",
       "    .dataframe tbody tr th {\n",
       "        vertical-align: top;\n",
       "    }\n",
       "\n",
       "    .dataframe thead th {\n",
       "        text-align: right;\n",
       "    }\n",
       "</style>\n",
       "<table border=\"1\" class=\"dataframe\">\n",
       "  <thead>\n",
       "    <tr style=\"text-align: right;\">\n",
       "      <th></th>\n",
       "      <th>StudentAge</th>\n",
       "      <th>StudentWeight</th>\n",
       "    </tr>\n",
       "  </thead>\n",
       "  <tbody>\n",
       "    <tr>\n",
       "      <th>0</th>\n",
       "      <td>24</td>\n",
       "      <td>63.70</td>\n",
       "    </tr>\n",
       "    <tr>\n",
       "      <th>1</th>\n",
       "      <td>26</td>\n",
       "      <td>88.77</td>\n",
       "    </tr>\n",
       "    <tr>\n",
       "      <th>2</th>\n",
       "      <td>24</td>\n",
       "      <td>60.97</td>\n",
       "    </tr>\n",
       "    <tr>\n",
       "      <th>3</th>\n",
       "      <td>26</td>\n",
       "      <td>67.79</td>\n",
       "    </tr>\n",
       "    <tr>\n",
       "      <th>4</th>\n",
       "      <td>21</td>\n",
       "      <td>86.29</td>\n",
       "    </tr>\n",
       "  </tbody>\n",
       "</table>\n",
       "</div>"
      ],
      "text/plain": [
       "   StudentAge  StudentWeight\n",
       "0          24          63.70\n",
       "1          26          88.77\n",
       "2          24          60.97\n",
       "3          26          67.79\n",
       "4          21          86.29"
      ]
     },
     "execution_count": 3,
     "metadata": {},
     "output_type": "execute_result"
    }
   ],
   "source": [
    "univquandoub = pd.read_excel(\"Assignment 4.xlsx\")\n",
    "univquandoub.head()"
   ]
  },
  {
   "cell_type": "code",
   "execution_count": 4,
   "id": "b2b03e44",
   "metadata": {},
   "outputs": [
    {
     "data": {
      "text/html": [
       "<div>\n",
       "<style scoped>\n",
       "    .dataframe tbody tr th:only-of-type {\n",
       "        vertical-align: middle;\n",
       "    }\n",
       "\n",
       "    .dataframe tbody tr th {\n",
       "        vertical-align: top;\n",
       "    }\n",
       "\n",
       "    .dataframe thead th {\n",
       "        text-align: right;\n",
       "    }\n",
       "</style>\n",
       "<table border=\"1\" class=\"dataframe\">\n",
       "  <thead>\n",
       "    <tr style=\"text-align: right;\">\n",
       "      <th></th>\n",
       "      <th>StudentAge</th>\n",
       "      <th>StudentWeight</th>\n",
       "    </tr>\n",
       "  </thead>\n",
       "  <tbody>\n",
       "    <tr>\n",
       "      <th>count</th>\n",
       "      <td>250.000000</td>\n",
       "      <td>250.000000</td>\n",
       "    </tr>\n",
       "    <tr>\n",
       "      <th>mean</th>\n",
       "      <td>22.028000</td>\n",
       "      <td>75.401920</td>\n",
       "    </tr>\n",
       "    <tr>\n",
       "      <th>std</th>\n",
       "      <td>3.216926</td>\n",
       "      <td>8.670352</td>\n",
       "    </tr>\n",
       "    <tr>\n",
       "      <th>min</th>\n",
       "      <td>16.000000</td>\n",
       "      <td>60.130000</td>\n",
       "    </tr>\n",
       "    <tr>\n",
       "      <th>25%</th>\n",
       "      <td>19.000000</td>\n",
       "      <td>67.932500</td>\n",
       "    </tr>\n",
       "    <tr>\n",
       "      <th>50%</th>\n",
       "      <td>22.000000</td>\n",
       "      <td>75.930000</td>\n",
       "    </tr>\n",
       "    <tr>\n",
       "      <th>75%</th>\n",
       "      <td>25.000000</td>\n",
       "      <td>83.362500</td>\n",
       "    </tr>\n",
       "    <tr>\n",
       "      <th>max</th>\n",
       "      <td>27.000000</td>\n",
       "      <td>89.910000</td>\n",
       "    </tr>\n",
       "  </tbody>\n",
       "</table>\n",
       "</div>"
      ],
      "text/plain": [
       "       StudentAge  StudentWeight\n",
       "count  250.000000     250.000000\n",
       "mean    22.028000      75.401920\n",
       "std      3.216926       8.670352\n",
       "min     16.000000      60.130000\n",
       "25%     19.000000      67.932500\n",
       "50%     22.000000      75.930000\n",
       "75%     25.000000      83.362500\n",
       "max     27.000000      89.910000"
      ]
     },
     "execution_count": 4,
     "metadata": {},
     "output_type": "execute_result"
    }
   ],
   "source": [
    "univquandoub.describe(include = \"all\")"
   ]
  },
  {
   "cell_type": "code",
   "execution_count": 5,
   "id": "cfcb98d6",
   "metadata": {},
   "outputs": [
    {
     "name": "stdout",
     "output_type": "stream",
     "text": [
      "<class 'pandas.core.frame.DataFrame'>\n",
      "RangeIndex: 250 entries, 0 to 249\n",
      "Data columns (total 2 columns):\n",
      " #   Column         Non-Null Count  Dtype  \n",
      "---  ------         --------------  -----  \n",
      " 0   StudentAge     250 non-null    int64  \n",
      " 1   StudentWeight  250 non-null    float64\n",
      "dtypes: float64(1), int64(1)\n",
      "memory usage: 4.0 KB\n"
     ]
    }
   ],
   "source": [
    "univquandoub.info()"
   ]
  },
  {
   "cell_type": "code",
   "execution_count": 28,
   "id": "d4841767",
   "metadata": {},
   "outputs": [
    {
     "name": "stdout",
     "output_type": "stream",
     "text": [
      "-0.046456420529118365\n",
      "There is a negative correlation\n"
     ]
    }
   ],
   "source": [
    "from scipy.stats import pearsonr\n",
    "corr , twotailpval = pearsonr(univquandoub[\"StudentAge\"], univquandoub[\"StudentWeight\"])\n",
    "print(corr)\n",
    "\n",
    "if (corr < 0):\n",
    "    print(\"There is a negative correlation\")\n",
    "elif(corr < 1):\n",
    "    print(\"There is a positive correlation\") \n",
    "elif(corr == 0):\n",
    "    print(\"There is a zero correlation\")\n",
    "elif(corr == -1):\n",
    "    print(\"There is a perfect negative correlation\") \n",
    "elif(corr == 1):\n",
    "    print(\"There is a perfect positive correlation\")    \n",
    "    \n",
    "    \n",
    "    \n",
    "#From the value below,there is clearly a weak negative relationship between the student ages and the student weights.\n",
    "#There is linearity between the student ages and their weights."
   ]
  },
  {
   "cell_type": "code",
   "execution_count": 8,
   "id": "16cc3fcf",
   "metadata": {},
   "outputs": [
    {
     "data": {
      "text/plain": [
       "-0.19621098793141006"
      ]
     },
     "execution_count": 8,
     "metadata": {},
     "output_type": "execute_result"
    }
   ],
   "source": [
    "(univquandoub[\"StudentAge\"]).skew()"
   ]
  },
  {
   "cell_type": "code",
   "execution_count": 9,
   "id": "35d567b8",
   "metadata": {},
   "outputs": [
    {
     "data": {
      "text/plain": [
       "-1.1571598976356157"
      ]
     },
     "execution_count": 9,
     "metadata": {},
     "output_type": "execute_result"
    }
   ],
   "source": [
    "(univquandoub[\"StudentAge\"]).kurt()"
   ]
  },
  {
   "cell_type": "code",
   "execution_count": 10,
   "id": "38d2e539",
   "metadata": {},
   "outputs": [
    {
     "data": {
      "text/plain": [
       "-0.12220359233364465"
      ]
     },
     "execution_count": 10,
     "metadata": {},
     "output_type": "execute_result"
    }
   ],
   "source": [
    "(univquandoub[\"StudentWeight\"]).skew()"
   ]
  },
  {
   "cell_type": "code",
   "execution_count": 11,
   "id": "e1faf6d6",
   "metadata": {},
   "outputs": [
    {
     "data": {
      "text/plain": [
       "-1.2125186025082717"
      ]
     },
     "execution_count": 11,
     "metadata": {},
     "output_type": "execute_result"
    }
   ],
   "source": [
    "(univquandoub[\"StudentWeight\"]).kurt()"
   ]
  },
  {
   "cell_type": "code",
   "execution_count": 12,
   "id": "e8f9a683",
   "metadata": {},
   "outputs": [
    {
     "data": {
      "text/html": [
       "<div>\n",
       "<style scoped>\n",
       "    .dataframe tbody tr th:only-of-type {\n",
       "        vertical-align: middle;\n",
       "    }\n",
       "\n",
       "    .dataframe tbody tr th {\n",
       "        vertical-align: top;\n",
       "    }\n",
       "\n",
       "    .dataframe thead th {\n",
       "        text-align: right;\n",
       "    }\n",
       "</style>\n",
       "<table border=\"1\" class=\"dataframe\">\n",
       "  <thead>\n",
       "    <tr style=\"text-align: right;\">\n",
       "      <th></th>\n",
       "      <th>StudentAge</th>\n",
       "      <th>count</th>\n",
       "      <th>percent</th>\n",
       "      <th>cumulative_count</th>\n",
       "      <th>cumulative_percent</th>\n",
       "    </tr>\n",
       "  </thead>\n",
       "  <tbody>\n",
       "    <tr>\n",
       "      <th>0</th>\n",
       "      <td>24</td>\n",
       "      <td>30</td>\n",
       "      <td>12.0</td>\n",
       "      <td>30</td>\n",
       "      <td>12.0</td>\n",
       "    </tr>\n",
       "    <tr>\n",
       "      <th>1</th>\n",
       "      <td>26</td>\n",
       "      <td>29</td>\n",
       "      <td>11.6</td>\n",
       "      <td>59</td>\n",
       "      <td>23.6</td>\n",
       "    </tr>\n",
       "    <tr>\n",
       "      <th>2</th>\n",
       "      <td>25</td>\n",
       "      <td>26</td>\n",
       "      <td>10.4</td>\n",
       "      <td>85</td>\n",
       "      <td>34.0</td>\n",
       "    </tr>\n",
       "    <tr>\n",
       "      <th>3</th>\n",
       "      <td>20</td>\n",
       "      <td>25</td>\n",
       "      <td>10.0</td>\n",
       "      <td>110</td>\n",
       "      <td>44.0</td>\n",
       "    </tr>\n",
       "    <tr>\n",
       "      <th>4</th>\n",
       "      <td>18</td>\n",
       "      <td>23</td>\n",
       "      <td>9.2</td>\n",
       "      <td>133</td>\n",
       "      <td>53.2</td>\n",
       "    </tr>\n",
       "    <tr>\n",
       "      <th>5</th>\n",
       "      <td>23</td>\n",
       "      <td>22</td>\n",
       "      <td>8.8</td>\n",
       "      <td>155</td>\n",
       "      <td>62.0</td>\n",
       "    </tr>\n",
       "    <tr>\n",
       "      <th>6</th>\n",
       "      <td>22</td>\n",
       "      <td>21</td>\n",
       "      <td>8.4</td>\n",
       "      <td>176</td>\n",
       "      <td>70.4</td>\n",
       "    </tr>\n",
       "    <tr>\n",
       "      <th>7</th>\n",
       "      <td>21</td>\n",
       "      <td>17</td>\n",
       "      <td>6.8</td>\n",
       "      <td>193</td>\n",
       "      <td>77.2</td>\n",
       "    </tr>\n",
       "    <tr>\n",
       "      <th>8</th>\n",
       "      <td>19</td>\n",
       "      <td>17</td>\n",
       "      <td>6.8</td>\n",
       "      <td>210</td>\n",
       "      <td>84.0</td>\n",
       "    </tr>\n",
       "    <tr>\n",
       "      <th>9</th>\n",
       "      <td>17</td>\n",
       "      <td>16</td>\n",
       "      <td>6.4</td>\n",
       "      <td>226</td>\n",
       "      <td>90.4</td>\n",
       "    </tr>\n",
       "    <tr>\n",
       "      <th>10</th>\n",
       "      <td>27</td>\n",
       "      <td>15</td>\n",
       "      <td>6.0</td>\n",
       "      <td>241</td>\n",
       "      <td>96.4</td>\n",
       "    </tr>\n",
       "    <tr>\n",
       "      <th>11</th>\n",
       "      <td>16</td>\n",
       "      <td>9</td>\n",
       "      <td>3.6</td>\n",
       "      <td>250</td>\n",
       "      <td>100.0</td>\n",
       "    </tr>\n",
       "  </tbody>\n",
       "</table>\n",
       "</div>"
      ],
      "text/plain": [
       "    StudentAge  count  percent  cumulative_count  cumulative_percent\n",
       "0           24     30     12.0                30                12.0\n",
       "1           26     29     11.6                59                23.6\n",
       "2           25     26     10.4                85                34.0\n",
       "3           20     25     10.0               110                44.0\n",
       "4           18     23      9.2               133                53.2\n",
       "5           23     22      8.8               155                62.0\n",
       "6           22     21      8.4               176                70.4\n",
       "7           21     17      6.8               193                77.2\n",
       "8           19     17      6.8               210                84.0\n",
       "9           17     16      6.4               226                90.4\n",
       "10          27     15      6.0               241                96.4\n",
       "11          16      9      3.6               250               100.0"
      ]
     },
     "execution_count": 12,
     "metadata": {},
     "output_type": "execute_result"
    }
   ],
   "source": [
    "univquandoub.stb.freq([\"StudentAge\"])"
   ]
  },
  {
   "cell_type": "code",
   "execution_count": 13,
   "id": "80189b84",
   "metadata": {},
   "outputs": [
    {
     "data": {
      "text/html": [
       "<div>\n",
       "<style scoped>\n",
       "    .dataframe tbody tr th:only-of-type {\n",
       "        vertical-align: middle;\n",
       "    }\n",
       "\n",
       "    .dataframe tbody tr th {\n",
       "        vertical-align: top;\n",
       "    }\n",
       "\n",
       "    .dataframe thead th {\n",
       "        text-align: right;\n",
       "    }\n",
       "</style>\n",
       "<table border=\"1\" class=\"dataframe\">\n",
       "  <thead>\n",
       "    <tr style=\"text-align: right;\">\n",
       "      <th></th>\n",
       "      <th>StudentWeight</th>\n",
       "      <th>count</th>\n",
       "      <th>percent</th>\n",
       "      <th>cumulative_count</th>\n",
       "      <th>cumulative_percent</th>\n",
       "    </tr>\n",
       "  </thead>\n",
       "  <tbody>\n",
       "    <tr>\n",
       "      <th>0</th>\n",
       "      <td>81.20</td>\n",
       "      <td>2</td>\n",
       "      <td>0.8</td>\n",
       "      <td>2</td>\n",
       "      <td>0.8</td>\n",
       "    </tr>\n",
       "    <tr>\n",
       "      <th>1</th>\n",
       "      <td>72.51</td>\n",
       "      <td>2</td>\n",
       "      <td>0.8</td>\n",
       "      <td>4</td>\n",
       "      <td>1.6</td>\n",
       "    </tr>\n",
       "    <tr>\n",
       "      <th>2</th>\n",
       "      <td>89.91</td>\n",
       "      <td>1</td>\n",
       "      <td>0.4</td>\n",
       "      <td>5</td>\n",
       "      <td>2.0</td>\n",
       "    </tr>\n",
       "    <tr>\n",
       "      <th>3</th>\n",
       "      <td>89.88</td>\n",
       "      <td>1</td>\n",
       "      <td>0.4</td>\n",
       "      <td>6</td>\n",
       "      <td>2.4</td>\n",
       "    </tr>\n",
       "    <tr>\n",
       "      <th>4</th>\n",
       "      <td>89.86</td>\n",
       "      <td>1</td>\n",
       "      <td>0.4</td>\n",
       "      <td>7</td>\n",
       "      <td>2.8</td>\n",
       "    </tr>\n",
       "    <tr>\n",
       "      <th>...</th>\n",
       "      <td>...</td>\n",
       "      <td>...</td>\n",
       "      <td>...</td>\n",
       "      <td>...</td>\n",
       "      <td>...</td>\n",
       "    </tr>\n",
       "    <tr>\n",
       "      <th>243</th>\n",
       "      <td>60.49</td>\n",
       "      <td>1</td>\n",
       "      <td>0.4</td>\n",
       "      <td>246</td>\n",
       "      <td>98.4</td>\n",
       "    </tr>\n",
       "    <tr>\n",
       "      <th>244</th>\n",
       "      <td>60.48</td>\n",
       "      <td>1</td>\n",
       "      <td>0.4</td>\n",
       "      <td>247</td>\n",
       "      <td>98.8</td>\n",
       "    </tr>\n",
       "    <tr>\n",
       "      <th>245</th>\n",
       "      <td>60.47</td>\n",
       "      <td>1</td>\n",
       "      <td>0.4</td>\n",
       "      <td>248</td>\n",
       "      <td>99.2</td>\n",
       "    </tr>\n",
       "    <tr>\n",
       "      <th>246</th>\n",
       "      <td>60.33</td>\n",
       "      <td>1</td>\n",
       "      <td>0.4</td>\n",
       "      <td>249</td>\n",
       "      <td>99.6</td>\n",
       "    </tr>\n",
       "    <tr>\n",
       "      <th>247</th>\n",
       "      <td>60.13</td>\n",
       "      <td>1</td>\n",
       "      <td>0.4</td>\n",
       "      <td>250</td>\n",
       "      <td>100.0</td>\n",
       "    </tr>\n",
       "  </tbody>\n",
       "</table>\n",
       "<p>248 rows × 5 columns</p>\n",
       "</div>"
      ],
      "text/plain": [
       "     StudentWeight  count  percent  cumulative_count  cumulative_percent\n",
       "0            81.20      2      0.8                 2                 0.8\n",
       "1            72.51      2      0.8                 4                 1.6\n",
       "2            89.91      1      0.4                 5                 2.0\n",
       "3            89.88      1      0.4                 6                 2.4\n",
       "4            89.86      1      0.4                 7                 2.8\n",
       "..             ...    ...      ...               ...                 ...\n",
       "243          60.49      1      0.4               246                98.4\n",
       "244          60.48      1      0.4               247                98.8\n",
       "245          60.47      1      0.4               248                99.2\n",
       "246          60.33      1      0.4               249                99.6\n",
       "247          60.13      1      0.4               250               100.0\n",
       "\n",
       "[248 rows x 5 columns]"
      ]
     },
     "execution_count": 13,
     "metadata": {},
     "output_type": "execute_result"
    }
   ],
   "source": [
    "univquandoub.stb.freq([\"StudentWeight\"])"
   ]
  },
  {
   "cell_type": "code",
   "execution_count": 14,
   "id": "3c5b051f",
   "metadata": {},
   "outputs": [
    {
     "data": {
      "text/plain": [
       "StudentAge       22.00\n",
       "StudentWeight    75.93\n",
       "dtype: float64"
      ]
     },
     "execution_count": 14,
     "metadata": {},
     "output_type": "execute_result"
    }
   ],
   "source": [
    "univquandoub.median()"
   ]
  },
  {
   "cell_type": "code",
   "execution_count": 15,
   "id": "3e3d3009",
   "metadata": {},
   "outputs": [
    {
     "data": {
      "text/html": [
       "<div>\n",
       "<style scoped>\n",
       "    .dataframe tbody tr th:only-of-type {\n",
       "        vertical-align: middle;\n",
       "    }\n",
       "\n",
       "    .dataframe tbody tr th {\n",
       "        vertical-align: top;\n",
       "    }\n",
       "\n",
       "    .dataframe thead th {\n",
       "        text-align: right;\n",
       "    }\n",
       "</style>\n",
       "<table border=\"1\" class=\"dataframe\">\n",
       "  <thead>\n",
       "    <tr style=\"text-align: right;\">\n",
       "      <th></th>\n",
       "      <th>StudentAge</th>\n",
       "      <th>StudentWeight</th>\n",
       "    </tr>\n",
       "  </thead>\n",
       "  <tbody>\n",
       "    <tr>\n",
       "      <th>0</th>\n",
       "      <td>24.0</td>\n",
       "      <td>72.51</td>\n",
       "    </tr>\n",
       "    <tr>\n",
       "      <th>1</th>\n",
       "      <td>NaN</td>\n",
       "      <td>81.20</td>\n",
       "    </tr>\n",
       "  </tbody>\n",
       "</table>\n",
       "</div>"
      ],
      "text/plain": [
       "   StudentAge  StudentWeight\n",
       "0        24.0          72.51\n",
       "1         NaN          81.20"
      ]
     },
     "execution_count": 15,
     "metadata": {},
     "output_type": "execute_result"
    }
   ],
   "source": [
    "univquandoub.mode()"
   ]
  },
  {
   "cell_type": "code",
   "execution_count": 16,
   "id": "b185797a",
   "metadata": {},
   "outputs": [
    {
     "data": {
      "text/plain": [
       "27"
      ]
     },
     "execution_count": 16,
     "metadata": {},
     "output_type": "execute_result"
    }
   ],
   "source": [
    "maxAge = max(univquandoub[\"StudentAge\"])\n",
    "maxAge"
   ]
  },
  {
   "cell_type": "code",
   "execution_count": 17,
   "id": "17e0a087",
   "metadata": {},
   "outputs": [
    {
     "data": {
      "text/plain": [
       "16"
      ]
     },
     "execution_count": 17,
     "metadata": {},
     "output_type": "execute_result"
    }
   ],
   "source": [
    "minAge = min(univquandoub[\"StudentAge\"])\n",
    "minAge"
   ]
  },
  {
   "cell_type": "code",
   "execution_count": 18,
   "id": "c97c91bf",
   "metadata": {},
   "outputs": [
    {
     "name": "stdout",
     "output_type": "stream",
     "text": [
      "11\n"
     ]
    }
   ],
   "source": [
    "RangeAge = maxAge - minAge\n",
    "print(RangeAge)"
   ]
  },
  {
   "cell_type": "code",
   "execution_count": 30,
   "id": "57c73849",
   "metadata": {},
   "outputs": [
    {
     "name": "stdout",
     "output_type": "stream",
     "text": [
      "89.91\n"
     ]
    }
   ],
   "source": [
    "maxWeight = max(univquandoub[\"StudentWeight\"])\n",
    "print(maxWeight)"
   ]
  },
  {
   "cell_type": "code",
   "execution_count": 32,
   "id": "cce1de8d",
   "metadata": {},
   "outputs": [
    {
     "name": "stdout",
     "output_type": "stream",
     "text": [
      "60.13\n"
     ]
    }
   ],
   "source": [
    "minWeight = min(univquandoub[\"StudentWeight\"])\n",
    "print(minWeight)"
   ]
  },
  {
   "cell_type": "code",
   "execution_count": 31,
   "id": "b475f1e4",
   "metadata": {},
   "outputs": [
    {
     "name": "stdout",
     "output_type": "stream",
     "text": [
      "29.78\n"
     ]
    }
   ],
   "source": [
    "rangeWeight = maxWeight - minWeight\n",
    "rangeofWeight = round(rangeWeight,2)\n",
    "print(rangeofWeight)"
   ]
  },
  {
   "cell_type": "code",
   "execution_count": 22,
   "id": "eeeb1d27",
   "metadata": {},
   "outputs": [
    {
     "name": "stdout",
     "output_type": "stream",
     "text": [
      "10.348610441767068\n"
     ]
    }
   ],
   "source": [
    "varianceAge = statistics.variance(univquandoub[\"StudentAge\"])\n",
    "print(varianceAge)"
   ]
  },
  {
   "cell_type": "code",
   "execution_count": 23,
   "id": "b8b161ea",
   "metadata": {},
   "outputs": [
    {
     "name": "stdout",
     "output_type": "stream",
     "text": [
      "75.17500352771084\n"
     ]
    }
   ],
   "source": [
    "varianceWeight = statistics.variance(univquandoub[\"StudentWeight\"])\n",
    "print(varianceWeight)"
   ]
  },
  {
   "cell_type": "code",
   "execution_count": 29,
   "id": "0601ce07",
   "metadata": {},
   "outputs": [
    {
     "data": {
      "image/png": "[encoded data removed]",
      "text/plain": [
       "<Figure size 432x288 with 1 Axes>"
      ]
     },
     "metadata": {
      "needs_background": "light"
     },
     "output_type": "display_data"
    }
   ],
   "source": [
    "#Scatter Plot\n",
    "sns.scatterplot(x=\"StudentAge\", y=\"StudentWeight\", data=univquandoub)\n",
    "plt.title(\"Scatter Diagram of Student Ages vs Their Respective Weights\")\n",
    "plt.show()\n",
    "\n",
    "#From the diagram below,we can barely see a trend on the scatterplot.\n",
    "#Therefore,there is a high possiblity that the trend is a weak negative trend i.e exhibits a negative correlation "
   ]
  },
  {
   "cell_type": "code",
   "execution_count": 25,
   "id": "e8edf347",
   "metadata": {},
   "outputs": [
    {
     "data": {
      "image/png": "[encoded data removed]",
      "text/plain": [
       "<Figure size 432x288 with 1 Axes>"
      ]
     },
     "metadata": {
      "needs_background": "light"
     },
     "output_type": "display_data"
    }
   ],
   "source": [
    "#Regression plot\n",
    "sns.regplot(x=\"StudentAge\", y=\"StudentWeight\", data=univquandoub)\n",
    "plt.show()\n",
    "\n",
    "#A regression plot was plotted below so as the type of relationship that exists between the Student Ages and their Weights(if there exists any)\n",
    "#The plot clearly show a negative trend because the student Weights tend to decrease as their ages increase\n",
    "#Therefore,there is a negative correlation in the data(almost none)"
   ]
  }
 ],
 "metadata": {
  "kernelspec": {
   "display_name": "Python 3",
   "language": "python",
   "name": "python3"
  },
  "language_info": {
   "codemirror_mode": {
    "name": "ipython",
    "version": 3
   },
   "file_extension": ".py",
   "mimetype": "text/x-python",
   "name": "python",
   "nbconvert_exporter": "python",
   "pygments_lexer": "ipython3",
   "version": "3.8.8"
  }
 },
 "nbformat": 4,
 "nbformat_minor": 5
}
