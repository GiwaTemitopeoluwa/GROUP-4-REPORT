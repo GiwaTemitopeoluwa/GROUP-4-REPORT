{
 "cells": [
  {
   "cell_type": "markdown",
   "id": "21e5fa83",
   "metadata": {},
   "source": [
    "# Descriptive Statistics And Visual Representation Of The Simulated Qualitative Quantitative Bivariate Data"
   ]
  },
  {
   "cell_type": "code",
   "execution_count": 23,
   "id": "e6f2cc6e",
   "metadata": {},
   "outputs": [],
   "source": [
    "import pandas as pd\n",
    "import numpy as np\n",
    "import matplotlib.pyplot as plt\n",
    "import math\n",
    "import os\n",
    "import sidetable as stb\n",
    "import statistics\n",
    "import seaborn as sns\n",
    "\n",
    "os.chdir(\"C:/Users/user/Desktop/STA413 GIWA/Python class\")"
   ]
  },
  {
   "cell_type": "code",
   "execution_count": 24,
   "id": "d61f52a9",
   "metadata": {},
   "outputs": [
    {
     "data": {
      "text/plain": [
       "'C:\\\\Users\\\\user\\\\Desktop\\\\STA413 GIWA\\\\Python class'"
      ]
     },
     "execution_count": 24,
     "metadata": {},
     "output_type": "execute_result"
    }
   ],
   "source": [
    "path = os.getcwd()\n",
    "path"
   ]
  },
  {
   "cell_type": "code",
   "execution_count": 25,
   "id": "a150c9bc",
   "metadata": {},
   "outputs": [
    {
     "data": {
      "text/html": [
       "<div>\n",
       "<style scoped>\n",
       "    .dataframe tbody tr th:only-of-type {\n",
       "        vertical-align: middle;\n",
       "    }\n",
       "\n",
       "    .dataframe tbody tr th {\n",
       "        vertical-align: top;\n",
       "    }\n",
       "\n",
       "    .dataframe thead th {\n",
       "        text-align: right;\n",
       "    }\n",
       "</style>\n",
       "<table border=\"1\" class=\"dataframe\">\n",
       "  <thead>\n",
       "    <tr style=\"text-align: right;\">\n",
       "      <th></th>\n",
       "      <th>Eye Color</th>\n",
       "      <th>StudentAge</th>\n",
       "    </tr>\n",
       "  </thead>\n",
       "  <tbody>\n",
       "    <tr>\n",
       "      <th>0</th>\n",
       "      <td>White</td>\n",
       "      <td>24</td>\n",
       "    </tr>\n",
       "    <tr>\n",
       "      <th>1</th>\n",
       "      <td>Green</td>\n",
       "      <td>26</td>\n",
       "    </tr>\n",
       "    <tr>\n",
       "      <th>2</th>\n",
       "      <td>White</td>\n",
       "      <td>24</td>\n",
       "    </tr>\n",
       "    <tr>\n",
       "      <th>3</th>\n",
       "      <td>Grey</td>\n",
       "      <td>26</td>\n",
       "    </tr>\n",
       "    <tr>\n",
       "      <th>4</th>\n",
       "      <td>Black</td>\n",
       "      <td>21</td>\n",
       "    </tr>\n",
       "  </tbody>\n",
       "</table>\n",
       "</div>"
      ],
      "text/plain": [
       "  Eye Color  StudentAge\n",
       "0     White          24\n",
       "1     Green          26\n",
       "2     White          24\n",
       "3      Grey          26\n",
       "4     Black          21"
      ]
     },
     "execution_count": 25,
     "metadata": {},
     "output_type": "execute_result"
    }
   ],
   "source": [
    "univquanqual = pd.read_excel(\"Assignment 5.xlsx\")\n",
    "univquanqual.head()"
   ]
  },
  {
   "cell_type": "code",
   "execution_count": 26,
   "id": "c738a56e",
   "metadata": {},
   "outputs": [
    {
     "data": {
      "text/html": [
       "<div>\n",
       "<style scoped>\n",
       "    .dataframe tbody tr th:only-of-type {\n",
       "        vertical-align: middle;\n",
       "    }\n",
       "\n",
       "    .dataframe tbody tr th {\n",
       "        vertical-align: top;\n",
       "    }\n",
       "\n",
       "    .dataframe thead th {\n",
       "        text-align: right;\n",
       "    }\n",
       "</style>\n",
       "<table border=\"1\" class=\"dataframe\">\n",
       "  <thead>\n",
       "    <tr style=\"text-align: right;\">\n",
       "      <th></th>\n",
       "      <th>Eye Color</th>\n",
       "      <th>StudentAge</th>\n",
       "    </tr>\n",
       "  </thead>\n",
       "  <tbody>\n",
       "    <tr>\n",
       "      <th>count</th>\n",
       "      <td>250</td>\n",
       "      <td>250.000000</td>\n",
       "    </tr>\n",
       "    <tr>\n",
       "      <th>unique</th>\n",
       "      <td>6</td>\n",
       "      <td>NaN</td>\n",
       "    </tr>\n",
       "    <tr>\n",
       "      <th>top</th>\n",
       "      <td>White</td>\n",
       "      <td>NaN</td>\n",
       "    </tr>\n",
       "    <tr>\n",
       "      <th>freq</th>\n",
       "      <td>47</td>\n",
       "      <td>NaN</td>\n",
       "    </tr>\n",
       "    <tr>\n",
       "      <th>mean</th>\n",
       "      <td>NaN</td>\n",
       "      <td>22.028000</td>\n",
       "    </tr>\n",
       "    <tr>\n",
       "      <th>std</th>\n",
       "      <td>NaN</td>\n",
       "      <td>3.216926</td>\n",
       "    </tr>\n",
       "    <tr>\n",
       "      <th>min</th>\n",
       "      <td>NaN</td>\n",
       "      <td>16.000000</td>\n",
       "    </tr>\n",
       "    <tr>\n",
       "      <th>25%</th>\n",
       "      <td>NaN</td>\n",
       "      <td>19.000000</td>\n",
       "    </tr>\n",
       "    <tr>\n",
       "      <th>50%</th>\n",
       "      <td>NaN</td>\n",
       "      <td>22.000000</td>\n",
       "    </tr>\n",
       "    <tr>\n",
       "      <th>75%</th>\n",
       "      <td>NaN</td>\n",
       "      <td>25.000000</td>\n",
       "    </tr>\n",
       "    <tr>\n",
       "      <th>max</th>\n",
       "      <td>NaN</td>\n",
       "      <td>27.000000</td>\n",
       "    </tr>\n",
       "  </tbody>\n",
       "</table>\n",
       "</div>"
      ],
      "text/plain": [
       "       Eye Color  StudentAge\n",
       "count        250  250.000000\n",
       "unique         6         NaN\n",
       "top        White         NaN\n",
       "freq          47         NaN\n",
       "mean         NaN   22.028000\n",
       "std          NaN    3.216926\n",
       "min          NaN   16.000000\n",
       "25%          NaN   19.000000\n",
       "50%          NaN   22.000000\n",
       "75%          NaN   25.000000\n",
       "max          NaN   27.000000"
      ]
     },
     "execution_count": 26,
     "metadata": {},
     "output_type": "execute_result"
    }
   ],
   "source": [
    "univquanqual.describe(include = \"all\")"
   ]
  },
  {
   "cell_type": "code",
   "execution_count": 27,
   "id": "b3790c72",
   "metadata": {},
   "outputs": [
    {
     "name": "stdout",
     "output_type": "stream",
     "text": [
      "<class 'pandas.core.frame.DataFrame'>\n",
      "RangeIndex: 250 entries, 0 to 249\n",
      "Data columns (total 2 columns):\n",
      " #   Column      Non-Null Count  Dtype \n",
      "---  ------      --------------  ----- \n",
      " 0   Eye Color   250 non-null    object\n",
      " 1   StudentAge  250 non-null    int64 \n",
      "dtypes: int64(1), object(1)\n",
      "memory usage: 4.0+ KB\n"
     ]
    }
   ],
   "source": [
    "univquanqual.info()"
   ]
  },
  {
   "cell_type": "code",
   "execution_count": 28,
   "id": "8cd4e8ea",
   "metadata": {},
   "outputs": [
    {
     "name": "stdout",
     "output_type": "stream",
     "text": [
      "StudentAge  16  17  18  19  20  21  22  23  24  25  26  27\n",
      "Eye Color                                                 \n",
      "Black        2   2   3   3   3   4   6   4   3   5   7   2\n",
      "Blue         0   3   2   4   2   4   1   5   8   3   3   6\n",
      "Green        3   2   5   4   5   2   4   2   5   1   4   3\n",
      "Grey         2   3   5   0   6   0   3   3   2   3   5   0\n",
      "Red          1   6   6   4   7   2   2   6   7   2   3   0\n",
      "White        1   0   2   2   2   5   5   2   5  12   7   4\n"
     ]
    }
   ],
   "source": [
    "table = pd.crosstab(univquanqual[\"Eye Color\"],\n",
    "                            univquanqual[\"StudentAge\"],\n",
    "                               margins = False)\n",
    "print(table)"
   ]
  },
  {
   "cell_type": "code",
   "execution_count": 29,
   "id": "82e0a480",
   "metadata": {},
   "outputs": [
    {
     "data": {
      "text/plain": [
       "-0.19621098793141006"
      ]
     },
     "execution_count": 29,
     "metadata": {},
     "output_type": "execute_result"
    }
   ],
   "source": [
    "(univquanqual[\"StudentAge\"]).skew()"
   ]
  },
  {
   "cell_type": "code",
   "execution_count": 30,
   "id": "cec7a41c",
   "metadata": {},
   "outputs": [
    {
     "data": {
      "text/plain": [
       "-1.1571598976356157"
      ]
     },
     "execution_count": 30,
     "metadata": {},
     "output_type": "execute_result"
    }
   ],
   "source": [
    "(univquanqual[\"StudentAge\"]).kurt()"
   ]
  },
  {
   "cell_type": "code",
   "execution_count": 31,
   "id": "f08e1fda",
   "metadata": {},
   "outputs": [
    {
     "data": {
      "text/html": [
       "<div>\n",
       "<style scoped>\n",
       "    .dataframe tbody tr th:only-of-type {\n",
       "        vertical-align: middle;\n",
       "    }\n",
       "\n",
       "    .dataframe tbody tr th {\n",
       "        vertical-align: top;\n",
       "    }\n",
       "\n",
       "    .dataframe thead th {\n",
       "        text-align: right;\n",
       "    }\n",
       "</style>\n",
       "<table border=\"1\" class=\"dataframe\">\n",
       "  <thead>\n",
       "    <tr style=\"text-align: right;\">\n",
       "      <th></th>\n",
       "      <th>StudentAge</th>\n",
       "      <th>count</th>\n",
       "      <th>percent</th>\n",
       "      <th>cumulative_count</th>\n",
       "      <th>cumulative_percent</th>\n",
       "    </tr>\n",
       "  </thead>\n",
       "  <tbody>\n",
       "    <tr>\n",
       "      <th>0</th>\n",
       "      <td>24</td>\n",
       "      <td>30</td>\n",
       "      <td>12.0</td>\n",
       "      <td>30</td>\n",
       "      <td>12.0</td>\n",
       "    </tr>\n",
       "    <tr>\n",
       "      <th>1</th>\n",
       "      <td>26</td>\n",
       "      <td>29</td>\n",
       "      <td>11.6</td>\n",
       "      <td>59</td>\n",
       "      <td>23.6</td>\n",
       "    </tr>\n",
       "    <tr>\n",
       "      <th>2</th>\n",
       "      <td>25</td>\n",
       "      <td>26</td>\n",
       "      <td>10.4</td>\n",
       "      <td>85</td>\n",
       "      <td>34.0</td>\n",
       "    </tr>\n",
       "    <tr>\n",
       "      <th>3</th>\n",
       "      <td>20</td>\n",
       "      <td>25</td>\n",
       "      <td>10.0</td>\n",
       "      <td>110</td>\n",
       "      <td>44.0</td>\n",
       "    </tr>\n",
       "    <tr>\n",
       "      <th>4</th>\n",
       "      <td>18</td>\n",
       "      <td>23</td>\n",
       "      <td>9.2</td>\n",
       "      <td>133</td>\n",
       "      <td>53.2</td>\n",
       "    </tr>\n",
       "    <tr>\n",
       "      <th>5</th>\n",
       "      <td>23</td>\n",
       "      <td>22</td>\n",
       "      <td>8.8</td>\n",
       "      <td>155</td>\n",
       "      <td>62.0</td>\n",
       "    </tr>\n",
       "    <tr>\n",
       "      <th>6</th>\n",
       "      <td>22</td>\n",
       "      <td>21</td>\n",
       "      <td>8.4</td>\n",
       "      <td>176</td>\n",
       "      <td>70.4</td>\n",
       "    </tr>\n",
       "    <tr>\n",
       "      <th>7</th>\n",
       "      <td>21</td>\n",
       "      <td>17</td>\n",
       "      <td>6.8</td>\n",
       "      <td>193</td>\n",
       "      <td>77.2</td>\n",
       "    </tr>\n",
       "    <tr>\n",
       "      <th>8</th>\n",
       "      <td>19</td>\n",
       "      <td>17</td>\n",
       "      <td>6.8</td>\n",
       "      <td>210</td>\n",
       "      <td>84.0</td>\n",
       "    </tr>\n",
       "    <tr>\n",
       "      <th>9</th>\n",
       "      <td>17</td>\n",
       "      <td>16</td>\n",
       "      <td>6.4</td>\n",
       "      <td>226</td>\n",
       "      <td>90.4</td>\n",
       "    </tr>\n",
       "    <tr>\n",
       "      <th>10</th>\n",
       "      <td>27</td>\n",
       "      <td>15</td>\n",
       "      <td>6.0</td>\n",
       "      <td>241</td>\n",
       "      <td>96.4</td>\n",
       "    </tr>\n",
       "    <tr>\n",
       "      <th>11</th>\n",
       "      <td>16</td>\n",
       "      <td>9</td>\n",
       "      <td>3.6</td>\n",
       "      <td>250</td>\n",
       "      <td>100.0</td>\n",
       "    </tr>\n",
       "  </tbody>\n",
       "</table>\n",
       "</div>"
      ],
      "text/plain": [
       "    StudentAge  count  percent  cumulative_count  cumulative_percent\n",
       "0           24     30     12.0                30                12.0\n",
       "1           26     29     11.6                59                23.6\n",
       "2           25     26     10.4                85                34.0\n",
       "3           20     25     10.0               110                44.0\n",
       "4           18     23      9.2               133                53.2\n",
       "5           23     22      8.8               155                62.0\n",
       "6           22     21      8.4               176                70.4\n",
       "7           21     17      6.8               193                77.2\n",
       "8           19     17      6.8               210                84.0\n",
       "9           17     16      6.4               226                90.4\n",
       "10          27     15      6.0               241                96.4\n",
       "11          16      9      3.6               250               100.0"
      ]
     },
     "execution_count": 31,
     "metadata": {},
     "output_type": "execute_result"
    }
   ],
   "source": [
    "univquanqual.stb.freq([\"StudentAge\"])"
   ]
  },
  {
   "cell_type": "code",
   "execution_count": 32,
   "id": "09929a9a",
   "metadata": {},
   "outputs": [
    {
     "data": {
      "text/plain": [
       "StudentAge    22.0\n",
       "dtype: float64"
      ]
     },
     "execution_count": 32,
     "metadata": {},
     "output_type": "execute_result"
    }
   ],
   "source": [
    "univquanqual.median()"
   ]
  },
  {
   "cell_type": "code",
   "execution_count": 33,
   "id": "465d673d",
   "metadata": {},
   "outputs": [
    {
     "data": {
      "text/html": [
       "<div>\n",
       "<style scoped>\n",
       "    .dataframe tbody tr th:only-of-type {\n",
       "        vertical-align: middle;\n",
       "    }\n",
       "\n",
       "    .dataframe tbody tr th {\n",
       "        vertical-align: top;\n",
       "    }\n",
       "\n",
       "    .dataframe thead th {\n",
       "        text-align: right;\n",
       "    }\n",
       "</style>\n",
       "<table border=\"1\" class=\"dataframe\">\n",
       "  <thead>\n",
       "    <tr style=\"text-align: right;\">\n",
       "      <th></th>\n",
       "      <th>Eye Color</th>\n",
       "      <th>StudentAge</th>\n",
       "    </tr>\n",
       "  </thead>\n",
       "  <tbody>\n",
       "    <tr>\n",
       "      <th>0</th>\n",
       "      <td>White</td>\n",
       "      <td>24</td>\n",
       "    </tr>\n",
       "  </tbody>\n",
       "</table>\n",
       "</div>"
      ],
      "text/plain": [
       "  Eye Color  StudentAge\n",
       "0     White          24"
      ]
     },
     "execution_count": 33,
     "metadata": {},
     "output_type": "execute_result"
    }
   ],
   "source": [
    "univquanqual.mode()"
   ]
  },
  {
   "cell_type": "code",
   "execution_count": 34,
   "id": "63f01c4c",
   "metadata": {},
   "outputs": [
    {
     "data": {
      "text/plain": [
       "27"
      ]
     },
     "execution_count": 34,
     "metadata": {},
     "output_type": "execute_result"
    }
   ],
   "source": [
    "maxAge = max(univquanqual[\"StudentAge\"])\n",
    "maxAge"
   ]
  },
  {
   "cell_type": "code",
   "execution_count": 35,
   "id": "414e527d",
   "metadata": {},
   "outputs": [
    {
     "data": {
      "text/plain": [
       "16"
      ]
     },
     "execution_count": 35,
     "metadata": {},
     "output_type": "execute_result"
    }
   ],
   "source": [
    "minAge = min(univquanqual[\"StudentAge\"])\n",
    "minAge"
   ]
  },
  {
   "cell_type": "code",
   "execution_count": 36,
   "id": "5b8cac5f",
   "metadata": {},
   "outputs": [
    {
     "data": {
      "text/plain": [
       "11"
      ]
     },
     "execution_count": 36,
     "metadata": {},
     "output_type": "execute_result"
    }
   ],
   "source": [
    "rangeWeight = maxAge - minAge\n",
    "rangeWeight"
   ]
  },
  {
   "cell_type": "code",
   "execution_count": 37,
   "id": "a012c22b",
   "metadata": {},
   "outputs": [
    {
     "name": "stdout",
     "output_type": "stream",
     "text": [
      "10.348610441767068\n"
     ]
    }
   ],
   "source": [
    "varianceAge = statistics.variance(univquanqual[\"StudentAge\"])\n",
    "print(varianceAge)"
   ]
  },
  {
   "cell_type": "code",
   "execution_count": 38,
   "id": "79b29ca9",
   "metadata": {},
   "outputs": [
    {
     "name": "stdout",
     "output_type": "stream",
     "text": [
      "StudentAge  16  17  18  19  20  21  22  23  24  25  26  27\n",
      "Eye Color                                                 \n",
      "Black        2   2   3   3   3   4   6   4   3   5   7   2\n",
      "Blue         0   3   2   4   2   4   1   5   8   3   3   6\n",
      "Green        3   2   5   4   5   2   4   2   5   1   4   3\n",
      "Grey         2   3   5   0   6   0   3   3   2   3   5   0\n",
      "Red          1   6   6   4   7   2   2   6   7   2   3   0\n",
      "White        1   0   2   2   2   5   5   2   5  12   7   4\n",
      "dof = 55\n",
      "probability = 0.950, critical = 73.311, stat = 72.929\n",
      "Independent (fail to reject H0)\n",
      "significance = 0.050, p = 0.053\n",
      "Independent (fail to reject H0)\n"
     ]
    }
   ],
   "source": [
    "# chi-squared test\n",
    "from scipy.stats import chi2_contingency\n",
    "from scipy.stats import chi2\n",
    "# contingency table\n",
    "table1 = table\n",
    "print(table1)\n",
    "teststatistic, pvalue , dof, expectedfreq = chi2_contingency(table1)\n",
    "print(\"dof = %d\" % dof)\n",
    "# %d means integer\n",
    "# interpret test-statistic\n",
    "prob = 0.95\n",
    "critical = chi2.ppf(prob, dof)\n",
    "#ppf - Percent point function\n",
    "print(\"probability = %.3f, critical = %.3f, stat = %.3f\" % (prob, critical, teststatistic))\n",
    "if abs(teststatistic) >= critical:\n",
    "    print(\"Dependent (reject H0)\")\n",
    "else:\n",
    "    print(\"Independent (fail to reject H0)\")\n",
    "# interpret p-value\n",
    "alpha = 1.0 - prob\n",
    "print(\"significance = %.3f, p = %.3f\" % (alpha, pvalue))\n",
    "if pvalue <= alpha:\n",
    "     print(\"Dependent (reject H0)\")\n",
    "else:\n",
    "     print(\"Independent (fail to reject H0)\")\n",
    "        \n",
    "#From our decision,we can see that there is no dependence between the student Ages and their eye colors        "
   ]
  },
  {
   "cell_type": "code",
   "execution_count": 39,
   "id": "b6f10da5",
   "metadata": {},
   "outputs": [
    {
     "data": {
      "image/png": "[encoded data removed]",
      "text/plain": [
       "<Figure size 432x288 with 1 Axes>"
      ]
     },
     "metadata": {
      "needs_background": "light"
     },
     "output_type": "display_data"
    }
   ],
   "source": [
    "#Box Plot\n",
    "sns.boxplot(x = \"Eye Color\", y = \"StudentAge\", data = univquanqual)\n",
    "plt.title(\"Boxplot of Student Eye Colors vs their Ages\")\n",
    "plt.show()\n",
    "\n",
    "#From the boxplot below:\n",
    "#We can see that there is an outlier in Age of students with white-colored eyes.\n",
    "#We can see that the 25th percentile of Age of students with white-colored eyes is 21.5 i.e 25% of the Age of students with white-colored eyes are less than or equal to 21.5\n",
    "#We can see that the 50th percentile of Age of students with white-colored eyes is 24 i.e 50% of the Age of students with white-colored eyes are  between 21.5 and 25\n",
    "#We can see that the 75th percentile of Age of students with white-colored eyes is 25 i.e 75% of the Age of students with white-colored eyes are less than or equal to 25\n",
    "#We can see that boxplot for students with white-colored eyes vs their Ages is left-skewed.\n",
    "#The Minimum Age of students with white-colored eyes is 18\n",
    "#The Maximum Age of students with white-colored eyes is 27\n",
    "\n",
    "#We can see that the 25th percentile of Age of students with green-colored eyes is 19 i.e 25% of the Age of students with green-colored eyes are less than or equal to 19\n",
    "#We can see that the 50th percentile of Age of students with green-colored eyes is 21 i.e 50% of the Age of students with green-colored eyes are  between 19 and 24\n",
    "#We can see that the 75th percentile of Age of students with green-colored eyes is 24 i.e 75% of the Age of students with green-colored eyes are less than or equal to 24\n",
    "#We can see that boxplot for students with green-colored eyes vs their Ages is right-skewed.\n",
    "#The Minimum Age of students with green-colored eyes is 16\n",
    "#The Maximum Age of students with green-colored eyes is 27\n",
    "\n",
    "#We can see that the 25th percentile of Age of students with grey-colored eyes is 18 i.e 25% of the Age of students with grey-colored eyes are less than or equal to 18\n",
    "#We can see that the 50th percentile of Age of students with grey-colored eyes is 21 i.e 50% of the Age of students with grey-colored eyes are  between 18 and 24\n",
    "#We can see that the 75th percentile of Age of students with grey-colored eyes is 24 i.e 75% of the Age of students with grey-colored eyes are less than or equal to 24\n",
    "#We can see that boxplot for students with grey-colored eyes vs their Ages is right-skewed.\n",
    "#The Minimum Age of students with grey-colored eyes is 16\n",
    "#The Maximum Age of students with grey-colored eyes is 26\n",
    "\n",
    "#We can see that the 25th percentile of Age of students with black-colored eyes is 20 i.e 25% of the Age of students with black-colored eyes are less than or equal to 20\n",
    "#We can see that the 50th percentile of Age of students with black-colored eyes is 22 i.e 50% of the Age of students with black-colored eyes are  between 20 and 25\n",
    "#We can see that the 75th percentile of Age of students with black-colored eyes is 25 i.e 75% of the Age of students with black-colored eyes are less than or equal to 25\n",
    "#We can see that boxplot for students with black-colored eyes vs their Ages is right-skewed.\n",
    "#The Minimum Age of students with black-colored eyes is 16\n",
    "#The Maximum Age of students with black-colored eyes is 27\n",
    "\n",
    "#We can see that the 25th percentile of Age of students with red-colored eyes is 18 i.e 25% of the Age of students with red-colored eyes are less than or equal to 18\n",
    "#We can see that the 50th percentile of Age of students with red-colored eyes is 20 i.e 50% of the Age of students with red-colored eyes are  between 18 and 24\n",
    "#We can see that the 75th percentile of Age of students with red-colored eyes is 24 i.e 75% of the Age of students with red-colored eyes are less than or equal to 24\n",
    "#We can see that boxplot for students with red-colored eyes vs their Ages is right-skewed.\n",
    "#The Minimum Age of students with red-colored eyes is 16\n",
    "#The Maximum Age of students with red-colored eyes is 26\n",
    "\n",
    "#We can see that the 25th percentile of Age of students with blue-colored eyes is 20 i.e 25% of the Age of students with blue-colored eyes are less than or equal to 20\n",
    "#We can see that the 50th percentile of Age of students with blue-colored eyes is 23 i.e 50% of the Age of students with blue-colored eyes are  between 20 and 25\n",
    "#We can see that the 75th percentile of Age of students with blue-colored eyes is 25 i.e 75% of the Age of students with blue-colored eyes are less than or equal to 25\n",
    "#We can see that boxplot for students with blue-colored eyes vs their Ages is left-skewed.\n",
    "#The Minimum Age of students with blue-colored eyes is 17\n",
    "#The Maximum Age of students with blue-colored eyes is 27"
   ]
  },
  {
   "cell_type": "code",
   "execution_count": null,
   "id": "6b0a8f28",
   "metadata": {},
   "outputs": [],
   "source": []
  }
 ],
 "metadata": {
  "kernelspec": {
   "display_name": "Python 3",
   "language": "python",
   "name": "python3"
  },
  "language_info": {
   "codemirror_mode": {
    "name": "ipython",
    "version": 3
   },
   "file_extension": ".py",
   "mimetype": "text/x-python",
   "name": "python",
   "nbconvert_exporter": "python",
   "pygments_lexer": "ipython3",
   "version": "3.8.8"
  }
 },
 "nbformat": 4,
 "nbformat_minor": 5
}
