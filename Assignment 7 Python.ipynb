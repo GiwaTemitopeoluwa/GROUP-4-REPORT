{
 "cells": [
  {
   "cell_type": "markdown",
   "id": "4da8b780",
   "metadata": {},
   "source": [
    "# Descriptive Statistics And Visual Representation Of The Simulated Quantitative Multivariate Data"
   ]
  },
  {
   "cell_type": "code",
   "execution_count": 1,
   "id": "450e2536",
   "metadata": {},
   "outputs": [],
   "source": [
    "import pandas as pd\n",
    "import numpy as np\n",
    "import matplotlib.pyplot as plt\n",
    "import math\n",
    "import os\n",
    "import sidetable as stb\n",
    "import statistics\n",
    "import seaborn as sns\n",
    "\n",
    "os.chdir(\"C:/Users/user/Desktop/STA413 GIWA/Python class\")"
   ]
  },
  {
   "cell_type": "code",
   "execution_count": 2,
   "id": "1b4be926",
   "metadata": {},
   "outputs": [
    {
     "data": {
      "text/plain": [
       "'C:\\\\Users\\\\user\\\\Desktop\\\\STA413 GIWA\\\\Python class'"
      ]
     },
     "execution_count": 2,
     "metadata": {},
     "output_type": "execute_result"
    }
   ],
   "source": [
    "path = os.getcwd()\n",
    "path"
   ]
  },
  {
   "cell_type": "code",
   "execution_count": 3,
   "id": "fbbf39dc",
   "metadata": {},
   "outputs": [
    {
     "data": {
      "text/html": [
       "<div>\n",
       "<style scoped>\n",
       "    .dataframe tbody tr th:only-of-type {\n",
       "        vertical-align: middle;\n",
       "    }\n",
       "\n",
       "    .dataframe tbody tr th {\n",
       "        vertical-align: top;\n",
       "    }\n",
       "\n",
       "    .dataframe thead th {\n",
       "        text-align: right;\n",
       "    }\n",
       "</style>\n",
       "<table border=\"1\" class=\"dataframe\">\n",
       "  <thead>\n",
       "    <tr style=\"text-align: right;\">\n",
       "      <th></th>\n",
       "      <th>StudentAge</th>\n",
       "      <th>StudentWeight</th>\n",
       "      <th>StudentHeight</th>\n",
       "    </tr>\n",
       "  </thead>\n",
       "  <tbody>\n",
       "    <tr>\n",
       "      <th>0</th>\n",
       "      <td>24</td>\n",
       "      <td>63.70</td>\n",
       "      <td>2.63</td>\n",
       "    </tr>\n",
       "    <tr>\n",
       "      <th>1</th>\n",
       "      <td>26</td>\n",
       "      <td>88.77</td>\n",
       "      <td>4.30</td>\n",
       "    </tr>\n",
       "    <tr>\n",
       "      <th>2</th>\n",
       "      <td>24</td>\n",
       "      <td>60.97</td>\n",
       "      <td>4.52</td>\n",
       "    </tr>\n",
       "    <tr>\n",
       "      <th>3</th>\n",
       "      <td>26</td>\n",
       "      <td>67.79</td>\n",
       "      <td>4.80</td>\n",
       "    </tr>\n",
       "    <tr>\n",
       "      <th>4</th>\n",
       "      <td>21</td>\n",
       "      <td>86.29</td>\n",
       "      <td>4.03</td>\n",
       "    </tr>\n",
       "  </tbody>\n",
       "</table>\n",
       "</div>"
      ],
      "text/plain": [
       "   StudentAge  StudentWeight  StudentHeight\n",
       "0          24          63.70           2.63\n",
       "1          26          88.77           4.30\n",
       "2          24          60.97           4.52\n",
       "3          26          67.79           4.80\n",
       "4          21          86.29           4.03"
      ]
     },
     "execution_count": 3,
     "metadata": {},
     "output_type": "execute_result"
    }
   ],
   "source": [
    "multiquan = pd.read_excel(\"Assignment 7.xlsx\")\n",
    "multiquan.head()"
   ]
  },
  {
   "cell_type": "code",
   "execution_count": 4,
   "id": "869acc45",
   "metadata": {},
   "outputs": [
    {
     "data": {
      "text/html": [
       "<div>\n",
       "<style scoped>\n",
       "    .dataframe tbody tr th:only-of-type {\n",
       "        vertical-align: middle;\n",
       "    }\n",
       "\n",
       "    .dataframe tbody tr th {\n",
       "        vertical-align: top;\n",
       "    }\n",
       "\n",
       "    .dataframe thead th {\n",
       "        text-align: right;\n",
       "    }\n",
       "</style>\n",
       "<table border=\"1\" class=\"dataframe\">\n",
       "  <thead>\n",
       "    <tr style=\"text-align: right;\">\n",
       "      <th></th>\n",
       "      <th>StudentAge</th>\n",
       "      <th>StudentWeight</th>\n",
       "      <th>StudentHeight</th>\n",
       "    </tr>\n",
       "  </thead>\n",
       "  <tbody>\n",
       "    <tr>\n",
       "      <th>count</th>\n",
       "      <td>250.000000</td>\n",
       "      <td>250.000000</td>\n",
       "      <td>250.000000</td>\n",
       "    </tr>\n",
       "    <tr>\n",
       "      <th>mean</th>\n",
       "      <td>22.028000</td>\n",
       "      <td>75.401920</td>\n",
       "      <td>3.542600</td>\n",
       "    </tr>\n",
       "    <tr>\n",
       "      <th>std</th>\n",
       "      <td>3.216926</td>\n",
       "      <td>8.670352</td>\n",
       "      <td>0.858792</td>\n",
       "    </tr>\n",
       "    <tr>\n",
       "      <th>min</th>\n",
       "      <td>16.000000</td>\n",
       "      <td>60.130000</td>\n",
       "      <td>2.010000</td>\n",
       "    </tr>\n",
       "    <tr>\n",
       "      <th>25%</th>\n",
       "      <td>19.000000</td>\n",
       "      <td>67.932500</td>\n",
       "      <td>2.790000</td>\n",
       "    </tr>\n",
       "    <tr>\n",
       "      <th>50%</th>\n",
       "      <td>22.000000</td>\n",
       "      <td>75.930000</td>\n",
       "      <td>3.560000</td>\n",
       "    </tr>\n",
       "    <tr>\n",
       "      <th>75%</th>\n",
       "      <td>25.000000</td>\n",
       "      <td>83.362500</td>\n",
       "      <td>4.237500</td>\n",
       "    </tr>\n",
       "    <tr>\n",
       "      <th>max</th>\n",
       "      <td>27.000000</td>\n",
       "      <td>89.910000</td>\n",
       "      <td>4.960000</td>\n",
       "    </tr>\n",
       "  </tbody>\n",
       "</table>\n",
       "</div>"
      ],
      "text/plain": [
       "       StudentAge  StudentWeight  StudentHeight\n",
       "count  250.000000     250.000000     250.000000\n",
       "mean    22.028000      75.401920       3.542600\n",
       "std      3.216926       8.670352       0.858792\n",
       "min     16.000000      60.130000       2.010000\n",
       "25%     19.000000      67.932500       2.790000\n",
       "50%     22.000000      75.930000       3.560000\n",
       "75%     25.000000      83.362500       4.237500\n",
       "max     27.000000      89.910000       4.960000"
      ]
     },
     "execution_count": 4,
     "metadata": {},
     "output_type": "execute_result"
    }
   ],
   "source": [
    "multiquan.describe(include = \"all\")"
   ]
  },
  {
   "cell_type": "code",
   "execution_count": 5,
   "id": "2af87b19",
   "metadata": {},
   "outputs": [
    {
     "name": "stdout",
     "output_type": "stream",
     "text": [
      "<class 'pandas.core.frame.DataFrame'>\n",
      "RangeIndex: 250 entries, 0 to 249\n",
      "Data columns (total 3 columns):\n",
      " #   Column         Non-Null Count  Dtype  \n",
      "---  ------         --------------  -----  \n",
      " 0   StudentAge     250 non-null    int64  \n",
      " 1   StudentWeight  250 non-null    float64\n",
      " 2   StudentHeight  250 non-null    float64\n",
      "dtypes: float64(2), int64(1)\n",
      "memory usage: 6.0 KB\n"
     ]
    }
   ],
   "source": [
    "multiquan.info()"
   ]
  },
  {
   "cell_type": "code",
   "execution_count": 6,
   "id": "a3e5b8e8",
   "metadata": {},
   "outputs": [
    {
     "data": {
      "text/plain": [
       "-0.19621098793141006"
      ]
     },
     "execution_count": 6,
     "metadata": {},
     "output_type": "execute_result"
    }
   ],
   "source": [
    "(multiquan[\"StudentAge\"]).skew()"
   ]
  },
  {
   "cell_type": "code",
   "execution_count": 7,
   "id": "bf0afe86",
   "metadata": {},
   "outputs": [
    {
     "data": {
      "text/plain": [
       "-1.1571598976356157"
      ]
     },
     "execution_count": 7,
     "metadata": {},
     "output_type": "execute_result"
    }
   ],
   "source": [
    "(multiquan[\"StudentAge\"]).kurt()"
   ]
  },
  {
   "cell_type": "code",
   "execution_count": 8,
   "id": "845afcee",
   "metadata": {},
   "outputs": [
    {
     "data": {
      "text/plain": [
       "-0.12220359233364465"
      ]
     },
     "execution_count": 8,
     "metadata": {},
     "output_type": "execute_result"
    }
   ],
   "source": [
    "(multiquan[\"StudentWeight\"]).skew()"
   ]
  },
  {
   "cell_type": "code",
   "execution_count": 9,
   "id": "aa099267",
   "metadata": {},
   "outputs": [
    {
     "data": {
      "text/plain": [
       "-1.2125186025082717"
      ]
     },
     "execution_count": 9,
     "metadata": {},
     "output_type": "execute_result"
    }
   ],
   "source": [
    "(multiquan[\"StudentWeight\"]).kurt()"
   ]
  },
  {
   "cell_type": "code",
   "execution_count": 30,
   "id": "95486da7",
   "metadata": {},
   "outputs": [
    {
     "name": "stdout",
     "output_type": "stream",
     "text": [
      "-0.10417187914089214\n"
     ]
    }
   ],
   "source": [
    "skw = (multiquan[\"StudentHeight\"]).skew()\n",
    "print(skw)"
   ]
  },
  {
   "cell_type": "code",
   "execution_count": 31,
   "id": "820f8f72",
   "metadata": {},
   "outputs": [
    {
     "name": "stdout",
     "output_type": "stream",
     "text": [
      "-1.1801605641634165\n"
     ]
    }
   ],
   "source": [
    "kurtos = (multiquan[\"StudentHeight\"]).kurt()\n",
    "print(kurtos)"
   ]
  },
  {
   "cell_type": "code",
   "execution_count": 12,
   "id": "f598e56c",
   "metadata": {},
   "outputs": [
    {
     "data": {
      "text/html": [
       "<div>\n",
       "<style scoped>\n",
       "    .dataframe tbody tr th:only-of-type {\n",
       "        vertical-align: middle;\n",
       "    }\n",
       "\n",
       "    .dataframe tbody tr th {\n",
       "        vertical-align: top;\n",
       "    }\n",
       "\n",
       "    .dataframe thead th {\n",
       "        text-align: right;\n",
       "    }\n",
       "</style>\n",
       "<table border=\"1\" class=\"dataframe\">\n",
       "  <thead>\n",
       "    <tr style=\"text-align: right;\">\n",
       "      <th></th>\n",
       "      <th>StudentAge</th>\n",
       "      <th>count</th>\n",
       "      <th>percent</th>\n",
       "      <th>cumulative_count</th>\n",
       "      <th>cumulative_percent</th>\n",
       "    </tr>\n",
       "  </thead>\n",
       "  <tbody>\n",
       "    <tr>\n",
       "      <th>0</th>\n",
       "      <td>24</td>\n",
       "      <td>30</td>\n",
       "      <td>12.0</td>\n",
       "      <td>30</td>\n",
       "      <td>12.0</td>\n",
       "    </tr>\n",
       "    <tr>\n",
       "      <th>1</th>\n",
       "      <td>26</td>\n",
       "      <td>29</td>\n",
       "      <td>11.6</td>\n",
       "      <td>59</td>\n",
       "      <td>23.6</td>\n",
       "    </tr>\n",
       "    <tr>\n",
       "      <th>2</th>\n",
       "      <td>25</td>\n",
       "      <td>26</td>\n",
       "      <td>10.4</td>\n",
       "      <td>85</td>\n",
       "      <td>34.0</td>\n",
       "    </tr>\n",
       "    <tr>\n",
       "      <th>3</th>\n",
       "      <td>20</td>\n",
       "      <td>25</td>\n",
       "      <td>10.0</td>\n",
       "      <td>110</td>\n",
       "      <td>44.0</td>\n",
       "    </tr>\n",
       "    <tr>\n",
       "      <th>4</th>\n",
       "      <td>18</td>\n",
       "      <td>23</td>\n",
       "      <td>9.2</td>\n",
       "      <td>133</td>\n",
       "      <td>53.2</td>\n",
       "    </tr>\n",
       "    <tr>\n",
       "      <th>5</th>\n",
       "      <td>23</td>\n",
       "      <td>22</td>\n",
       "      <td>8.8</td>\n",
       "      <td>155</td>\n",
       "      <td>62.0</td>\n",
       "    </tr>\n",
       "    <tr>\n",
       "      <th>6</th>\n",
       "      <td>22</td>\n",
       "      <td>21</td>\n",
       "      <td>8.4</td>\n",
       "      <td>176</td>\n",
       "      <td>70.4</td>\n",
       "    </tr>\n",
       "    <tr>\n",
       "      <th>7</th>\n",
       "      <td>21</td>\n",
       "      <td>17</td>\n",
       "      <td>6.8</td>\n",
       "      <td>193</td>\n",
       "      <td>77.2</td>\n",
       "    </tr>\n",
       "    <tr>\n",
       "      <th>8</th>\n",
       "      <td>19</td>\n",
       "      <td>17</td>\n",
       "      <td>6.8</td>\n",
       "      <td>210</td>\n",
       "      <td>84.0</td>\n",
       "    </tr>\n",
       "    <tr>\n",
       "      <th>9</th>\n",
       "      <td>17</td>\n",
       "      <td>16</td>\n",
       "      <td>6.4</td>\n",
       "      <td>226</td>\n",
       "      <td>90.4</td>\n",
       "    </tr>\n",
       "    <tr>\n",
       "      <th>10</th>\n",
       "      <td>27</td>\n",
       "      <td>15</td>\n",
       "      <td>6.0</td>\n",
       "      <td>241</td>\n",
       "      <td>96.4</td>\n",
       "    </tr>\n",
       "    <tr>\n",
       "      <th>11</th>\n",
       "      <td>16</td>\n",
       "      <td>9</td>\n",
       "      <td>3.6</td>\n",
       "      <td>250</td>\n",
       "      <td>100.0</td>\n",
       "    </tr>\n",
       "  </tbody>\n",
       "</table>\n",
       "</div>"
      ],
      "text/plain": [
       "    StudentAge  count  percent  cumulative_count  cumulative_percent\n",
       "0           24     30     12.0                30                12.0\n",
       "1           26     29     11.6                59                23.6\n",
       "2           25     26     10.4                85                34.0\n",
       "3           20     25     10.0               110                44.0\n",
       "4           18     23      9.2               133                53.2\n",
       "5           23     22      8.8               155                62.0\n",
       "6           22     21      8.4               176                70.4\n",
       "7           21     17      6.8               193                77.2\n",
       "8           19     17      6.8               210                84.0\n",
       "9           17     16      6.4               226                90.4\n",
       "10          27     15      6.0               241                96.4\n",
       "11          16      9      3.6               250               100.0"
      ]
     },
     "execution_count": 12,
     "metadata": {},
     "output_type": "execute_result"
    }
   ],
   "source": [
    "multiquan.stb.freq([\"StudentAge\"])"
   ]
  },
  {
   "cell_type": "code",
   "execution_count": 13,
   "id": "42765533",
   "metadata": {},
   "outputs": [
    {
     "data": {
      "text/html": [
       "<div>\n",
       "<style scoped>\n",
       "    .dataframe tbody tr th:only-of-type {\n",
       "        vertical-align: middle;\n",
       "    }\n",
       "\n",
       "    .dataframe tbody tr th {\n",
       "        vertical-align: top;\n",
       "    }\n",
       "\n",
       "    .dataframe thead th {\n",
       "        text-align: right;\n",
       "    }\n",
       "</style>\n",
       "<table border=\"1\" class=\"dataframe\">\n",
       "  <thead>\n",
       "    <tr style=\"text-align: right;\">\n",
       "      <th></th>\n",
       "      <th>StudentWeight</th>\n",
       "      <th>count</th>\n",
       "      <th>percent</th>\n",
       "      <th>cumulative_count</th>\n",
       "      <th>cumulative_percent</th>\n",
       "    </tr>\n",
       "  </thead>\n",
       "  <tbody>\n",
       "    <tr>\n",
       "      <th>0</th>\n",
       "      <td>81.20</td>\n",
       "      <td>2</td>\n",
       "      <td>0.8</td>\n",
       "      <td>2</td>\n",
       "      <td>0.8</td>\n",
       "    </tr>\n",
       "    <tr>\n",
       "      <th>1</th>\n",
       "      <td>72.51</td>\n",
       "      <td>2</td>\n",
       "      <td>0.8</td>\n",
       "      <td>4</td>\n",
       "      <td>1.6</td>\n",
       "    </tr>\n",
       "    <tr>\n",
       "      <th>2</th>\n",
       "      <td>89.91</td>\n",
       "      <td>1</td>\n",
       "      <td>0.4</td>\n",
       "      <td>5</td>\n",
       "      <td>2.0</td>\n",
       "    </tr>\n",
       "    <tr>\n",
       "      <th>3</th>\n",
       "      <td>89.88</td>\n",
       "      <td>1</td>\n",
       "      <td>0.4</td>\n",
       "      <td>6</td>\n",
       "      <td>2.4</td>\n",
       "    </tr>\n",
       "    <tr>\n",
       "      <th>4</th>\n",
       "      <td>89.86</td>\n",
       "      <td>1</td>\n",
       "      <td>0.4</td>\n",
       "      <td>7</td>\n",
       "      <td>2.8</td>\n",
       "    </tr>\n",
       "    <tr>\n",
       "      <th>...</th>\n",
       "      <td>...</td>\n",
       "      <td>...</td>\n",
       "      <td>...</td>\n",
       "      <td>...</td>\n",
       "      <td>...</td>\n",
       "    </tr>\n",
       "    <tr>\n",
       "      <th>243</th>\n",
       "      <td>60.49</td>\n",
       "      <td>1</td>\n",
       "      <td>0.4</td>\n",
       "      <td>246</td>\n",
       "      <td>98.4</td>\n",
       "    </tr>\n",
       "    <tr>\n",
       "      <th>244</th>\n",
       "      <td>60.48</td>\n",
       "      <td>1</td>\n",
       "      <td>0.4</td>\n",
       "      <td>247</td>\n",
       "      <td>98.8</td>\n",
       "    </tr>\n",
       "    <tr>\n",
       "      <th>245</th>\n",
       "      <td>60.47</td>\n",
       "      <td>1</td>\n",
       "      <td>0.4</td>\n",
       "      <td>248</td>\n",
       "      <td>99.2</td>\n",
       "    </tr>\n",
       "    <tr>\n",
       "      <th>246</th>\n",
       "      <td>60.33</td>\n",
       "      <td>1</td>\n",
       "      <td>0.4</td>\n",
       "      <td>249</td>\n",
       "      <td>99.6</td>\n",
       "    </tr>\n",
       "    <tr>\n",
       "      <th>247</th>\n",
       "      <td>60.13</td>\n",
       "      <td>1</td>\n",
       "      <td>0.4</td>\n",
       "      <td>250</td>\n",
       "      <td>100.0</td>\n",
       "    </tr>\n",
       "  </tbody>\n",
       "</table>\n",
       "<p>248 rows × 5 columns</p>\n",
       "</div>"
      ],
      "text/plain": [
       "     StudentWeight  count  percent  cumulative_count  cumulative_percent\n",
       "0            81.20      2      0.8                 2                 0.8\n",
       "1            72.51      2      0.8                 4                 1.6\n",
       "2            89.91      1      0.4                 5                 2.0\n",
       "3            89.88      1      0.4                 6                 2.4\n",
       "4            89.86      1      0.4                 7                 2.8\n",
       "..             ...    ...      ...               ...                 ...\n",
       "243          60.49      1      0.4               246                98.4\n",
       "244          60.48      1      0.4               247                98.8\n",
       "245          60.47      1      0.4               248                99.2\n",
       "246          60.33      1      0.4               249                99.6\n",
       "247          60.13      1      0.4               250               100.0\n",
       "\n",
       "[248 rows x 5 columns]"
      ]
     },
     "execution_count": 13,
     "metadata": {},
     "output_type": "execute_result"
    }
   ],
   "source": [
    "multiquan.stb.freq([\"StudentWeight\"])"
   ]
  },
  {
   "cell_type": "code",
   "execution_count": 32,
   "id": "66b36112",
   "metadata": {},
   "outputs": [
    {
     "name": "stdout",
     "output_type": "stream",
     "text": [
      "     StudentHeight  count  percent  cumulative_count  cumulative_percent\n",
      "0             4.05      6      2.4                 6                 2.4\n",
      "1             3.33      4      1.6                10                 4.0\n",
      "2             2.20      4      1.6                14                 5.6\n",
      "3             4.87      3      1.2                17                 6.8\n",
      "4             4.83      3      1.2                20                 8.0\n",
      "..             ...    ...      ...               ...                 ...\n",
      "159           2.08      1      0.4               246                98.4\n",
      "160           2.06      1      0.4               247                98.8\n",
      "161           2.04      1      0.4               248                99.2\n",
      "162           2.03      1      0.4               249                99.6\n",
      "163           2.01      1      0.4               250               100.0\n",
      "\n",
      "[164 rows x 5 columns]\n"
     ]
    }
   ],
   "source": [
    "mtq =multiquan.stb.freq([\"StudentHeight\"])\n",
    "print(mtq)"
   ]
  },
  {
   "cell_type": "code",
   "execution_count": 15,
   "id": "a17be8e2",
   "metadata": {},
   "outputs": [
    {
     "data": {
      "text/plain": [
       "StudentAge       22.00\n",
       "StudentWeight    75.93\n",
       "StudentHeight     3.56\n",
       "dtype: float64"
      ]
     },
     "execution_count": 15,
     "metadata": {},
     "output_type": "execute_result"
    }
   ],
   "source": [
    "multiquan.median()"
   ]
  },
  {
   "cell_type": "code",
   "execution_count": 16,
   "id": "7cb535b4",
   "metadata": {},
   "outputs": [
    {
     "data": {
      "text/plain": [
       "27"
      ]
     },
     "execution_count": 16,
     "metadata": {},
     "output_type": "execute_result"
    }
   ],
   "source": [
    "maxAge = max(multiquan[\"StudentAge\"])\n",
    "maxAge"
   ]
  },
  {
   "cell_type": "code",
   "execution_count": 17,
   "id": "e00de660",
   "metadata": {},
   "outputs": [
    {
     "data": {
      "text/plain": [
       "16"
      ]
     },
     "execution_count": 17,
     "metadata": {},
     "output_type": "execute_result"
    }
   ],
   "source": [
    "minAge = min(multiquan[\"StudentAge\"])\n",
    "minAge"
   ]
  },
  {
   "cell_type": "code",
   "execution_count": 18,
   "id": "536ef7d3",
   "metadata": {},
   "outputs": [
    {
     "data": {
      "text/plain": [
       "11"
      ]
     },
     "execution_count": 18,
     "metadata": {},
     "output_type": "execute_result"
    }
   ],
   "source": [
    "rangeAge = maxAge - minAge\n",
    "rangeAge"
   ]
  },
  {
   "cell_type": "code",
   "execution_count": 19,
   "id": "a68e1503",
   "metadata": {},
   "outputs": [
    {
     "data": {
      "text/plain": [
       "89.91"
      ]
     },
     "execution_count": 19,
     "metadata": {},
     "output_type": "execute_result"
    }
   ],
   "source": [
    "maxWeight = max(multiquan[\"StudentWeight\"])\n",
    "maxWeight"
   ]
  },
  {
   "cell_type": "code",
   "execution_count": 20,
   "id": "3950ae25",
   "metadata": {},
   "outputs": [
    {
     "data": {
      "text/plain": [
       "60.13"
      ]
     },
     "execution_count": 20,
     "metadata": {},
     "output_type": "execute_result"
    }
   ],
   "source": [
    "minWeight = min(multiquan[\"StudentWeight\"])\n",
    "minWeight"
   ]
  },
  {
   "cell_type": "code",
   "execution_count": 21,
   "id": "8fd42a93",
   "metadata": {},
   "outputs": [
    {
     "data": {
      "text/plain": [
       "29.78"
      ]
     },
     "execution_count": 21,
     "metadata": {},
     "output_type": "execute_result"
    }
   ],
   "source": [
    "rangeWeight = maxWeight - minWeight\n",
    "rangeofWeight = round(rangeWeight,2)\n",
    "rangeofWeight"
   ]
  },
  {
   "cell_type": "code",
   "execution_count": 22,
   "id": "7d4ed18b",
   "metadata": {},
   "outputs": [
    {
     "data": {
      "text/plain": [
       "4.96"
      ]
     },
     "execution_count": 22,
     "metadata": {},
     "output_type": "execute_result"
    }
   ],
   "source": [
    "maxHeight = max(multiquan[\"StudentHeight\"])\n",
    "print(maxHeight)"
   ]
  },
  {
   "cell_type": "code",
   "execution_count": 23,
   "id": "87bf0e8b",
   "metadata": {},
   "outputs": [
    {
     "data": {
      "text/plain": [
       "2.01"
      ]
     },
     "execution_count": 23,
     "metadata": {},
     "output_type": "execute_result"
    }
   ],
   "source": [
    "minHeight = min(multiquan[\"StudentHeight\"])\n",
    "print(minHeight)"
   ]
  },
  {
   "cell_type": "code",
   "execution_count": 24,
   "id": "b23d1bd5",
   "metadata": {},
   "outputs": [
    {
     "data": {
      "text/plain": [
       "2.95"
      ]
     },
     "execution_count": 24,
     "metadata": {},
     "output_type": "execute_result"
    }
   ],
   "source": [
    "rangeHeight = maxHeight - minHeight\n",
    "print(rangeHeight)"
   ]
  },
  {
   "cell_type": "code",
   "execution_count": 25,
   "id": "94980cb5",
   "metadata": {},
   "outputs": [
    {
     "name": "stdout",
     "output_type": "stream",
     "text": [
      "10.348610441767068\n"
     ]
    }
   ],
   "source": [
    "varianceAge = statistics.variance(multiquan[\"StudentAge\"])\n",
    "print(varianceAge)"
   ]
  },
  {
   "cell_type": "code",
   "execution_count": 26,
   "id": "f66b8c9b",
   "metadata": {},
   "outputs": [
    {
     "name": "stdout",
     "output_type": "stream",
     "text": [
      "75.17500352771084\n"
     ]
    }
   ],
   "source": [
    "varianceWeight = statistics.variance(multiquan[\"StudentWeight\"])\n",
    "print(varianceWeight)"
   ]
  },
  {
   "cell_type": "code",
   "execution_count": 27,
   "id": "dafc6bf8",
   "metadata": {},
   "outputs": [
    {
     "name": "stdout",
     "output_type": "stream",
     "text": [
      "0.7375237349397591\n"
     ]
    }
   ],
   "source": [
    "varianceHeight = statistics.variance(multiquan[\"StudentHeight\"])\n",
    "print(varianceHeight)"
   ]
  },
  {
   "cell_type": "code",
   "execution_count": 29,
   "id": "9c8f990e",
   "metadata": {},
   "outputs": [
    {
     "data": {
      "image/png": "[encoded data removed]",
      "text/plain": [
       "<Figure size 648x648 with 12 Axes>"
      ]
     },
     "metadata": {
      "needs_background": "light"
     },
     "output_type": "display_data"
    }
   ],
   "source": [
    "#A pairplot is used below,it shows the appropriate plots for each Variables against another and displays them as a square matrix\n",
    "sns.pairplot(data=multiquan, height=3)\n",
    "plt.show()\n",
    "\n",
    "#From the pair"
   ]
  },
  {
   "cell_type": "code",
   "execution_count": null,
   "id": "407ab5aa",
   "metadata": {},
   "outputs": [],
   "source": []
  }
 ],
 "metadata": {
  "kernelspec": {
   "display_name": "Python 3",
   "language": "python",
   "name": "python3"
  },
  "language_info": {
   "codemirror_mode": {
    "name": "ipython",
    "version": 3
   },
   "file_extension": ".py",
   "mimetype": "text/x-python",
   "name": "python",
   "nbconvert_exporter": "python",
   "pygments_lexer": "ipython3",
   "version": "3.8.8"
  }
 },
 "nbformat": 4,
 "nbformat_minor": 5
}
