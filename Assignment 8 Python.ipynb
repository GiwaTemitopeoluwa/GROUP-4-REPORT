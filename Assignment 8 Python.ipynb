{
 "cells": [
  {
   "cell_type": "markdown",
   "id": "7d7cf699",
   "metadata": {},
   "source": [
    "# Descriptive Statistics And Visual Representation Of The Simulated Quantitative Qualitative Multivariate Data"
   ]
  },
  {
   "cell_type": "code",
   "execution_count": 2,
   "id": "326907c3",
   "metadata": {},
   "outputs": [],
   "source": [
    "import pandas as pd\n",
    "import numpy as np\n",
    "import matplotlib.pyplot as plt\n",
    "import math\n",
    "import os\n",
    "import sidetable as stb\n",
    "import statistics\n",
    "import seaborn as sns\n",
    "\n",
    "os.chdir(\"C:/Users/user/Desktop/STA413 GIWA/Python class\")"
   ]
  },
  {
   "cell_type": "code",
   "execution_count": 3,
   "id": "dd26be97",
   "metadata": {},
   "outputs": [
    {
     "data": {
      "text/plain": [
       "'C:\\\\Users\\\\user\\\\Desktop\\\\STA413 GIWA\\\\Python class'"
      ]
     },
     "execution_count": 3,
     "metadata": {},
     "output_type": "execute_result"
    }
   ],
   "source": [
    "path = os.getcwd()\n",
    "path"
   ]
  },
  {
   "cell_type": "code",
   "execution_count": 4,
   "id": "c6b5930e",
   "metadata": {},
   "outputs": [
    {
     "data": {
      "text/html": [
       "<div>\n",
       "<style scoped>\n",
       "    .dataframe tbody tr th:only-of-type {\n",
       "        vertical-align: middle;\n",
       "    }\n",
       "\n",
       "    .dataframe tbody tr th {\n",
       "        vertical-align: top;\n",
       "    }\n",
       "\n",
       "    .dataframe thead th {\n",
       "        text-align: right;\n",
       "    }\n",
       "</style>\n",
       "<table border=\"1\" class=\"dataframe\">\n",
       "  <thead>\n",
       "    <tr style=\"text-align: right;\">\n",
       "      <th></th>\n",
       "      <th>StudentName</th>\n",
       "      <th>StudentAge</th>\n",
       "      <th>StudentWeight</th>\n",
       "      <th>StudentHeight</th>\n",
       "      <th>StudentBMI</th>\n",
       "      <th>BMI Status</th>\n",
       "      <th>Eye Color</th>\n",
       "      <th>Hair Color</th>\n",
       "    </tr>\n",
       "  </thead>\n",
       "  <tbody>\n",
       "    <tr>\n",
       "      <th>0</th>\n",
       "      <td>Kamaal</td>\n",
       "      <td>24</td>\n",
       "      <td>63.70</td>\n",
       "      <td>2.63</td>\n",
       "      <td>24.2</td>\n",
       "      <td>NORMAL</td>\n",
       "      <td>White</td>\n",
       "      <td>Red</td>\n",
       "    </tr>\n",
       "    <tr>\n",
       "      <th>1</th>\n",
       "      <td>Rick</td>\n",
       "      <td>26</td>\n",
       "      <td>88.77</td>\n",
       "      <td>4.30</td>\n",
       "      <td>20.6</td>\n",
       "      <td>NORMAL</td>\n",
       "      <td>Green</td>\n",
       "      <td>Brunette</td>\n",
       "    </tr>\n",
       "    <tr>\n",
       "      <th>2</th>\n",
       "      <td>Kayla</td>\n",
       "      <td>24</td>\n",
       "      <td>60.97</td>\n",
       "      <td>4.52</td>\n",
       "      <td>13.5</td>\n",
       "      <td>UNDERWEIGHT</td>\n",
       "      <td>White</td>\n",
       "      <td>Red</td>\n",
       "    </tr>\n",
       "    <tr>\n",
       "      <th>3</th>\n",
       "      <td>Kendall</td>\n",
       "      <td>26</td>\n",
       "      <td>67.79</td>\n",
       "      <td>4.80</td>\n",
       "      <td>14.1</td>\n",
       "      <td>UNDERWEIGHT</td>\n",
       "      <td>Grey</td>\n",
       "      <td>Blonde</td>\n",
       "    </tr>\n",
       "    <tr>\n",
       "      <th>4</th>\n",
       "      <td>Maaiz</td>\n",
       "      <td>21</td>\n",
       "      <td>86.29</td>\n",
       "      <td>4.03</td>\n",
       "      <td>21.4</td>\n",
       "      <td>NORMAL</td>\n",
       "      <td>Black</td>\n",
       "      <td>Brunette</td>\n",
       "    </tr>\n",
       "  </tbody>\n",
       "</table>\n",
       "</div>"
      ],
      "text/plain": [
       "  StudentName  StudentAge  StudentWeight  StudentHeight  StudentBMI  \\\n",
       "0      Kamaal          24          63.70           2.63        24.2   \n",
       "1        Rick          26          88.77           4.30        20.6   \n",
       "2       Kayla          24          60.97           4.52        13.5   \n",
       "3     Kendall          26          67.79           4.80        14.1   \n",
       "4       Maaiz          21          86.29           4.03        21.4   \n",
       "\n",
       "    BMI Status Eye Color Hair Color  \n",
       "0       NORMAL     White        Red  \n",
       "1       NORMAL     Green   Brunette  \n",
       "2  UNDERWEIGHT     White        Red  \n",
       "3  UNDERWEIGHT      Grey     Blonde  \n",
       "4       NORMAL     Black   Brunette  "
      ]
     },
     "execution_count": 4,
     "metadata": {},
     "output_type": "execute_result"
    }
   ],
   "source": [
    "multiqualquan = pd.read_excel(\"Assignment 8.xlsx\")\n",
    "multiqualquan.head()"
   ]
  },
  {
   "cell_type": "code",
   "execution_count": 5,
   "id": "5b73f9ae",
   "metadata": {},
   "outputs": [
    {
     "data": {
      "text/html": [
       "<div>\n",
       "<style scoped>\n",
       "    .dataframe tbody tr th:only-of-type {\n",
       "        vertical-align: middle;\n",
       "    }\n",
       "\n",
       "    .dataframe tbody tr th {\n",
       "        vertical-align: top;\n",
       "    }\n",
       "\n",
       "    .dataframe thead th {\n",
       "        text-align: right;\n",
       "    }\n",
       "</style>\n",
       "<table border=\"1\" class=\"dataframe\">\n",
       "  <thead>\n",
       "    <tr style=\"text-align: right;\">\n",
       "      <th></th>\n",
       "      <th>StudentName</th>\n",
       "      <th>StudentAge</th>\n",
       "      <th>StudentWeight</th>\n",
       "      <th>StudentHeight</th>\n",
       "      <th>StudentBMI</th>\n",
       "      <th>BMI Status</th>\n",
       "      <th>Eye Color</th>\n",
       "      <th>Hair Color</th>\n",
       "    </tr>\n",
       "  </thead>\n",
       "  <tbody>\n",
       "    <tr>\n",
       "      <th>count</th>\n",
       "      <td>250</td>\n",
       "      <td>250.000000</td>\n",
       "      <td>250.000000</td>\n",
       "      <td>250.000000</td>\n",
       "      <td>250.000000</td>\n",
       "      <td>250</td>\n",
       "      <td>250</td>\n",
       "      <td>250</td>\n",
       "    </tr>\n",
       "    <tr>\n",
       "      <th>unique</th>\n",
       "      <td>239</td>\n",
       "      <td>NaN</td>\n",
       "      <td>NaN</td>\n",
       "      <td>NaN</td>\n",
       "      <td>NaN</td>\n",
       "      <td>5</td>\n",
       "      <td>6</td>\n",
       "      <td>4</td>\n",
       "    </tr>\n",
       "    <tr>\n",
       "      <th>top</th>\n",
       "      <td>Matthew</td>\n",
       "      <td>NaN</td>\n",
       "      <td>NaN</td>\n",
       "      <td>NaN</td>\n",
       "      <td>NaN</td>\n",
       "      <td>UNDERWEIGHT</td>\n",
       "      <td>White</td>\n",
       "      <td>Blonde</td>\n",
       "    </tr>\n",
       "    <tr>\n",
       "      <th>freq</th>\n",
       "      <td>2</td>\n",
       "      <td>NaN</td>\n",
       "      <td>NaN</td>\n",
       "      <td>NaN</td>\n",
       "      <td>NaN</td>\n",
       "      <td>86</td>\n",
       "      <td>47</td>\n",
       "      <td>69</td>\n",
       "    </tr>\n",
       "    <tr>\n",
       "      <th>mean</th>\n",
       "      <td>NaN</td>\n",
       "      <td>22.028000</td>\n",
       "      <td>75.401920</td>\n",
       "      <td>3.542600</td>\n",
       "      <td>22.734400</td>\n",
       "      <td>NaN</td>\n",
       "      <td>NaN</td>\n",
       "      <td>NaN</td>\n",
       "    </tr>\n",
       "    <tr>\n",
       "      <th>std</th>\n",
       "      <td>NaN</td>\n",
       "      <td>3.216926</td>\n",
       "      <td>8.670352</td>\n",
       "      <td>0.858792</td>\n",
       "      <td>6.745293</td>\n",
       "      <td>NaN</td>\n",
       "      <td>NaN</td>\n",
       "      <td>NaN</td>\n",
       "    </tr>\n",
       "    <tr>\n",
       "      <th>min</th>\n",
       "      <td>NaN</td>\n",
       "      <td>16.000000</td>\n",
       "      <td>60.130000</td>\n",
       "      <td>2.010000</td>\n",
       "      <td>12.400000</td>\n",
       "      <td>NaN</td>\n",
       "      <td>NaN</td>\n",
       "      <td>NaN</td>\n",
       "    </tr>\n",
       "    <tr>\n",
       "      <th>25%</th>\n",
       "      <td>NaN</td>\n",
       "      <td>19.000000</td>\n",
       "      <td>67.932500</td>\n",
       "      <td>2.790000</td>\n",
       "      <td>17.525000</td>\n",
       "      <td>NaN</td>\n",
       "      <td>NaN</td>\n",
       "      <td>NaN</td>\n",
       "    </tr>\n",
       "    <tr>\n",
       "      <th>50%</th>\n",
       "      <td>NaN</td>\n",
       "      <td>22.000000</td>\n",
       "      <td>75.930000</td>\n",
       "      <td>3.560000</td>\n",
       "      <td>21.350000</td>\n",
       "      <td>NaN</td>\n",
       "      <td>NaN</td>\n",
       "      <td>NaN</td>\n",
       "    </tr>\n",
       "    <tr>\n",
       "      <th>75%</th>\n",
       "      <td>NaN</td>\n",
       "      <td>25.000000</td>\n",
       "      <td>83.362500</td>\n",
       "      <td>4.237500</td>\n",
       "      <td>26.375000</td>\n",
       "      <td>NaN</td>\n",
       "      <td>NaN</td>\n",
       "      <td>NaN</td>\n",
       "    </tr>\n",
       "    <tr>\n",
       "      <th>max</th>\n",
       "      <td>NaN</td>\n",
       "      <td>27.000000</td>\n",
       "      <td>89.910000</td>\n",
       "      <td>4.960000</td>\n",
       "      <td>42.600000</td>\n",
       "      <td>NaN</td>\n",
       "      <td>NaN</td>\n",
       "      <td>NaN</td>\n",
       "    </tr>\n",
       "  </tbody>\n",
       "</table>\n",
       "</div>"
      ],
      "text/plain": [
       "       StudentName  StudentAge  StudentWeight  StudentHeight  StudentBMI  \\\n",
       "count          250  250.000000     250.000000     250.000000  250.000000   \n",
       "unique         239         NaN            NaN            NaN         NaN   \n",
       "top        Matthew         NaN            NaN            NaN         NaN   \n",
       "freq             2         NaN            NaN            NaN         NaN   \n",
       "mean           NaN   22.028000      75.401920       3.542600   22.734400   \n",
       "std            NaN    3.216926       8.670352       0.858792    6.745293   \n",
       "min            NaN   16.000000      60.130000       2.010000   12.400000   \n",
       "25%            NaN   19.000000      67.932500       2.790000   17.525000   \n",
       "50%            NaN   22.000000      75.930000       3.560000   21.350000   \n",
       "75%            NaN   25.000000      83.362500       4.237500   26.375000   \n",
       "max            NaN   27.000000      89.910000       4.960000   42.600000   \n",
       "\n",
       "         BMI Status Eye Color Hair Color  \n",
       "count           250       250        250  \n",
       "unique            5         6          4  \n",
       "top     UNDERWEIGHT     White     Blonde  \n",
       "freq             86        47         69  \n",
       "mean            NaN       NaN        NaN  \n",
       "std             NaN       NaN        NaN  \n",
       "min             NaN       NaN        NaN  \n",
       "25%             NaN       NaN        NaN  \n",
       "50%             NaN       NaN        NaN  \n",
       "75%             NaN       NaN        NaN  \n",
       "max             NaN       NaN        NaN  "
      ]
     },
     "execution_count": 5,
     "metadata": {},
     "output_type": "execute_result"
    }
   ],
   "source": [
    "multiqualquan.describe(include = \"all\")"
   ]
  },
  {
   "cell_type": "code",
   "execution_count": 6,
   "id": "c158a179",
   "metadata": {},
   "outputs": [
    {
     "name": "stdout",
     "output_type": "stream",
     "text": [
      "<class 'pandas.core.frame.DataFrame'>\n",
      "RangeIndex: 250 entries, 0 to 249\n",
      "Data columns (total 8 columns):\n",
      " #   Column         Non-Null Count  Dtype  \n",
      "---  ------         --------------  -----  \n",
      " 0   StudentName    250 non-null    object \n",
      " 1   StudentAge     250 non-null    int64  \n",
      " 2   StudentWeight  250 non-null    float64\n",
      " 3   StudentHeight  250 non-null    float64\n",
      " 4   StudentBMI     250 non-null    float64\n",
      " 5   BMI Status     250 non-null    object \n",
      " 6   Eye Color      250 non-null    object \n",
      " 7   Hair Color     250 non-null    object \n",
      "dtypes: float64(3), int64(1), object(4)\n",
      "memory usage: 15.8+ KB\n"
     ]
    }
   ],
   "source": [
    "multiqualquan.info()"
   ]
  },
  {
   "cell_type": "code",
   "execution_count": 7,
   "id": "9d807270",
   "metadata": {},
   "outputs": [
    {
     "data": {
      "text/plain": [
       "-0.19621098793141006"
      ]
     },
     "execution_count": 7,
     "metadata": {},
     "output_type": "execute_result"
    }
   ],
   "source": [
    "(multiqualquan[\"StudentAge\"]).skew()"
   ]
  },
  {
   "cell_type": "code",
   "execution_count": 8,
   "id": "fdb3ae1f",
   "metadata": {},
   "outputs": [
    {
     "data": {
      "text/plain": [
       "-1.1571598976356157"
      ]
     },
     "execution_count": 8,
     "metadata": {},
     "output_type": "execute_result"
    }
   ],
   "source": [
    "(multiqualquan[\"StudentAge\"]).kurt()"
   ]
  },
  {
   "cell_type": "code",
   "execution_count": 9,
   "id": "3cdc27c2",
   "metadata": {},
   "outputs": [
    {
     "data": {
      "text/plain": [
       "-0.12220359233364465"
      ]
     },
     "execution_count": 9,
     "metadata": {},
     "output_type": "execute_result"
    }
   ],
   "source": [
    "(multiqualquan[\"StudentWeight\"]).skew()"
   ]
  },
  {
   "cell_type": "code",
   "execution_count": 10,
   "id": "c3e6f48f",
   "metadata": {},
   "outputs": [
    {
     "data": {
      "text/plain": [
       "-1.2125186025082717"
      ]
     },
     "execution_count": 10,
     "metadata": {},
     "output_type": "execute_result"
    }
   ],
   "source": [
    "(multiqualquan[\"StudentWeight\"]).kurt()"
   ]
  },
  {
   "cell_type": "code",
   "execution_count": 11,
   "id": "2d516440",
   "metadata": {},
   "outputs": [
    {
     "data": {
      "text/plain": [
       "-0.10417187914089214"
      ]
     },
     "execution_count": 11,
     "metadata": {},
     "output_type": "execute_result"
    }
   ],
   "source": [
    "(multiqualquan[\"StudentHeight\"]).skew()"
   ]
  },
  {
   "cell_type": "code",
   "execution_count": 12,
   "id": "2d0b8c85",
   "metadata": {},
   "outputs": [
    {
     "data": {
      "text/plain": [
       "-1.1801605641634165"
      ]
     },
     "execution_count": 12,
     "metadata": {},
     "output_type": "execute_result"
    }
   ],
   "source": [
    "(multiqualquan[\"StudentHeight\"]).kurt()"
   ]
  },
  {
   "cell_type": "code",
   "execution_count": 13,
   "id": "5bc4edf6",
   "metadata": {},
   "outputs": [
    {
     "data": {
      "text/html": [
       "<div>\n",
       "<style scoped>\n",
       "    .dataframe tbody tr th:only-of-type {\n",
       "        vertical-align: middle;\n",
       "    }\n",
       "\n",
       "    .dataframe tbody tr th {\n",
       "        vertical-align: top;\n",
       "    }\n",
       "\n",
       "    .dataframe thead th {\n",
       "        text-align: right;\n",
       "    }\n",
       "</style>\n",
       "<table border=\"1\" class=\"dataframe\">\n",
       "  <thead>\n",
       "    <tr style=\"text-align: right;\">\n",
       "      <th></th>\n",
       "      <th>StudentAge</th>\n",
       "      <th>count</th>\n",
       "      <th>percent</th>\n",
       "      <th>cumulative_count</th>\n",
       "      <th>cumulative_percent</th>\n",
       "    </tr>\n",
       "  </thead>\n",
       "  <tbody>\n",
       "    <tr>\n",
       "      <th>0</th>\n",
       "      <td>24</td>\n",
       "      <td>30</td>\n",
       "      <td>12.0</td>\n",
       "      <td>30</td>\n",
       "      <td>12.0</td>\n",
       "    </tr>\n",
       "    <tr>\n",
       "      <th>1</th>\n",
       "      <td>26</td>\n",
       "      <td>29</td>\n",
       "      <td>11.6</td>\n",
       "      <td>59</td>\n",
       "      <td>23.6</td>\n",
       "    </tr>\n",
       "    <tr>\n",
       "      <th>2</th>\n",
       "      <td>25</td>\n",
       "      <td>26</td>\n",
       "      <td>10.4</td>\n",
       "      <td>85</td>\n",
       "      <td>34.0</td>\n",
       "    </tr>\n",
       "    <tr>\n",
       "      <th>3</th>\n",
       "      <td>20</td>\n",
       "      <td>25</td>\n",
       "      <td>10.0</td>\n",
       "      <td>110</td>\n",
       "      <td>44.0</td>\n",
       "    </tr>\n",
       "    <tr>\n",
       "      <th>4</th>\n",
       "      <td>18</td>\n",
       "      <td>23</td>\n",
       "      <td>9.2</td>\n",
       "      <td>133</td>\n",
       "      <td>53.2</td>\n",
       "    </tr>\n",
       "    <tr>\n",
       "      <th>5</th>\n",
       "      <td>23</td>\n",
       "      <td>22</td>\n",
       "      <td>8.8</td>\n",
       "      <td>155</td>\n",
       "      <td>62.0</td>\n",
       "    </tr>\n",
       "    <tr>\n",
       "      <th>6</th>\n",
       "      <td>22</td>\n",
       "      <td>21</td>\n",
       "      <td>8.4</td>\n",
       "      <td>176</td>\n",
       "      <td>70.4</td>\n",
       "    </tr>\n",
       "    <tr>\n",
       "      <th>7</th>\n",
       "      <td>21</td>\n",
       "      <td>17</td>\n",
       "      <td>6.8</td>\n",
       "      <td>193</td>\n",
       "      <td>77.2</td>\n",
       "    </tr>\n",
       "    <tr>\n",
       "      <th>8</th>\n",
       "      <td>19</td>\n",
       "      <td>17</td>\n",
       "      <td>6.8</td>\n",
       "      <td>210</td>\n",
       "      <td>84.0</td>\n",
       "    </tr>\n",
       "    <tr>\n",
       "      <th>9</th>\n",
       "      <td>17</td>\n",
       "      <td>16</td>\n",
       "      <td>6.4</td>\n",
       "      <td>226</td>\n",
       "      <td>90.4</td>\n",
       "    </tr>\n",
       "    <tr>\n",
       "      <th>10</th>\n",
       "      <td>27</td>\n",
       "      <td>15</td>\n",
       "      <td>6.0</td>\n",
       "      <td>241</td>\n",
       "      <td>96.4</td>\n",
       "    </tr>\n",
       "    <tr>\n",
       "      <th>11</th>\n",
       "      <td>16</td>\n",
       "      <td>9</td>\n",
       "      <td>3.6</td>\n",
       "      <td>250</td>\n",
       "      <td>100.0</td>\n",
       "    </tr>\n",
       "  </tbody>\n",
       "</table>\n",
       "</div>"
      ],
      "text/plain": [
       "    StudentAge  count  percent  cumulative_count  cumulative_percent\n",
       "0           24     30     12.0                30                12.0\n",
       "1           26     29     11.6                59                23.6\n",
       "2           25     26     10.4                85                34.0\n",
       "3           20     25     10.0               110                44.0\n",
       "4           18     23      9.2               133                53.2\n",
       "5           23     22      8.8               155                62.0\n",
       "6           22     21      8.4               176                70.4\n",
       "7           21     17      6.8               193                77.2\n",
       "8           19     17      6.8               210                84.0\n",
       "9           17     16      6.4               226                90.4\n",
       "10          27     15      6.0               241                96.4\n",
       "11          16      9      3.6               250               100.0"
      ]
     },
     "execution_count": 13,
     "metadata": {},
     "output_type": "execute_result"
    }
   ],
   "source": [
    "multiqualquan.stb.freq([\"StudentAge\"])"
   ]
  },
  {
   "cell_type": "code",
   "execution_count": 14,
   "id": "694621fd",
   "metadata": {},
   "outputs": [
    {
     "data": {
      "text/html": [
       "<div>\n",
       "<style scoped>\n",
       "    .dataframe tbody tr th:only-of-type {\n",
       "        vertical-align: middle;\n",
       "    }\n",
       "\n",
       "    .dataframe tbody tr th {\n",
       "        vertical-align: top;\n",
       "    }\n",
       "\n",
       "    .dataframe thead th {\n",
       "        text-align: right;\n",
       "    }\n",
       "</style>\n",
       "<table border=\"1\" class=\"dataframe\">\n",
       "  <thead>\n",
       "    <tr style=\"text-align: right;\">\n",
       "      <th></th>\n",
       "      <th>StudentWeight</th>\n",
       "      <th>count</th>\n",
       "      <th>percent</th>\n",
       "      <th>cumulative_count</th>\n",
       "      <th>cumulative_percent</th>\n",
       "    </tr>\n",
       "  </thead>\n",
       "  <tbody>\n",
       "    <tr>\n",
       "      <th>0</th>\n",
       "      <td>81.20</td>\n",
       "      <td>2</td>\n",
       "      <td>0.8</td>\n",
       "      <td>2</td>\n",
       "      <td>0.8</td>\n",
       "    </tr>\n",
       "    <tr>\n",
       "      <th>1</th>\n",
       "      <td>72.51</td>\n",
       "      <td>2</td>\n",
       "      <td>0.8</td>\n",
       "      <td>4</td>\n",
       "      <td>1.6</td>\n",
       "    </tr>\n",
       "    <tr>\n",
       "      <th>2</th>\n",
       "      <td>89.91</td>\n",
       "      <td>1</td>\n",
       "      <td>0.4</td>\n",
       "      <td>5</td>\n",
       "      <td>2.0</td>\n",
       "    </tr>\n",
       "    <tr>\n",
       "      <th>3</th>\n",
       "      <td>89.88</td>\n",
       "      <td>1</td>\n",
       "      <td>0.4</td>\n",
       "      <td>6</td>\n",
       "      <td>2.4</td>\n",
       "    </tr>\n",
       "    <tr>\n",
       "      <th>4</th>\n",
       "      <td>89.86</td>\n",
       "      <td>1</td>\n",
       "      <td>0.4</td>\n",
       "      <td>7</td>\n",
       "      <td>2.8</td>\n",
       "    </tr>\n",
       "    <tr>\n",
       "      <th>...</th>\n",
       "      <td>...</td>\n",
       "      <td>...</td>\n",
       "      <td>...</td>\n",
       "      <td>...</td>\n",
       "      <td>...</td>\n",
       "    </tr>\n",
       "    <tr>\n",
       "      <th>243</th>\n",
       "      <td>60.49</td>\n",
       "      <td>1</td>\n",
       "      <td>0.4</td>\n",
       "      <td>246</td>\n",
       "      <td>98.4</td>\n",
       "    </tr>\n",
       "    <tr>\n",
       "      <th>244</th>\n",
       "      <td>60.48</td>\n",
       "      <td>1</td>\n",
       "      <td>0.4</td>\n",
       "      <td>247</td>\n",
       "      <td>98.8</td>\n",
       "    </tr>\n",
       "    <tr>\n",
       "      <th>245</th>\n",
       "      <td>60.47</td>\n",
       "      <td>1</td>\n",
       "      <td>0.4</td>\n",
       "      <td>248</td>\n",
       "      <td>99.2</td>\n",
       "    </tr>\n",
       "    <tr>\n",
       "      <th>246</th>\n",
       "      <td>60.33</td>\n",
       "      <td>1</td>\n",
       "      <td>0.4</td>\n",
       "      <td>249</td>\n",
       "      <td>99.6</td>\n",
       "    </tr>\n",
       "    <tr>\n",
       "      <th>247</th>\n",
       "      <td>60.13</td>\n",
       "      <td>1</td>\n",
       "      <td>0.4</td>\n",
       "      <td>250</td>\n",
       "      <td>100.0</td>\n",
       "    </tr>\n",
       "  </tbody>\n",
       "</table>\n",
       "<p>248 rows × 5 columns</p>\n",
       "</div>"
      ],
      "text/plain": [
       "     StudentWeight  count  percent  cumulative_count  cumulative_percent\n",
       "0            81.20      2      0.8                 2                 0.8\n",
       "1            72.51      2      0.8                 4                 1.6\n",
       "2            89.91      1      0.4                 5                 2.0\n",
       "3            89.88      1      0.4                 6                 2.4\n",
       "4            89.86      1      0.4                 7                 2.8\n",
       "..             ...    ...      ...               ...                 ...\n",
       "243          60.49      1      0.4               246                98.4\n",
       "244          60.48      1      0.4               247                98.8\n",
       "245          60.47      1      0.4               248                99.2\n",
       "246          60.33      1      0.4               249                99.6\n",
       "247          60.13      1      0.4               250               100.0\n",
       "\n",
       "[248 rows x 5 columns]"
      ]
     },
     "execution_count": 14,
     "metadata": {},
     "output_type": "execute_result"
    }
   ],
   "source": [
    "multiqualquan.stb.freq([\"StudentWeight\"])"
   ]
  },
  {
   "cell_type": "code",
   "execution_count": 15,
   "id": "a3c834ee",
   "metadata": {},
   "outputs": [
    {
     "data": {
      "text/html": [
       "<div>\n",
       "<style scoped>\n",
       "    .dataframe tbody tr th:only-of-type {\n",
       "        vertical-align: middle;\n",
       "    }\n",
       "\n",
       "    .dataframe tbody tr th {\n",
       "        vertical-align: top;\n",
       "    }\n",
       "\n",
       "    .dataframe thead th {\n",
       "        text-align: right;\n",
       "    }\n",
       "</style>\n",
       "<table border=\"1\" class=\"dataframe\">\n",
       "  <thead>\n",
       "    <tr style=\"text-align: right;\">\n",
       "      <th></th>\n",
       "      <th>StudentHeight</th>\n",
       "      <th>count</th>\n",
       "      <th>percent</th>\n",
       "      <th>cumulative_count</th>\n",
       "      <th>cumulative_percent</th>\n",
       "    </tr>\n",
       "  </thead>\n",
       "  <tbody>\n",
       "    <tr>\n",
       "      <th>0</th>\n",
       "      <td>4.05</td>\n",
       "      <td>6</td>\n",
       "      <td>2.4</td>\n",
       "      <td>6</td>\n",
       "      <td>2.4</td>\n",
       "    </tr>\n",
       "    <tr>\n",
       "      <th>1</th>\n",
       "      <td>3.33</td>\n",
       "      <td>4</td>\n",
       "      <td>1.6</td>\n",
       "      <td>10</td>\n",
       "      <td>4.0</td>\n",
       "    </tr>\n",
       "    <tr>\n",
       "      <th>2</th>\n",
       "      <td>2.20</td>\n",
       "      <td>4</td>\n",
       "      <td>1.6</td>\n",
       "      <td>14</td>\n",
       "      <td>5.6</td>\n",
       "    </tr>\n",
       "    <tr>\n",
       "      <th>3</th>\n",
       "      <td>4.87</td>\n",
       "      <td>3</td>\n",
       "      <td>1.2</td>\n",
       "      <td>17</td>\n",
       "      <td>6.8</td>\n",
       "    </tr>\n",
       "    <tr>\n",
       "      <th>4</th>\n",
       "      <td>4.83</td>\n",
       "      <td>3</td>\n",
       "      <td>1.2</td>\n",
       "      <td>20</td>\n",
       "      <td>8.0</td>\n",
       "    </tr>\n",
       "    <tr>\n",
       "      <th>...</th>\n",
       "      <td>...</td>\n",
       "      <td>...</td>\n",
       "      <td>...</td>\n",
       "      <td>...</td>\n",
       "      <td>...</td>\n",
       "    </tr>\n",
       "    <tr>\n",
       "      <th>159</th>\n",
       "      <td>2.08</td>\n",
       "      <td>1</td>\n",
       "      <td>0.4</td>\n",
       "      <td>246</td>\n",
       "      <td>98.4</td>\n",
       "    </tr>\n",
       "    <tr>\n",
       "      <th>160</th>\n",
       "      <td>2.06</td>\n",
       "      <td>1</td>\n",
       "      <td>0.4</td>\n",
       "      <td>247</td>\n",
       "      <td>98.8</td>\n",
       "    </tr>\n",
       "    <tr>\n",
       "      <th>161</th>\n",
       "      <td>2.04</td>\n",
       "      <td>1</td>\n",
       "      <td>0.4</td>\n",
       "      <td>248</td>\n",
       "      <td>99.2</td>\n",
       "    </tr>\n",
       "    <tr>\n",
       "      <th>162</th>\n",
       "      <td>2.03</td>\n",
       "      <td>1</td>\n",
       "      <td>0.4</td>\n",
       "      <td>249</td>\n",
       "      <td>99.6</td>\n",
       "    </tr>\n",
       "    <tr>\n",
       "      <th>163</th>\n",
       "      <td>2.01</td>\n",
       "      <td>1</td>\n",
       "      <td>0.4</td>\n",
       "      <td>250</td>\n",
       "      <td>100.0</td>\n",
       "    </tr>\n",
       "  </tbody>\n",
       "</table>\n",
       "<p>164 rows × 5 columns</p>\n",
       "</div>"
      ],
      "text/plain": [
       "     StudentHeight  count  percent  cumulative_count  cumulative_percent\n",
       "0             4.05      6      2.4                 6                 2.4\n",
       "1             3.33      4      1.6                10                 4.0\n",
       "2             2.20      4      1.6                14                 5.6\n",
       "3             4.87      3      1.2                17                 6.8\n",
       "4             4.83      3      1.2                20                 8.0\n",
       "..             ...    ...      ...               ...                 ...\n",
       "159           2.08      1      0.4               246                98.4\n",
       "160           2.06      1      0.4               247                98.8\n",
       "161           2.04      1      0.4               248                99.2\n",
       "162           2.03      1      0.4               249                99.6\n",
       "163           2.01      1      0.4               250               100.0\n",
       "\n",
       "[164 rows x 5 columns]"
      ]
     },
     "execution_count": 15,
     "metadata": {},
     "output_type": "execute_result"
    }
   ],
   "source": [
    "multiqualquan.stb.freq([\"StudentHeight\"])"
   ]
  },
  {
   "cell_type": "code",
   "execution_count": 16,
   "id": "a0f210bb",
   "metadata": {},
   "outputs": [
    {
     "data": {
      "text/plain": [
       "StudentAge       22.00\n",
       "StudentWeight    75.93\n",
       "StudentHeight     3.56\n",
       "StudentBMI       21.35\n",
       "dtype: float64"
      ]
     },
     "execution_count": 16,
     "metadata": {},
     "output_type": "execute_result"
    }
   ],
   "source": [
    "multiqualquan.median()"
   ]
  },
  {
   "cell_type": "code",
   "execution_count": 17,
   "id": "a6907e3a",
   "metadata": {},
   "outputs": [
    {
     "name": "stdout",
     "output_type": "stream",
     "text": [
      "The maximum age is 27\n",
      "The minimum age is 16\n",
      "The range of the ages is 11\n",
      "The maximum Weight is 89.91\n",
      "The minimum Weight is 60.13\n",
      "The range of the Weights is 29.78\n",
      "The maximum Height is 4.96\n",
      "The minimum Height is 2.01\n",
      "The range of the Heights is 2.95\n"
     ]
    }
   ],
   "source": [
    "maxAge = max(multiqualquan[\"StudentAge\"])\n",
    "maxAge\n",
    "\n",
    "print(\"The maximum age is\" , maxAge)\n",
    "\n",
    "minAge = min(multiqualquan[\"StudentAge\"])\n",
    "minAge\n",
    "\n",
    "print(\"The minimum age is\" , minAge)\n",
    "\n",
    "rangeAge = maxAge - minAge\n",
    "rangeAge\n",
    "\n",
    "print(\"The range of the ages is\" , rangeAge)\n",
    "\n",
    "maxWeight = max(multiqualquan[\"StudentWeight\"])\n",
    "maxWeight\n",
    "\n",
    "print(\"The maximum Weight is\" , maxWeight)\n",
    "\n",
    "minWeight = min(multiqualquan[\"StudentWeight\"])\n",
    "minWeight\n",
    "\n",
    "print(\"The minimum Weight is\" , minWeight)\n",
    "\n",
    "rangeWeight = maxWeight - minWeight\n",
    "rangeofWeight = round(rangeWeight,2)\n",
    "rangeofWeight\n",
    "\n",
    "print(\"The range of the Weights is\" , rangeofWeight)\n",
    "\n",
    "maxHeight = max(multiqualquan[\"StudentHeight\"])\n",
    "maxHeight\n",
    "\n",
    "print(\"The maximum Height is\" , maxHeight)\n",
    "\n",
    "minHeight = min(multiqualquan[\"StudentHeight\"])\n",
    "minHeight\n",
    "\n",
    "print(\"The minimum Height is\" , minHeight)\n",
    "\n",
    "rangeHeight = maxHeight - minHeight\n",
    "rangeHeight\n",
    "\n",
    "print(\"The range of the Heights is\" , rangeHeight)\n"
   ]
  },
  {
   "cell_type": "code",
   "execution_count": 18,
   "id": "0d977ea3",
   "metadata": {},
   "outputs": [
    {
     "name": "stdout",
     "output_type": "stream",
     "text": [
      "10.348610441767068\n"
     ]
    }
   ],
   "source": [
    "varianceAge = statistics.variance(multiqualquan[\"StudentAge\"])\n",
    "print(varianceAge)"
   ]
  },
  {
   "cell_type": "code",
   "execution_count": 19,
   "id": "8e171db5",
   "metadata": {},
   "outputs": [
    {
     "name": "stdout",
     "output_type": "stream",
     "text": [
      "75.17500352771084\n"
     ]
    }
   ],
   "source": [
    "varianceWeight = statistics.variance(multiqualquan[\"StudentWeight\"])\n",
    "print(varianceWeight)"
   ]
  },
  {
   "cell_type": "code",
   "execution_count": 20,
   "id": "a0f2b457",
   "metadata": {},
   "outputs": [
    {
     "name": "stdout",
     "output_type": "stream",
     "text": [
      "0.7375237349397591\n"
     ]
    }
   ],
   "source": [
    "varianceHeight = statistics.variance(multiqualquan[\"StudentHeight\"])\n",
    "print(varianceHeight)"
   ]
  },
  {
   "cell_type": "code",
   "execution_count": 21,
   "id": "3251a392",
   "metadata": {},
   "outputs": [
    {
     "data": {
      "image/png": "[encoded data removed]",
      "text/plain": [
       "<Figure size 864x864 with 20 Axes>"
      ]
     },
     "metadata": {
      "needs_background": "light"
     },
     "output_type": "display_data"
    }
   ],
   "source": [
    "sns.pairplot(data = multiqualquan, height = 3)\n",
    "plt.show()\n"
   ]
  },
  {
   "cell_type": "code",
   "execution_count": null,
   "id": "828a7fa0",
   "metadata": {},
   "outputs": [],
   "source": []
  }
 ],
 "metadata": {
  "kernelspec": {
   "display_name": "Python 3",
   "language": "python",
   "name": "python3"
  },
  "language_info": {
   "codemirror_mode": {
    "name": "ipython",
    "version": 3
   },
   "file_extension": ".py",
   "mimetype": "text/x-python",
   "name": "python",
   "nbconvert_exporter": "python",
   "pygments_lexer": "ipython3",
   "version": "3.8.8"
  }
 },
 "nbformat": 4,
 "nbformat_minor": 5
}
