{
 "cells": [
  {
   "cell_type": "code",
   "execution_count": 24,
   "id": "e3331f05",
   "metadata": {},
   "outputs": [],
   "source": [
    "import pandas as pd\n",
    "import numpy as np\n",
    "import matplotlib.pyplot as plt\n",
    "import math\n",
    "import os\n",
    "import sidetable as stb\n",
    "import statistics\n",
    "import seaborn as sns\n",
    "from statsmodels.graphics.mosaicplot import mosaic"
   ]
  },
  {
   "cell_type": "code",
   "execution_count": 28,
   "id": "e00f6699",
   "metadata": {
    "scrolled": true
   },
   "outputs": [
    {
     "name": "stdout",
     "output_type": "stream",
     "text": [
      "      BMI Status\n",
      "0         NORMAL\n",
      "1         NORMAL\n",
      "2    UNDERWEIGHT\n",
      "3    UNDERWEIGHT\n",
      "4         NORMAL\n",
      "..           ...\n",
      "245        OBESE\n",
      "246       NORMAL\n",
      "247   OVERWEIGHT\n",
      "248       NORMAL\n",
      "249  UNDERWEIGHT\n",
      "\n",
      "[250 rows x 1 columns]\n",
      "UNDERWEIGHT        86\n",
      "NORMAL             74\n",
      "OVERWEIGHT         52\n",
      "OBESE              35\n",
      "EXTREMELY OBESE     3\n",
      "Name: BMI Status, dtype: int64\n",
      "AxesSubplot(0.125,0.125;0.775x0.755)\n"
     ]
    },
    {
     "data": {
      "text/html": [
       "<div>\n",
       "<style scoped>\n",
       "    .dataframe tbody tr th:only-of-type {\n",
       "        vertical-align: middle;\n",
       "    }\n",
       "\n",
       "    .dataframe tbody tr th {\n",
       "        vertical-align: top;\n",
       "    }\n",
       "\n",
       "    .dataframe thead th {\n",
       "        text-align: right;\n",
       "    }\n",
       "</style>\n",
       "<table border=\"1\" class=\"dataframe\">\n",
       "  <thead>\n",
       "    <tr style=\"text-align: right;\">\n",
       "      <th></th>\n",
       "      <th>BMI Status</th>\n",
       "      <th>count</th>\n",
       "      <th>percent</th>\n",
       "      <th>cumulative_count</th>\n",
       "      <th>cumulative_percent</th>\n",
       "    </tr>\n",
       "  </thead>\n",
       "  <tbody>\n",
       "    <tr>\n",
       "      <th>0</th>\n",
       "      <td>UNDERWEIGHT</td>\n",
       "      <td>86</td>\n",
       "      <td>34.4</td>\n",
       "      <td>86</td>\n",
       "      <td>34.4</td>\n",
       "    </tr>\n",
       "    <tr>\n",
       "      <th>1</th>\n",
       "      <td>NORMAL</td>\n",
       "      <td>74</td>\n",
       "      <td>29.6</td>\n",
       "      <td>160</td>\n",
       "      <td>64.0</td>\n",
       "    </tr>\n",
       "    <tr>\n",
       "      <th>2</th>\n",
       "      <td>OVERWEIGHT</td>\n",
       "      <td>52</td>\n",
       "      <td>20.8</td>\n",
       "      <td>212</td>\n",
       "      <td>84.8</td>\n",
       "    </tr>\n",
       "    <tr>\n",
       "      <th>3</th>\n",
       "      <td>OBESE</td>\n",
       "      <td>35</td>\n",
       "      <td>14.0</td>\n",
       "      <td>247</td>\n",
       "      <td>98.8</td>\n",
       "    </tr>\n",
       "    <tr>\n",
       "      <th>4</th>\n",
       "      <td>EXTREMELY OBESE</td>\n",
       "      <td>3</td>\n",
       "      <td>1.2</td>\n",
       "      <td>250</td>\n",
       "      <td>100.0</td>\n",
       "    </tr>\n",
       "  </tbody>\n",
       "</table>\n",
       "</div>"
      ],
      "text/plain": [
       "        BMI Status  count  percent  cumulative_count  cumulative_percent\n",
       "0      UNDERWEIGHT     86     34.4                86                34.4\n",
       "1           NORMAL     74     29.6               160                64.0\n",
       "2       OVERWEIGHT     52     20.8               212                84.8\n",
       "3            OBESE     35     14.0               247                98.8\n",
       "4  EXTREMELY OBESE      3      1.2               250               100.0"
      ]
     },
     "execution_count": 28,
     "metadata": {},
     "output_type": "execute_result"
    },
    {
     "data": {
      "image/png": "[encoded data removed]",
      "text/plain": [
       "<Figure size 432x288 with 1 Axes>"
      ]
     },
     "metadata": {
      "needs_background": "light"
     },
     "output_type": "display_data"
    }
   ],
   "source": [
    "df = pd.read_excel (r'C:\\Users\\User1\\Desktop\\DataAnalysisProject\\Assignment1.xlsx')\n",
    "print (df)\n",
    "\n",
    "count = df['BMI Status'].value_counts()\n",
    "print(count)\n",
    "\n",
    "barchart = count.plot(kind = 'bar')\n",
    "print (barchart)\n",
    "\n",
    "df.mode()\n",
    "\n",
    "#Frequency Table\n",
    "freqtab = pd.crosstab(index=df[\"BMI Status\"], columns=\"count\")\n",
    "freqtab\n"
   ]
  },
  {
   "cell_type": "code",
   "execution_count": 32,
   "id": "e0b8bba4",
   "metadata": {},
   "outputs": [
    {
     "data": {
      "text/html": [
       "<div>\n",
       "<style scoped>\n",
       "    .dataframe tbody tr th:only-of-type {\n",
       "        vertical-align: middle;\n",
       "    }\n",
       "\n",
       "    .dataframe tbody tr th {\n",
       "        vertical-align: top;\n",
       "    }\n",
       "\n",
       "    .dataframe thead th {\n",
       "        text-align: right;\n",
       "    }\n",
       "</style>\n",
       "<table border=\"1\" class=\"dataframe\">\n",
       "  <thead>\n",
       "    <tr style=\"text-align: right;\">\n",
       "      <th></th>\n",
       "      <th>BMI Status</th>\n",
       "      <th>count</th>\n",
       "      <th>percent</th>\n",
       "      <th>cumulative_count</th>\n",
       "      <th>cumulative_percent</th>\n",
       "    </tr>\n",
       "  </thead>\n",
       "  <tbody>\n",
       "    <tr>\n",
       "      <th>0</th>\n",
       "      <td>UNDERWEIGHT</td>\n",
       "      <td>86</td>\n",
       "      <td>34.4</td>\n",
       "      <td>86</td>\n",
       "      <td>34.4</td>\n",
       "    </tr>\n",
       "    <tr>\n",
       "      <th>1</th>\n",
       "      <td>NORMAL</td>\n",
       "      <td>74</td>\n",
       "      <td>29.6</td>\n",
       "      <td>160</td>\n",
       "      <td>64.0</td>\n",
       "    </tr>\n",
       "    <tr>\n",
       "      <th>2</th>\n",
       "      <td>OVERWEIGHT</td>\n",
       "      <td>52</td>\n",
       "      <td>20.8</td>\n",
       "      <td>212</td>\n",
       "      <td>84.8</td>\n",
       "    </tr>\n",
       "    <tr>\n",
       "      <th>3</th>\n",
       "      <td>OBESE</td>\n",
       "      <td>35</td>\n",
       "      <td>14.0</td>\n",
       "      <td>247</td>\n",
       "      <td>98.8</td>\n",
       "    </tr>\n",
       "    <tr>\n",
       "      <th>4</th>\n",
       "      <td>EXTREMELY OBESE</td>\n",
       "      <td>3</td>\n",
       "      <td>1.2</td>\n",
       "      <td>250</td>\n",
       "      <td>100.0</td>\n",
       "    </tr>\n",
       "  </tbody>\n",
       "</table>\n",
       "</div>"
      ],
      "text/plain": [
       "        BMI Status  count  percent  cumulative_count  cumulative_percent\n",
       "0      UNDERWEIGHT     86     34.4                86                34.4\n",
       "1           NORMAL     74     29.6               160                64.0\n",
       "2       OVERWEIGHT     52     20.8               212                84.8\n",
       "3            OBESE     35     14.0               247                98.8\n",
       "4  EXTREMELY OBESE      3      1.2               250               100.0"
      ]
     },
     "execution_count": 32,
     "metadata": {},
     "output_type": "execute_result"
    }
   ],
   "source": [
    "#Frequency Table for BMI Status(without excepting the cumulative frequencies and percentages)\n",
    "df.stb.freq([\"BMI Status\"])\n",
    "\n",
    "#The frequency table below has more info about the frequency of each category of the BMI Status\n",
    "#From the frequency table,the number of extremely obese students is 3,the number of normal students is 74 etc\n",
    "#From the frequency table,the percentage of underweight students is 34.4%,the percentage of normal students is 29.6% etc\n",
    "#From the frequency table,the cumulative number of overweight students is 212 etc\n",
    "#From the frequency table,the cumulative percentage of overweight students is 84.8% etc"
   ]
  },
  {
   "cell_type": "code",
   "execution_count": 33,
   "id": "0f3a017a",
   "metadata": {},
   "outputs": [
    {
     "data": {
      "text/html": [
       "<div>\n",
       "<style scoped>\n",
       "    .dataframe tbody tr th:only-of-type {\n",
       "        vertical-align: middle;\n",
       "    }\n",
       "\n",
       "    .dataframe tbody tr th {\n",
       "        vertical-align: top;\n",
       "    }\n",
       "\n",
       "    .dataframe thead th {\n",
       "        text-align: right;\n",
       "    }\n",
       "</style>\n",
       "<table border=\"1\" class=\"dataframe\">\n",
       "  <thead>\n",
       "    <tr style=\"text-align: right;\">\n",
       "      <th></th>\n",
       "      <th>BMI Status</th>\n",
       "    </tr>\n",
       "  </thead>\n",
       "  <tbody>\n",
       "    <tr>\n",
       "      <th>count</th>\n",
       "      <td>250</td>\n",
       "    </tr>\n",
       "    <tr>\n",
       "      <th>unique</th>\n",
       "      <td>5</td>\n",
       "    </tr>\n",
       "    <tr>\n",
       "      <th>top</th>\n",
       "      <td>UNDERWEIGHT</td>\n",
       "    </tr>\n",
       "    <tr>\n",
       "      <th>freq</th>\n",
       "      <td>86</td>\n",
       "    </tr>\n",
       "  </tbody>\n",
       "</table>\n",
       "</div>"
      ],
      "text/plain": [
       "         BMI Status\n",
       "count           250\n",
       "unique            5\n",
       "top     UNDERWEIGHT\n",
       "freq             86"
      ]
     },
     "execution_count": 33,
     "metadata": {},
     "output_type": "execute_result"
    }
   ],
   "source": [
    "#Summary Statistics of BMI Status\n",
    "df.describe(include=\"all\")\n",
    "\n",
    "#This is a summary statistics of the data,it outputs the frequency(count),number of categories(unique),mode(top) and frequency of mode of the data(freq) because of the nature of the data(categorical)\n",
    "#From the table,the numer of BMI Statuses is 250,the number of categories of the BMI Status is 5,the BMI Status that occurs most is \"Underweight\" and the number of underweight students is 86."
   ]
  },
  {
   "cell_type": "code",
   "execution_count": 35,
   "id": "7eeea990",
   "metadata": {},
   "outputs": [
    {
     "name": "stdout",
     "output_type": "stream",
     "text": [
      "<class 'pandas.core.frame.DataFrame'>\n",
      "RangeIndex: 250 entries, 0 to 249\n",
      "Data columns (total 1 columns):\n",
      " #   Column      Non-Null Count  Dtype \n",
      "---  ------      --------------  ----- \n",
      " 0   BMI Status  250 non-null    object\n",
      "dtypes: object(1)\n",
      "memory usage: 2.1+ KB\n"
     ]
    }
   ],
   "source": [
    "#Information about the data\n",
    "df.info()\n",
    "\n",
    "#The output summarizes the number of columns occupied in the data(1),the number of non-null values in the column and the datatype of the values in the column"
   ]
  },
  {
   "cell_type": "code",
   "execution_count": 5,
   "id": "839eb8e1",
   "metadata": {},
   "outputs": [
    {
     "name": "stdout",
     "output_type": "stream",
     "text": [
      "     StudentAge\n",
      "0            24\n",
      "1            26\n",
      "2            24\n",
      "3            26\n",
      "4            21\n",
      "..          ...\n",
      "245          23\n",
      "246          26\n",
      "247          22\n",
      "248          20\n",
      "249          25\n",
      "\n",
      "[250 rows x 1 columns]\n",
      "24    30\n",
      "26    29\n",
      "25    26\n",
      "20    25\n",
      "18    23\n",
      "23    22\n",
      "22    21\n",
      "21    17\n",
      "19    17\n",
      "17    16\n",
      "27    15\n",
      "16     9\n",
      "Name: StudentAge, dtype: int64\n",
      "AxesSubplot(0.125,0.125;0.775x0.755)\n"
     ]
    },
    {
     "data": {
      "image/png": "[encoded data removed]",
      "text/plain": [
       "<Figure size 432x288 with 1 Axes>"
      ]
     },
     "metadata": {
      "needs_background": "light"
     },
     "output_type": "display_data"
    }
   ],
   "source": [
    "uqt = pd.read_excel (r'C:\\Users\\User1\\Desktop\\DataAnalysisProject\\Assignment2.xlsx')\n",
    "print (uqt)\n",
    "\n",
    "count2 = uqt['StudentAge'].value_counts()\n",
    "print(count2)\n",
    "\n",
    "\n",
    "\n",
    "boxplot = uqt['StudentAge'].plot(kind='box', title='Age of students')\n",
    "print(boxplot)"
   ]
  },
  {
   "cell_type": "code",
   "execution_count": 36,
   "id": "e98bf8f5",
   "metadata": {},
   "outputs": [
    {
     "data": {
      "text/html": [
       "<div>\n",
       "<style scoped>\n",
       "    .dataframe tbody tr th:only-of-type {\n",
       "        vertical-align: middle;\n",
       "    }\n",
       "\n",
       "    .dataframe tbody tr th {\n",
       "        vertical-align: top;\n",
       "    }\n",
       "\n",
       "    .dataframe thead th {\n",
       "        text-align: right;\n",
       "    }\n",
       "</style>\n",
       "<table border=\"1\" class=\"dataframe\">\n",
       "  <thead>\n",
       "    <tr style=\"text-align: right;\">\n",
       "      <th></th>\n",
       "      <th>StudentAge</th>\n",
       "      <th>count</th>\n",
       "      <th>percent</th>\n",
       "      <th>cumulative_count</th>\n",
       "      <th>cumulative_percent</th>\n",
       "    </tr>\n",
       "  </thead>\n",
       "  <tbody>\n",
       "    <tr>\n",
       "      <th>0</th>\n",
       "      <td>24</td>\n",
       "      <td>30</td>\n",
       "      <td>12.0</td>\n",
       "      <td>30</td>\n",
       "      <td>12.0</td>\n",
       "    </tr>\n",
       "    <tr>\n",
       "      <th>1</th>\n",
       "      <td>26</td>\n",
       "      <td>29</td>\n",
       "      <td>11.6</td>\n",
       "      <td>59</td>\n",
       "      <td>23.6</td>\n",
       "    </tr>\n",
       "    <tr>\n",
       "      <th>2</th>\n",
       "      <td>25</td>\n",
       "      <td>26</td>\n",
       "      <td>10.4</td>\n",
       "      <td>85</td>\n",
       "      <td>34.0</td>\n",
       "    </tr>\n",
       "    <tr>\n",
       "      <th>3</th>\n",
       "      <td>20</td>\n",
       "      <td>25</td>\n",
       "      <td>10.0</td>\n",
       "      <td>110</td>\n",
       "      <td>44.0</td>\n",
       "    </tr>\n",
       "    <tr>\n",
       "      <th>4</th>\n",
       "      <td>18</td>\n",
       "      <td>23</td>\n",
       "      <td>9.2</td>\n",
       "      <td>133</td>\n",
       "      <td>53.2</td>\n",
       "    </tr>\n",
       "    <tr>\n",
       "      <th>5</th>\n",
       "      <td>23</td>\n",
       "      <td>22</td>\n",
       "      <td>8.8</td>\n",
       "      <td>155</td>\n",
       "      <td>62.0</td>\n",
       "    </tr>\n",
       "    <tr>\n",
       "      <th>6</th>\n",
       "      <td>22</td>\n",
       "      <td>21</td>\n",
       "      <td>8.4</td>\n",
       "      <td>176</td>\n",
       "      <td>70.4</td>\n",
       "    </tr>\n",
       "    <tr>\n",
       "      <th>7</th>\n",
       "      <td>21</td>\n",
       "      <td>17</td>\n",
       "      <td>6.8</td>\n",
       "      <td>193</td>\n",
       "      <td>77.2</td>\n",
       "    </tr>\n",
       "    <tr>\n",
       "      <th>8</th>\n",
       "      <td>19</td>\n",
       "      <td>17</td>\n",
       "      <td>6.8</td>\n",
       "      <td>210</td>\n",
       "      <td>84.0</td>\n",
       "    </tr>\n",
       "    <tr>\n",
       "      <th>9</th>\n",
       "      <td>17</td>\n",
       "      <td>16</td>\n",
       "      <td>6.4</td>\n",
       "      <td>226</td>\n",
       "      <td>90.4</td>\n",
       "    </tr>\n",
       "    <tr>\n",
       "      <th>10</th>\n",
       "      <td>27</td>\n",
       "      <td>15</td>\n",
       "      <td>6.0</td>\n",
       "      <td>241</td>\n",
       "      <td>96.4</td>\n",
       "    </tr>\n",
       "    <tr>\n",
       "      <th>11</th>\n",
       "      <td>16</td>\n",
       "      <td>9</td>\n",
       "      <td>3.6</td>\n",
       "      <td>250</td>\n",
       "      <td>100.0</td>\n",
       "    </tr>\n",
       "  </tbody>\n",
       "</table>\n",
       "</div>"
      ],
      "text/plain": [
       "    StudentAge  count  percent  cumulative_count  cumulative_percent\n",
       "0           24     30     12.0                30                12.0\n",
       "1           26     29     11.6                59                23.6\n",
       "2           25     26     10.4                85                34.0\n",
       "3           20     25     10.0               110                44.0\n",
       "4           18     23      9.2               133                53.2\n",
       "5           23     22      8.8               155                62.0\n",
       "6           22     21      8.4               176                70.4\n",
       "7           21     17      6.8               193                77.2\n",
       "8           19     17      6.8               210                84.0\n",
       "9           17     16      6.4               226                90.4\n",
       "10          27     15      6.0               241                96.4\n",
       "11          16      9      3.6               250               100.0"
      ]
     },
     "execution_count": 36,
     "metadata": {},
     "output_type": "execute_result"
    }
   ],
   "source": [
    "#Frequency Table\n",
    "uqt.stb.freq([\"StudentAge\"])"
   ]
  },
  {
   "cell_type": "code",
   "execution_count": 37,
   "id": "3a2f6c2a",
   "metadata": {},
   "outputs": [
    {
     "data": {
      "text/html": [
       "<div>\n",
       "<style scoped>\n",
       "    .dataframe tbody tr th:only-of-type {\n",
       "        vertical-align: middle;\n",
       "    }\n",
       "\n",
       "    .dataframe tbody tr th {\n",
       "        vertical-align: top;\n",
       "    }\n",
       "\n",
       "    .dataframe thead th {\n",
       "        text-align: right;\n",
       "    }\n",
       "</style>\n",
       "<table border=\"1\" class=\"dataframe\">\n",
       "  <thead>\n",
       "    <tr style=\"text-align: right;\">\n",
       "      <th></th>\n",
       "      <th>StudentAge</th>\n",
       "    </tr>\n",
       "  </thead>\n",
       "  <tbody>\n",
       "    <tr>\n",
       "      <th>count</th>\n",
       "      <td>250.000000</td>\n",
       "    </tr>\n",
       "    <tr>\n",
       "      <th>mean</th>\n",
       "      <td>22.028000</td>\n",
       "    </tr>\n",
       "    <tr>\n",
       "      <th>std</th>\n",
       "      <td>3.216926</td>\n",
       "    </tr>\n",
       "    <tr>\n",
       "      <th>min</th>\n",
       "      <td>16.000000</td>\n",
       "    </tr>\n",
       "    <tr>\n",
       "      <th>25%</th>\n",
       "      <td>19.000000</td>\n",
       "    </tr>\n",
       "    <tr>\n",
       "      <th>50%</th>\n",
       "      <td>22.000000</td>\n",
       "    </tr>\n",
       "    <tr>\n",
       "      <th>75%</th>\n",
       "      <td>25.000000</td>\n",
       "    </tr>\n",
       "    <tr>\n",
       "      <th>max</th>\n",
       "      <td>27.000000</td>\n",
       "    </tr>\n",
       "  </tbody>\n",
       "</table>\n",
       "</div>"
      ],
      "text/plain": [
       "       StudentAge\n",
       "count  250.000000\n",
       "mean    22.028000\n",
       "std      3.216926\n",
       "min     16.000000\n",
       "25%     19.000000\n",
       "50%     22.000000\n",
       "75%     25.000000\n",
       "max     27.000000"
      ]
     },
     "execution_count": 37,
     "metadata": {},
     "output_type": "execute_result"
    }
   ],
   "source": [
    "#Summary Statistics\n",
    "uqt.describe(include=\"all\")\n",
    "\n",
    "#This is a summary statistics of the data,it outputs the frequency(count),the average(mean),the standard deviation(std),the minimum value of the data(min),the first quartile(25%),the interquartile or median(50%),the third quartile(75%) nad the maximum value of the data(max)\n",
    "#Therefore,we conclude from the table that the number ages of the students is 250,the average is 22.028,the standard deviation is 3.216926,the minimum value of the data is 16,the first quartile is 19,the interquartile or median is 22,the third quartile is 25 and the maximum value of the data is 27\n",
    "#Therefore,with respect to the first quartile,25% of the data are less than or equal to 19,\n",
    "#with respect to the interquartile or median,50% of the data are between 19 and 25,\n",
    "#with respect to the third quartile,75% of the data are less than or equal to 25.\n",
    "#With respect to the standard deviation,since it is small,it indicates lesser spread of the data i.e the data points tend to be close to the mean"
   ]
  },
  {
   "cell_type": "code",
   "execution_count": 38,
   "id": "5d22887e",
   "metadata": {},
   "outputs": [
    {
     "data": {
      "text/plain": [
       "StudentAge    22.0\n",
       "dtype: float64"
      ]
     },
     "execution_count": 38,
     "metadata": {},
     "output_type": "execute_result"
    }
   ],
   "source": [
    "uqt.median()"
   ]
  },
  {
   "cell_type": "code",
   "execution_count": 39,
   "id": "7c897c87",
   "metadata": {},
   "outputs": [
    {
     "data": {
      "text/html": [
       "<div>\n",
       "<style scoped>\n",
       "    .dataframe tbody tr th:only-of-type {\n",
       "        vertical-align: middle;\n",
       "    }\n",
       "\n",
       "    .dataframe tbody tr th {\n",
       "        vertical-align: top;\n",
       "    }\n",
       "\n",
       "    .dataframe thead th {\n",
       "        text-align: right;\n",
       "    }\n",
       "</style>\n",
       "<table border=\"1\" class=\"dataframe\">\n",
       "  <thead>\n",
       "    <tr style=\"text-align: right;\">\n",
       "      <th></th>\n",
       "      <th>StudentAge</th>\n",
       "    </tr>\n",
       "  </thead>\n",
       "  <tbody>\n",
       "    <tr>\n",
       "      <th>0</th>\n",
       "      <td>24</td>\n",
       "    </tr>\n",
       "  </tbody>\n",
       "</table>\n",
       "</div>"
      ],
      "text/plain": [
       "   StudentAge\n",
       "0          24"
      ]
     },
     "execution_count": 39,
     "metadata": {},
     "output_type": "execute_result"
    }
   ],
   "source": [
    "uqt.mode()\n",
    "\n",
    "#The most frequently occurring age is 24 years old"
   ]
  },
  {
   "cell_type": "code",
   "execution_count": 45,
   "id": "cf352fdb",
   "metadata": {},
   "outputs": [
    {
     "name": "stdout",
     "output_type": "stream",
     "text": [
      "the maximum age is:  27\n",
      "the minimum age is:  16\n",
      "the range is:  11\n",
      "the variance is:  10.348610441767068\n",
      "<class 'pandas.core.frame.DataFrame'>\n",
      "RangeIndex: 250 entries, 0 to 249\n",
      "Data columns (total 1 columns):\n",
      " #   Column      Non-Null Count  Dtype\n",
      "---  ------      --------------  -----\n",
      " 0   StudentAge  250 non-null    int64\n",
      "dtypes: int64(1)\n",
      "memory usage: 2.1 KB\n"
     ]
    },
    {
     "data": {
      "text/plain": [
       "-1.1571598976356157"
      ]
     },
     "execution_count": 45,
     "metadata": {},
     "output_type": "execute_result"
    }
   ],
   "source": [
    "#Maximum of data\n",
    "maxAge = max(uqt[\"StudentAge\"])\n",
    "print('the maximum age is: ', maxAge)\n",
    "\n",
    "#Minimum of data\n",
    "minAge = min(uqt['StudentAge'])\n",
    "print('the minimum age is: ', minAge)\n",
    "\n",
    "#Range of quantitative data\n",
    "range = maxAge - minAge\n",
    "print('the range is: ', range)\n",
    "\n",
    "#The range below indicates a lesser dispersion in the data since the range is small.\n",
    "\n",
    "#variance of quantitative data\n",
    "varianceStat = statistics.variance(uqt[\"StudentAge\"])\n",
    "print('the variance is: ', varianceStat)\n",
    "\n",
    "#The value below is the value of the variance but it hardly measured how spread a data is about its mean so it is advisable to use the standard deviation because it is the squareroot of the variance\n",
    "\n",
    "uqt.info()\n",
    "\n",
    "#Skewness of quantitative data\n",
    "(uqt[\"StudentAge\"]).skew()\n",
    "\n",
    "#The value below measures the extent to which the data is not symmetrical\n",
    "#Therefore,the data is left-skewed because the skewness is less than 0\n",
    "\n",
    "#Kurtosis of quantitative data\n",
    "(uqt[\"StudentAge\"]).kurt()\n",
    "\n",
    "#The value below indicates how the peak and the tails of the distribution differ from the normal distribution\n",
    "#since the kurtosis is less than zero,the data is not normally distributed\n",
    "#The data exhibits a negative kurtosis "
   ]
  },
  {
   "cell_type": "code",
   "execution_count": 11,
   "id": "e76ad1f3",
   "metadata": {},
   "outputs": [
    {
     "name": "stdout",
     "output_type": "stream",
     "text": [
      "    Hair Color   BMI Status\n",
      "0          Red       NORMAL\n",
      "1     Brunette       NORMAL\n",
      "2          Red  UNDERWEIGHT\n",
      "3       Blonde  UNDERWEIGHT\n",
      "4     Brunette       NORMAL\n",
      "..         ...          ...\n",
      "245        Red        OBESE\n",
      "246     Blonde       NORMAL\n",
      "247   Brunette   OVERWEIGHT\n",
      "248        Red       NORMAL\n",
      "249     Blonde  UNDERWEIGHT\n",
      "\n",
      "[250 rows x 2 columns]\n"
     ]
    },
    {
     "data": {
      "image/png": "[encoded data removed]",
      "text/plain": [
       "<Figure size 583.75x504 with 1 Axes>"
      ]
     },
     "metadata": {
      "needs_background": "light"
     },
     "output_type": "display_data"
    }
   ],
   "source": [
    "bql = pd.read_excel (r'C:\\Users\\User1\\Desktop\\DataAnalysisProject\\Assignment3.xlsx')\n",
    "print (bql)\n",
    "sns.catplot(x = 'BMI Status', hue = 'Hair Color', kind = 'count', data = bql, height = 7)\n",
    "plt.show()"
   ]
  },
  {
   "cell_type": "code",
   "execution_count": 47,
   "id": "a41f77a2",
   "metadata": {},
   "outputs": [
    {
     "data": {
      "text/html": [
       "<div>\n",
       "<style scoped>\n",
       "    .dataframe tbody tr th:only-of-type {\n",
       "        vertical-align: middle;\n",
       "    }\n",
       "\n",
       "    .dataframe tbody tr th {\n",
       "        vertical-align: top;\n",
       "    }\n",
       "\n",
       "    .dataframe thead th {\n",
       "        text-align: right;\n",
       "    }\n",
       "</style>\n",
       "<table border=\"1\" class=\"dataframe\">\n",
       "  <thead>\n",
       "    <tr style=\"text-align: right;\">\n",
       "      <th></th>\n",
       "      <th>Hair Color</th>\n",
       "      <th>BMI Status</th>\n",
       "    </tr>\n",
       "  </thead>\n",
       "  <tbody>\n",
       "    <tr>\n",
       "      <th>count</th>\n",
       "      <td>250</td>\n",
       "      <td>250</td>\n",
       "    </tr>\n",
       "    <tr>\n",
       "      <th>unique</th>\n",
       "      <td>4</td>\n",
       "      <td>5</td>\n",
       "    </tr>\n",
       "    <tr>\n",
       "      <th>top</th>\n",
       "      <td>Blonde</td>\n",
       "      <td>UNDERWEIGHT</td>\n",
       "    </tr>\n",
       "    <tr>\n",
       "      <th>freq</th>\n",
       "      <td>69</td>\n",
       "      <td>86</td>\n",
       "    </tr>\n",
       "  </tbody>\n",
       "</table>\n",
       "</div>"
      ],
      "text/plain": [
       "       Hair Color   BMI Status\n",
       "count         250          250\n",
       "unique          4            5\n",
       "top        Blonde  UNDERWEIGHT\n",
       "freq           69           86"
      ]
     },
     "execution_count": 47,
     "metadata": {},
     "output_type": "execute_result"
    }
   ],
   "source": [
    "bql.describe(include = \"all\")"
   ]
  },
  {
   "cell_type": "code",
   "execution_count": 48,
   "id": "7a63cc75",
   "metadata": {},
   "outputs": [
    {
     "name": "stdout",
     "output_type": "stream",
     "text": [
      "<class 'pandas.core.frame.DataFrame'>\n",
      "RangeIndex: 250 entries, 0 to 249\n",
      "Data columns (total 2 columns):\n",
      " #   Column      Non-Null Count  Dtype \n",
      "---  ------      --------------  ----- \n",
      " 0   Hair Color  250 non-null    object\n",
      " 1   BMI Status  250 non-null    object\n",
      "dtypes: object(2)\n",
      "memory usage: 4.0+ KB\n"
     ]
    }
   ],
   "source": [
    "bql.info()"
   ]
  },
  {
   "cell_type": "code",
   "execution_count": 50,
   "id": "e699b26d",
   "metadata": {},
   "outputs": [
    {
     "name": "stdout",
     "output_type": "stream",
     "text": [
      "BMI Status  EXTREMELY OBESE  NORMAL  OBESE  OVERWEIGHT  UNDERWEIGHT\n",
      "Hair Color                                                         \n",
      "Blonde                    0      21     12           9           27\n",
      "Brown                     1      11      9          13           20\n",
      "Brunette                  0      23      6          14           16\n",
      "Red                       2      19      8          16           23\n"
     ]
    }
   ],
   "source": [
    "#Crosstabulation of two categorical variables for the chi-square test\n",
    "table = pd.crosstab(bql[\"Hair Color\"],\n",
    "                            bql['BMI Status'],\n",
    "                               margins = False)\n",
    "print(table)"
   ]
  },
  {
   "cell_type": "code",
   "execution_count": 51,
   "id": "c5732ad8",
   "metadata": {},
   "outputs": [
    {
     "data": {
      "text/html": [
       "<div>\n",
       "<style scoped>\n",
       "    .dataframe tbody tr th:only-of-type {\n",
       "        vertical-align: middle;\n",
       "    }\n",
       "\n",
       "    .dataframe tbody tr th {\n",
       "        vertical-align: top;\n",
       "    }\n",
       "\n",
       "    .dataframe thead th {\n",
       "        text-align: right;\n",
       "    }\n",
       "</style>\n",
       "<table border=\"1\" class=\"dataframe\">\n",
       "  <thead>\n",
       "    <tr style=\"text-align: right;\">\n",
       "      <th></th>\n",
       "      <th>Hair Color</th>\n",
       "      <th>BMI Status</th>\n",
       "    </tr>\n",
       "  </thead>\n",
       "  <tbody>\n",
       "    <tr>\n",
       "      <th>0</th>\n",
       "      <td>Blonde</td>\n",
       "      <td>UNDERWEIGHT</td>\n",
       "    </tr>\n",
       "  </tbody>\n",
       "</table>\n",
       "</div>"
      ],
      "text/plain": [
       "  Hair Color   BMI Status\n",
       "0     Blonde  UNDERWEIGHT"
      ]
     },
     "execution_count": 51,
     "metadata": {},
     "output_type": "execute_result"
    }
   ],
   "source": [
    "bql.mode()"
   ]
  },
  {
   "cell_type": "code",
   "execution_count": 52,
   "id": "382bf69c",
   "metadata": {},
   "outputs": [
    {
     "name": "stdout",
     "output_type": "stream",
     "text": [
      "BMI Status  EXTREMELY OBESE  NORMAL  OBESE  OVERWEIGHT  UNDERWEIGHT\n",
      "Hair Color                                                         \n",
      "Blonde                    0      21     12           9           27\n",
      "Brown                     1      11      9          13           20\n",
      "Brunette                  0      23      6          14           16\n",
      "Red                       2      19      8          16           23\n",
      "dof=12\n",
      "probability = 0.950, critical = 21.026, stat = 12.771\n",
      "Independent (fail to reject H0)\n",
      "significance = 0.050, p = 0.386\n",
      "Independent (fail to reject H0)\n"
     ]
    }
   ],
   "source": [
    "# chi-squared test\n",
    "from scipy.stats import chi2_contingency\n",
    "from scipy.stats import chi2\n",
    "# contingency table\n",
    "table1 = table\n",
    "print(table1)\n",
    "teststatistic, pvalue , dof, expectedfreq = chi2_contingency(table1)\n",
    "print(\"dof=%d\" % dof)\n",
    "# %d means integer\n",
    "# interpret test-statistic\n",
    "prob = 0.95\n",
    "critical = chi2.ppf(prob, dof)\n",
    "#ppf - Percent point function\n",
    "print(\"probability = %.3f, critical = %.3f, stat = %.3f\" % (prob, critical, teststatistic))\n",
    "if abs(teststatistic) >= critical:\n",
    "    print(\"Dependent (reject H0)\")\n",
    "else:\n",
    "    print(\"Independent (fail to reject H0)\")\n",
    "# interpret p-value\n",
    "alpha = 1.0 - prob\n",
    "print(\"significance = %.3f, p = %.3f\" % (alpha, pvalue))\n",
    "if pvalue <= alpha:\n",
    "    print(\"Dependent (reject H0)\")\n",
    "else:\n",
    "    print(\"Independent (fail to reject H0)\")"
   ]
  },
  {
   "cell_type": "code",
   "execution_count": 54,
   "id": "8997447b",
   "metadata": {},
   "outputs": [
    {
     "name": "stdout",
     "output_type": "stream",
     "text": [
      "     StudentAge  StudentWeight\n",
      "0            24          63.70\n",
      "1            26          88.77\n",
      "2            24          60.97\n",
      "3            26          67.79\n",
      "4            21          86.29\n",
      "..          ...            ...\n",
      "245          23          69.93\n",
      "246          26          81.20\n",
      "247          22          82.72\n",
      "248          20          83.23\n",
      "249          25          86.14\n",
      "\n",
      "[250 rows x 2 columns]\n"
     ]
    },
    {
     "data": {
      "image/png": "[encoded data removed]",
      "text/plain": [
       "<Figure size 432x288 with 1 Axes>"
      ]
     },
     "metadata": {
      "needs_background": "light"
     },
     "output_type": "display_data"
    }
   ],
   "source": [
    "bqt = pd.read_excel (r'C:\\Users\\User1\\Desktop\\DataAnalysisProject\\Assignment4.xlsx')\n",
    "print (bqt)\n",
    "\n",
    "sns.regplot(x = 'StudentAge', y = 'StudentWeight', data = bqt)\n",
    "plt.show()"
   ]
  },
  {
   "cell_type": "code",
   "execution_count": 55,
   "id": "df8f4b9c",
   "metadata": {},
   "outputs": [
    {
     "data": {
      "text/html": [
       "<div>\n",
       "<style scoped>\n",
       "    .dataframe tbody tr th:only-of-type {\n",
       "        vertical-align: middle;\n",
       "    }\n",
       "\n",
       "    .dataframe tbody tr th {\n",
       "        vertical-align: top;\n",
       "    }\n",
       "\n",
       "    .dataframe thead th {\n",
       "        text-align: right;\n",
       "    }\n",
       "</style>\n",
       "<table border=\"1\" class=\"dataframe\">\n",
       "  <thead>\n",
       "    <tr style=\"text-align: right;\">\n",
       "      <th></th>\n",
       "      <th>StudentAge</th>\n",
       "      <th>StudentWeight</th>\n",
       "    </tr>\n",
       "  </thead>\n",
       "  <tbody>\n",
       "    <tr>\n",
       "      <th>count</th>\n",
       "      <td>250.000000</td>\n",
       "      <td>250.000000</td>\n",
       "    </tr>\n",
       "    <tr>\n",
       "      <th>mean</th>\n",
       "      <td>22.028000</td>\n",
       "      <td>75.401920</td>\n",
       "    </tr>\n",
       "    <tr>\n",
       "      <th>std</th>\n",
       "      <td>3.216926</td>\n",
       "      <td>8.670352</td>\n",
       "    </tr>\n",
       "    <tr>\n",
       "      <th>min</th>\n",
       "      <td>16.000000</td>\n",
       "      <td>60.130000</td>\n",
       "    </tr>\n",
       "    <tr>\n",
       "      <th>25%</th>\n",
       "      <td>19.000000</td>\n",
       "      <td>67.932500</td>\n",
       "    </tr>\n",
       "    <tr>\n",
       "      <th>50%</th>\n",
       "      <td>22.000000</td>\n",
       "      <td>75.930000</td>\n",
       "    </tr>\n",
       "    <tr>\n",
       "      <th>75%</th>\n",
       "      <td>25.000000</td>\n",
       "      <td>83.362500</td>\n",
       "    </tr>\n",
       "    <tr>\n",
       "      <th>max</th>\n",
       "      <td>27.000000</td>\n",
       "      <td>89.910000</td>\n",
       "    </tr>\n",
       "  </tbody>\n",
       "</table>\n",
       "</div>"
      ],
      "text/plain": [
       "       StudentAge  StudentWeight\n",
       "count  250.000000     250.000000\n",
       "mean    22.028000      75.401920\n",
       "std      3.216926       8.670352\n",
       "min     16.000000      60.130000\n",
       "25%     19.000000      67.932500\n",
       "50%     22.000000      75.930000\n",
       "75%     25.000000      83.362500\n",
       "max     27.000000      89.910000"
      ]
     },
     "execution_count": 55,
     "metadata": {},
     "output_type": "execute_result"
    }
   ],
   "source": [
    "bqt.describe(include = \"all\")"
   ]
  },
  {
   "cell_type": "code",
   "execution_count": 56,
   "id": "856301f0",
   "metadata": {},
   "outputs": [
    {
     "name": "stdout",
     "output_type": "stream",
     "text": [
      "<class 'pandas.core.frame.DataFrame'>\n",
      "RangeIndex: 250 entries, 0 to 249\n",
      "Data columns (total 2 columns):\n",
      " #   Column         Non-Null Count  Dtype  \n",
      "---  ------         --------------  -----  \n",
      " 0   StudentAge     250 non-null    int64  \n",
      " 1   StudentWeight  250 non-null    float64\n",
      "dtypes: float64(1), int64(1)\n",
      "memory usage: 4.0 KB\n"
     ]
    }
   ],
   "source": [
    "bqt.info()"
   ]
  },
  {
   "cell_type": "code",
   "execution_count": 57,
   "id": "f419cc47",
   "metadata": {},
   "outputs": [
    {
     "name": "stdout",
     "output_type": "stream",
     "text": [
      "-0.04645642052911836\n",
      "There is a negative correlation\n"
     ]
    }
   ],
   "source": [
    "from scipy.stats import pearsonr\n",
    "corr , twotailpval = pearsonr(bqt[\"StudentAge\"], bqt[\"StudentWeight\"])\n",
    "print(corr)\n",
    "\n",
    "if (corr < 0):\n",
    "    print(\"There is a negative correlation\")\n",
    "elif(corr < 1):\n",
    "    print(\"There is a positive correlation\") \n",
    "elif(corr == 0):\n",
    "    print(\"There is a zero correlation\")\n",
    "elif(corr == -1):\n",
    "    print(\"There is a perfect negative correlation\") \n",
    "elif(corr == 1):\n",
    "    print(\"There is a perfect positive correlation\")    \n",
    "    \n",
    "    \n",
    "    \n",
    "#From the value below,there is clearly a weak negative relationship between the student ages and the student weights.\n",
    "#There is linearity between the student ages and their weights."
   ]
  },
  {
   "cell_type": "code",
   "execution_count": 61,
   "id": "1a3b15bf",
   "metadata": {},
   "outputs": [
    {
     "data": {
      "text/plain": [
       "-0.19621098793141006"
      ]
     },
     "execution_count": 61,
     "metadata": {},
     "output_type": "execute_result"
    }
   ],
   "source": [
    "(bqt[\"StudentAge\"]).skew()"
   ]
  },
  {
   "cell_type": "code",
   "execution_count": 62,
   "id": "0b9c7934",
   "metadata": {},
   "outputs": [
    {
     "data": {
      "text/plain": [
       "-0.12220359233364465"
      ]
     },
     "execution_count": 62,
     "metadata": {},
     "output_type": "execute_result"
    }
   ],
   "source": [
    "(bqt[\"StudentWeight\"]).skew()"
   ]
  },
  {
   "cell_type": "code",
   "execution_count": 63,
   "id": "2705c212",
   "metadata": {},
   "outputs": [
    {
     "data": {
      "text/plain": [
       "-1.2125186025082717"
      ]
     },
     "execution_count": 63,
     "metadata": {},
     "output_type": "execute_result"
    }
   ],
   "source": [
    "(bqt[\"StudentWeight\"]).kurt()"
   ]
  },
  {
   "cell_type": "code",
   "execution_count": 64,
   "id": "4f6cf1a9",
   "metadata": {},
   "outputs": [
    {
     "data": {
      "text/plain": [
       "-1.1571598976356157"
      ]
     },
     "execution_count": 64,
     "metadata": {},
     "output_type": "execute_result"
    }
   ],
   "source": [
    "(bqt[\"StudentAge\"]).kurt()"
   ]
  },
  {
   "cell_type": "code",
   "execution_count": 65,
   "id": "bb0e55b7",
   "metadata": {},
   "outputs": [
    {
     "data": {
      "text/html": [
       "<div>\n",
       "<style scoped>\n",
       "    .dataframe tbody tr th:only-of-type {\n",
       "        vertical-align: middle;\n",
       "    }\n",
       "\n",
       "    .dataframe tbody tr th {\n",
       "        vertical-align: top;\n",
       "    }\n",
       "\n",
       "    .dataframe thead th {\n",
       "        text-align: right;\n",
       "    }\n",
       "</style>\n",
       "<table border=\"1\" class=\"dataframe\">\n",
       "  <thead>\n",
       "    <tr style=\"text-align: right;\">\n",
       "      <th></th>\n",
       "      <th>StudentAge</th>\n",
       "      <th>count</th>\n",
       "      <th>percent</th>\n",
       "      <th>cumulative_count</th>\n",
       "      <th>cumulative_percent</th>\n",
       "    </tr>\n",
       "  </thead>\n",
       "  <tbody>\n",
       "    <tr>\n",
       "      <th>0</th>\n",
       "      <td>24</td>\n",
       "      <td>30</td>\n",
       "      <td>12.0</td>\n",
       "      <td>30</td>\n",
       "      <td>12.0</td>\n",
       "    </tr>\n",
       "    <tr>\n",
       "      <th>1</th>\n",
       "      <td>26</td>\n",
       "      <td>29</td>\n",
       "      <td>11.6</td>\n",
       "      <td>59</td>\n",
       "      <td>23.6</td>\n",
       "    </tr>\n",
       "    <tr>\n",
       "      <th>2</th>\n",
       "      <td>25</td>\n",
       "      <td>26</td>\n",
       "      <td>10.4</td>\n",
       "      <td>85</td>\n",
       "      <td>34.0</td>\n",
       "    </tr>\n",
       "    <tr>\n",
       "      <th>3</th>\n",
       "      <td>20</td>\n",
       "      <td>25</td>\n",
       "      <td>10.0</td>\n",
       "      <td>110</td>\n",
       "      <td>44.0</td>\n",
       "    </tr>\n",
       "    <tr>\n",
       "      <th>4</th>\n",
       "      <td>18</td>\n",
       "      <td>23</td>\n",
       "      <td>9.2</td>\n",
       "      <td>133</td>\n",
       "      <td>53.2</td>\n",
       "    </tr>\n",
       "    <tr>\n",
       "      <th>5</th>\n",
       "      <td>23</td>\n",
       "      <td>22</td>\n",
       "      <td>8.8</td>\n",
       "      <td>155</td>\n",
       "      <td>62.0</td>\n",
       "    </tr>\n",
       "    <tr>\n",
       "      <th>6</th>\n",
       "      <td>22</td>\n",
       "      <td>21</td>\n",
       "      <td>8.4</td>\n",
       "      <td>176</td>\n",
       "      <td>70.4</td>\n",
       "    </tr>\n",
       "    <tr>\n",
       "      <th>7</th>\n",
       "      <td>21</td>\n",
       "      <td>17</td>\n",
       "      <td>6.8</td>\n",
       "      <td>193</td>\n",
       "      <td>77.2</td>\n",
       "    </tr>\n",
       "    <tr>\n",
       "      <th>8</th>\n",
       "      <td>19</td>\n",
       "      <td>17</td>\n",
       "      <td>6.8</td>\n",
       "      <td>210</td>\n",
       "      <td>84.0</td>\n",
       "    </tr>\n",
       "    <tr>\n",
       "      <th>9</th>\n",
       "      <td>17</td>\n",
       "      <td>16</td>\n",
       "      <td>6.4</td>\n",
       "      <td>226</td>\n",
       "      <td>90.4</td>\n",
       "    </tr>\n",
       "    <tr>\n",
       "      <th>10</th>\n",
       "      <td>27</td>\n",
       "      <td>15</td>\n",
       "      <td>6.0</td>\n",
       "      <td>241</td>\n",
       "      <td>96.4</td>\n",
       "    </tr>\n",
       "    <tr>\n",
       "      <th>11</th>\n",
       "      <td>16</td>\n",
       "      <td>9</td>\n",
       "      <td>3.6</td>\n",
       "      <td>250</td>\n",
       "      <td>100.0</td>\n",
       "    </tr>\n",
       "  </tbody>\n",
       "</table>\n",
       "</div>"
      ],
      "text/plain": [
       "    StudentAge  count  percent  cumulative_count  cumulative_percent\n",
       "0           24     30     12.0                30                12.0\n",
       "1           26     29     11.6                59                23.6\n",
       "2           25     26     10.4                85                34.0\n",
       "3           20     25     10.0               110                44.0\n",
       "4           18     23      9.2               133                53.2\n",
       "5           23     22      8.8               155                62.0\n",
       "6           22     21      8.4               176                70.4\n",
       "7           21     17      6.8               193                77.2\n",
       "8           19     17      6.8               210                84.0\n",
       "9           17     16      6.4               226                90.4\n",
       "10          27     15      6.0               241                96.4\n",
       "11          16      9      3.6               250               100.0"
      ]
     },
     "execution_count": 65,
     "metadata": {},
     "output_type": "execute_result"
    }
   ],
   "source": [
    "bqt.stb.freq([\"StudentAge\"])"
   ]
  },
  {
   "cell_type": "code",
   "execution_count": 66,
   "id": "992896fb",
   "metadata": {},
   "outputs": [
    {
     "data": {
      "text/html": [
       "<div>\n",
       "<style scoped>\n",
       "    .dataframe tbody tr th:only-of-type {\n",
       "        vertical-align: middle;\n",
       "    }\n",
       "\n",
       "    .dataframe tbody tr th {\n",
       "        vertical-align: top;\n",
       "    }\n",
       "\n",
       "    .dataframe thead th {\n",
       "        text-align: right;\n",
       "    }\n",
       "</style>\n",
       "<table border=\"1\" class=\"dataframe\">\n",
       "  <thead>\n",
       "    <tr style=\"text-align: right;\">\n",
       "      <th></th>\n",
       "      <th>StudentWeight</th>\n",
       "      <th>count</th>\n",
       "      <th>percent</th>\n",
       "      <th>cumulative_count</th>\n",
       "      <th>cumulative_percent</th>\n",
       "    </tr>\n",
       "  </thead>\n",
       "  <tbody>\n",
       "    <tr>\n",
       "      <th>0</th>\n",
       "      <td>81.20</td>\n",
       "      <td>2</td>\n",
       "      <td>0.8</td>\n",
       "      <td>2</td>\n",
       "      <td>0.8</td>\n",
       "    </tr>\n",
       "    <tr>\n",
       "      <th>1</th>\n",
       "      <td>72.51</td>\n",
       "      <td>2</td>\n",
       "      <td>0.8</td>\n",
       "      <td>4</td>\n",
       "      <td>1.6</td>\n",
       "    </tr>\n",
       "    <tr>\n",
       "      <th>2</th>\n",
       "      <td>89.91</td>\n",
       "      <td>1</td>\n",
       "      <td>0.4</td>\n",
       "      <td>5</td>\n",
       "      <td>2.0</td>\n",
       "    </tr>\n",
       "    <tr>\n",
       "      <th>3</th>\n",
       "      <td>89.88</td>\n",
       "      <td>1</td>\n",
       "      <td>0.4</td>\n",
       "      <td>6</td>\n",
       "      <td>2.4</td>\n",
       "    </tr>\n",
       "    <tr>\n",
       "      <th>4</th>\n",
       "      <td>89.86</td>\n",
       "      <td>1</td>\n",
       "      <td>0.4</td>\n",
       "      <td>7</td>\n",
       "      <td>2.8</td>\n",
       "    </tr>\n",
       "    <tr>\n",
       "      <th>...</th>\n",
       "      <td>...</td>\n",
       "      <td>...</td>\n",
       "      <td>...</td>\n",
       "      <td>...</td>\n",
       "      <td>...</td>\n",
       "    </tr>\n",
       "    <tr>\n",
       "      <th>243</th>\n",
       "      <td>60.49</td>\n",
       "      <td>1</td>\n",
       "      <td>0.4</td>\n",
       "      <td>246</td>\n",
       "      <td>98.4</td>\n",
       "    </tr>\n",
       "    <tr>\n",
       "      <th>244</th>\n",
       "      <td>60.48</td>\n",
       "      <td>1</td>\n",
       "      <td>0.4</td>\n",
       "      <td>247</td>\n",
       "      <td>98.8</td>\n",
       "    </tr>\n",
       "    <tr>\n",
       "      <th>245</th>\n",
       "      <td>60.47</td>\n",
       "      <td>1</td>\n",
       "      <td>0.4</td>\n",
       "      <td>248</td>\n",
       "      <td>99.2</td>\n",
       "    </tr>\n",
       "    <tr>\n",
       "      <th>246</th>\n",
       "      <td>60.33</td>\n",
       "      <td>1</td>\n",
       "      <td>0.4</td>\n",
       "      <td>249</td>\n",
       "      <td>99.6</td>\n",
       "    </tr>\n",
       "    <tr>\n",
       "      <th>247</th>\n",
       "      <td>60.13</td>\n",
       "      <td>1</td>\n",
       "      <td>0.4</td>\n",
       "      <td>250</td>\n",
       "      <td>100.0</td>\n",
       "    </tr>\n",
       "  </tbody>\n",
       "</table>\n",
       "<p>248 rows × 5 columns</p>\n",
       "</div>"
      ],
      "text/plain": [
       "     StudentWeight  count  percent  cumulative_count  cumulative_percent\n",
       "0            81.20      2      0.8                 2                 0.8\n",
       "1            72.51      2      0.8                 4                 1.6\n",
       "2            89.91      1      0.4                 5                 2.0\n",
       "3            89.88      1      0.4                 6                 2.4\n",
       "4            89.86      1      0.4                 7                 2.8\n",
       "..             ...    ...      ...               ...                 ...\n",
       "243          60.49      1      0.4               246                98.4\n",
       "244          60.48      1      0.4               247                98.8\n",
       "245          60.47      1      0.4               248                99.2\n",
       "246          60.33      1      0.4               249                99.6\n",
       "247          60.13      1      0.4               250               100.0\n",
       "\n",
       "[248 rows x 5 columns]"
      ]
     },
     "execution_count": 66,
     "metadata": {},
     "output_type": "execute_result"
    }
   ],
   "source": [
    "bqt.stb.freq([\"StudentWeight\"])"
   ]
  },
  {
   "cell_type": "code",
   "execution_count": 70,
   "id": "a1d794bb",
   "metadata": {},
   "outputs": [
    {
     "data": {
      "text/plain": [
       "StudentAge       22.00\n",
       "StudentWeight    75.93\n",
       "dtype: float64"
      ]
     },
     "execution_count": 70,
     "metadata": {},
     "output_type": "execute_result"
    }
   ],
   "source": [
    "bqt.median()"
   ]
  },
  {
   "cell_type": "code",
   "execution_count": 69,
   "id": "38479709",
   "metadata": {},
   "outputs": [
    {
     "data": {
      "text/html": [
       "<div>\n",
       "<style scoped>\n",
       "    .dataframe tbody tr th:only-of-type {\n",
       "        vertical-align: middle;\n",
       "    }\n",
       "\n",
       "    .dataframe tbody tr th {\n",
       "        vertical-align: top;\n",
       "    }\n",
       "\n",
       "    .dataframe thead th {\n",
       "        text-align: right;\n",
       "    }\n",
       "</style>\n",
       "<table border=\"1\" class=\"dataframe\">\n",
       "  <thead>\n",
       "    <tr style=\"text-align: right;\">\n",
       "      <th></th>\n",
       "      <th>StudentAge</th>\n",
       "      <th>StudentWeight</th>\n",
       "    </tr>\n",
       "  </thead>\n",
       "  <tbody>\n",
       "    <tr>\n",
       "      <th>0</th>\n",
       "      <td>24.0</td>\n",
       "      <td>72.51</td>\n",
       "    </tr>\n",
       "    <tr>\n",
       "      <th>1</th>\n",
       "      <td>NaN</td>\n",
       "      <td>81.20</td>\n",
       "    </tr>\n",
       "  </tbody>\n",
       "</table>\n",
       "</div>"
      ],
      "text/plain": [
       "   StudentAge  StudentWeight\n",
       "0        24.0          72.51\n",
       "1         NaN          81.20"
      ]
     },
     "execution_count": 69,
     "metadata": {},
     "output_type": "execute_result"
    }
   ],
   "source": [
    "bqt.mode()"
   ]
  },
  {
   "cell_type": "code",
   "execution_count": 68,
   "id": "fbd38a5a",
   "metadata": {},
   "outputs": [
    {
     "data": {
      "text/plain": [
       "27"
      ]
     },
     "execution_count": 68,
     "metadata": {},
     "output_type": "execute_result"
    }
   ],
   "source": [
    "maxAge = max(bqt[\"StudentAge\"])\n",
    "maxAge"
   ]
  },
  {
   "cell_type": "code",
   "execution_count": 67,
   "id": "38466f99",
   "metadata": {},
   "outputs": [
    {
     "data": {
      "text/plain": [
       "16"
      ]
     },
     "execution_count": 67,
     "metadata": {},
     "output_type": "execute_result"
    }
   ],
   "source": [
    "minAge = min(bqt[\"StudentAge\"])\n",
    "minAge"
   ]
  },
  {
   "cell_type": "code",
   "execution_count": 71,
   "id": "ece3a23c",
   "metadata": {},
   "outputs": [
    {
     "name": "stdout",
     "output_type": "stream",
     "text": [
      "11\n"
     ]
    }
   ],
   "source": [
    "RangeAge = maxAge - minAge\n",
    "print(RangeAge)"
   ]
  },
  {
   "cell_type": "code",
   "execution_count": 72,
   "id": "1d046083",
   "metadata": {},
   "outputs": [
    {
     "name": "stdout",
     "output_type": "stream",
     "text": [
      "89.91\n"
     ]
    }
   ],
   "source": [
    "maxWeight = max(bqt[\"StudentWeight\"])\n",
    "print(maxWeight)"
   ]
  },
  {
   "cell_type": "code",
   "execution_count": 73,
   "id": "c6893cbd",
   "metadata": {},
   "outputs": [
    {
     "name": "stdout",
     "output_type": "stream",
     "text": [
      "60.13\n"
     ]
    }
   ],
   "source": [
    "minWeight = min(bqt[\"StudentWeight\"])\n",
    "print(minWeight)"
   ]
  },
  {
   "cell_type": "code",
   "execution_count": 74,
   "id": "1d90551a",
   "metadata": {},
   "outputs": [
    {
     "name": "stdout",
     "output_type": "stream",
     "text": [
      "29.78\n"
     ]
    }
   ],
   "source": [
    "rangeWeight = maxWeight - minWeight\n",
    "rangeofWeight = round(rangeWeight,2)\n",
    "print(rangeofWeight)"
   ]
  },
  {
   "cell_type": "code",
   "execution_count": 75,
   "id": "12908941",
   "metadata": {},
   "outputs": [
    {
     "name": "stdout",
     "output_type": "stream",
     "text": [
      "10.348610441767068\n"
     ]
    }
   ],
   "source": [
    "varianceAge = statistics.variance(bqt[\"StudentAge\"])\n",
    "print(varianceAge)"
   ]
  },
  {
   "cell_type": "code",
   "execution_count": 76,
   "id": "1c6f3ba4",
   "metadata": {},
   "outputs": [
    {
     "name": "stdout",
     "output_type": "stream",
     "text": [
      "75.17500352771084\n"
     ]
    }
   ],
   "source": [
    "varianceWeight = statistics.variance(bqt[\"StudentWeight\"])\n",
    "print(varianceWeight)"
   ]
  },
  {
   "cell_type": "code",
   "execution_count": 13,
   "id": "5d9bccfb",
   "metadata": {},
   "outputs": [
    {
     "name": "stdout",
     "output_type": "stream",
     "text": [
      "    Eye Color  StudentAge\n",
      "0       White          24\n",
      "1       Green          26\n",
      "2       White          24\n",
      "3        Grey          26\n",
      "4       Black          21\n",
      "..        ...         ...\n",
      "245      Blue          23\n",
      "246     White          26\n",
      "247      Grey          22\n",
      "248       Red          20\n",
      "249      Grey          25\n",
      "\n",
      "[250 rows x 2 columns]\n"
     ]
    },
    {
     "data": {
      "image/png": "[encoded data removed]",
      "text/plain": [
       "<Figure size 432x288 with 1 Axes>"
      ]
     },
     "metadata": {
      "needs_background": "light"
     },
     "output_type": "display_data"
    }
   ],
   "source": [
    "bqlqt = pd.read_excel (r'C:\\Users\\User1\\Desktop\\DataAnalysisProject\\Assignment5.xlsx')\n",
    "print(bqlqt)\n",
    "\n",
    "sns.boxplot(x = 'Eye Color', y = 'StudentAge', data = bqlqt)\n",
    "plt.title('Box plot of students Eye olor vs their age')\n",
    "plt.show()\n"
   ]
  },
  {
   "cell_type": "code",
   "execution_count": null,
   "id": "6c6c660d",
   "metadata": {},
   "outputs": [],
   "source": [
    "bqlqt.describe(include = \"all\")"
   ]
  },
  {
   "cell_type": "code",
   "execution_count": null,
   "id": "0c28b163",
   "metadata": {},
   "outputs": [],
   "source": [
    "univquanqual.info()"
   ]
  },
  {
   "cell_type": "code",
   "execution_count": 92,
   "id": "2d534a12",
   "metadata": {},
   "outputs": [
    {
     "name": "stdout",
     "output_type": "stream",
     "text": [
      "StudentAge  16  17  18  19  20  21  22  23  24  25  26  27\n",
      "Eye Color                                                 \n",
      "Black        2   2   3   3   3   4   6   4   3   5   7   2\n",
      "Blue         0   3   2   4   2   4   1   5   8   3   3   6\n",
      "Green        3   2   5   4   5   2   4   2   5   1   4   3\n",
      "Grey         2   3   5   0   6   0   3   3   2   3   5   0\n",
      "Red          1   6   6   4   7   2   2   6   7   2   3   0\n",
      "White        1   0   2   2   2   5   5   2   5  12   7   4\n"
     ]
    }
   ],
   "source": [
    "table2 = pd.crosstab(bqlqt[\"Eye Color\"],\n",
    "                            bqlqt[\"StudentAge\"],\n",
    "                               margins = False)\n",
    "print(table2)"
   ]
  },
  {
   "cell_type": "code",
   "execution_count": 97,
   "id": "2092298f",
   "metadata": {},
   "outputs": [
    {
     "data": {
      "text/plain": [
       "-0.19621098793141006"
      ]
     },
     "execution_count": 97,
     "metadata": {},
     "output_type": "execute_result"
    }
   ],
   "source": [
    "(bqlqt[\"StudentAge\"]).skew()"
   ]
  },
  {
   "cell_type": "code",
   "execution_count": 96,
   "id": "e3ebf802",
   "metadata": {},
   "outputs": [
    {
     "data": {
      "text/plain": [
       "-1.1571598976356157"
      ]
     },
     "execution_count": 96,
     "metadata": {},
     "output_type": "execute_result"
    }
   ],
   "source": [
    "(bqlqt[\"StudentAge\"]).kurt()"
   ]
  },
  {
   "cell_type": "code",
   "execution_count": 95,
   "id": "59672e80",
   "metadata": {},
   "outputs": [
    {
     "data": {
      "text/html": [
       "<div>\n",
       "<style scoped>\n",
       "    .dataframe tbody tr th:only-of-type {\n",
       "        vertical-align: middle;\n",
       "    }\n",
       "\n",
       "    .dataframe tbody tr th {\n",
       "        vertical-align: top;\n",
       "    }\n",
       "\n",
       "    .dataframe thead th {\n",
       "        text-align: right;\n",
       "    }\n",
       "</style>\n",
       "<table border=\"1\" class=\"dataframe\">\n",
       "  <thead>\n",
       "    <tr style=\"text-align: right;\">\n",
       "      <th></th>\n",
       "      <th>StudentAge</th>\n",
       "      <th>count</th>\n",
       "      <th>percent</th>\n",
       "      <th>cumulative_count</th>\n",
       "      <th>cumulative_percent</th>\n",
       "    </tr>\n",
       "  </thead>\n",
       "  <tbody>\n",
       "    <tr>\n",
       "      <th>0</th>\n",
       "      <td>24</td>\n",
       "      <td>30</td>\n",
       "      <td>12.0</td>\n",
       "      <td>30</td>\n",
       "      <td>12.0</td>\n",
       "    </tr>\n",
       "    <tr>\n",
       "      <th>1</th>\n",
       "      <td>26</td>\n",
       "      <td>29</td>\n",
       "      <td>11.6</td>\n",
       "      <td>59</td>\n",
       "      <td>23.6</td>\n",
       "    </tr>\n",
       "    <tr>\n",
       "      <th>2</th>\n",
       "      <td>25</td>\n",
       "      <td>26</td>\n",
       "      <td>10.4</td>\n",
       "      <td>85</td>\n",
       "      <td>34.0</td>\n",
       "    </tr>\n",
       "    <tr>\n",
       "      <th>3</th>\n",
       "      <td>20</td>\n",
       "      <td>25</td>\n",
       "      <td>10.0</td>\n",
       "      <td>110</td>\n",
       "      <td>44.0</td>\n",
       "    </tr>\n",
       "    <tr>\n",
       "      <th>4</th>\n",
       "      <td>18</td>\n",
       "      <td>23</td>\n",
       "      <td>9.2</td>\n",
       "      <td>133</td>\n",
       "      <td>53.2</td>\n",
       "    </tr>\n",
       "    <tr>\n",
       "      <th>5</th>\n",
       "      <td>23</td>\n",
       "      <td>22</td>\n",
       "      <td>8.8</td>\n",
       "      <td>155</td>\n",
       "      <td>62.0</td>\n",
       "    </tr>\n",
       "    <tr>\n",
       "      <th>6</th>\n",
       "      <td>22</td>\n",
       "      <td>21</td>\n",
       "      <td>8.4</td>\n",
       "      <td>176</td>\n",
       "      <td>70.4</td>\n",
       "    </tr>\n",
       "    <tr>\n",
       "      <th>7</th>\n",
       "      <td>21</td>\n",
       "      <td>17</td>\n",
       "      <td>6.8</td>\n",
       "      <td>193</td>\n",
       "      <td>77.2</td>\n",
       "    </tr>\n",
       "    <tr>\n",
       "      <th>8</th>\n",
       "      <td>19</td>\n",
       "      <td>17</td>\n",
       "      <td>6.8</td>\n",
       "      <td>210</td>\n",
       "      <td>84.0</td>\n",
       "    </tr>\n",
       "    <tr>\n",
       "      <th>9</th>\n",
       "      <td>17</td>\n",
       "      <td>16</td>\n",
       "      <td>6.4</td>\n",
       "      <td>226</td>\n",
       "      <td>90.4</td>\n",
       "    </tr>\n",
       "    <tr>\n",
       "      <th>10</th>\n",
       "      <td>27</td>\n",
       "      <td>15</td>\n",
       "      <td>6.0</td>\n",
       "      <td>241</td>\n",
       "      <td>96.4</td>\n",
       "    </tr>\n",
       "    <tr>\n",
       "      <th>11</th>\n",
       "      <td>16</td>\n",
       "      <td>9</td>\n",
       "      <td>3.6</td>\n",
       "      <td>250</td>\n",
       "      <td>100.0</td>\n",
       "    </tr>\n",
       "  </tbody>\n",
       "</table>\n",
       "</div>"
      ],
      "text/plain": [
       "    StudentAge  count  percent  cumulative_count  cumulative_percent\n",
       "0           24     30     12.0                30                12.0\n",
       "1           26     29     11.6                59                23.6\n",
       "2           25     26     10.4                85                34.0\n",
       "3           20     25     10.0               110                44.0\n",
       "4           18     23      9.2               133                53.2\n",
       "5           23     22      8.8               155                62.0\n",
       "6           22     21      8.4               176                70.4\n",
       "7           21     17      6.8               193                77.2\n",
       "8           19     17      6.8               210                84.0\n",
       "9           17     16      6.4               226                90.4\n",
       "10          27     15      6.0               241                96.4\n",
       "11          16      9      3.6               250               100.0"
      ]
     },
     "execution_count": 95,
     "metadata": {},
     "output_type": "execute_result"
    }
   ],
   "source": [
    "bqlqt.stb.freq([\"StudentAge\"])"
   ]
  },
  {
   "cell_type": "code",
   "execution_count": 82,
   "id": "ec45c976",
   "metadata": {},
   "outputs": [
    {
     "name": "stderr",
     "output_type": "stream",
     "text": [
      "C:\\Users\\User1\\AppData\\Local\\Temp/ipykernel_11112/2087335250.py:1: FutureWarning: Dropping of nuisance columns in DataFrame reductions (with 'numeric_only=None') is deprecated; in a future version this will raise TypeError.  Select only valid columns before calling the reduction.\n",
      "  bqlqt.median()\n"
     ]
    },
    {
     "data": {
      "text/plain": [
       "StudentAge    22.0\n",
       "dtype: float64"
      ]
     },
     "execution_count": 82,
     "metadata": {},
     "output_type": "execute_result"
    }
   ],
   "source": [
    "bqlqt.median()"
   ]
  },
  {
   "cell_type": "code",
   "execution_count": 94,
   "id": "1710b80e",
   "metadata": {},
   "outputs": [
    {
     "data": {
      "text/html": [
       "<div>\n",
       "<style scoped>\n",
       "    .dataframe tbody tr th:only-of-type {\n",
       "        vertical-align: middle;\n",
       "    }\n",
       "\n",
       "    .dataframe tbody tr th {\n",
       "        vertical-align: top;\n",
       "    }\n",
       "\n",
       "    .dataframe thead th {\n",
       "        text-align: right;\n",
       "    }\n",
       "</style>\n",
       "<table border=\"1\" class=\"dataframe\">\n",
       "  <thead>\n",
       "    <tr style=\"text-align: right;\">\n",
       "      <th></th>\n",
       "      <th>Eye Color</th>\n",
       "      <th>StudentAge</th>\n",
       "    </tr>\n",
       "  </thead>\n",
       "  <tbody>\n",
       "    <tr>\n",
       "      <th>0</th>\n",
       "      <td>White</td>\n",
       "      <td>24</td>\n",
       "    </tr>\n",
       "  </tbody>\n",
       "</table>\n",
       "</div>"
      ],
      "text/plain": [
       "  Eye Color  StudentAge\n",
       "0     White          24"
      ]
     },
     "execution_count": 94,
     "metadata": {},
     "output_type": "execute_result"
    }
   ],
   "source": [
    "bqlqt.mode()"
   ]
  },
  {
   "cell_type": "code",
   "execution_count": 100,
   "id": "2c214091",
   "metadata": {},
   "outputs": [
    {
     "data": {
      "text/plain": [
       "27"
      ]
     },
     "execution_count": 100,
     "metadata": {},
     "output_type": "execute_result"
    }
   ],
   "source": [
    "maxAge = max(bqlqt[\"StudentAge\"])\n",
    "maxAge"
   ]
  },
  {
   "cell_type": "code",
   "execution_count": 89,
   "id": "9e7a3310",
   "metadata": {},
   "outputs": [
    {
     "data": {
      "text/plain": [
       "16"
      ]
     },
     "execution_count": 89,
     "metadata": {},
     "output_type": "execute_result"
    }
   ],
   "source": [
    "minAge = min(bqlqt[\"StudentAge\"])\n",
    "minAge"
   ]
  },
  {
   "cell_type": "code",
   "execution_count": 101,
   "id": "f7825e6b",
   "metadata": {},
   "outputs": [
    {
     "data": {
      "text/plain": [
       "11"
      ]
     },
     "execution_count": 101,
     "metadata": {},
     "output_type": "execute_result"
    }
   ],
   "source": [
    "rangeWeight = maxAge - minAge\n",
    "rangeWeight"
   ]
  },
  {
   "cell_type": "code",
   "execution_count": 102,
   "id": "f621d66f",
   "metadata": {},
   "outputs": [
    {
     "name": "stdout",
     "output_type": "stream",
     "text": [
      "10.348610441767068\n"
     ]
    }
   ],
   "source": [
    "varianceAge = statistics.variance(bqlqt[\"StudentAge\"])\n",
    "print(varianceAge)"
   ]
  },
  {
   "cell_type": "code",
   "execution_count": 103,
   "id": "746d6030",
   "metadata": {},
   "outputs": [
    {
     "name": "stdout",
     "output_type": "stream",
     "text": [
      "StudentAge  16  17  18  19  20  21  22  23  24  25  26  27\n",
      "Eye Color                                                 \n",
      "Black        2   2   3   3   3   4   6   4   3   5   7   2\n",
      "Blue         0   3   2   4   2   4   1   5   8   3   3   6\n",
      "Green        3   2   5   4   5   2   4   2   5   1   4   3\n",
      "Grey         2   3   5   0   6   0   3   3   2   3   5   0\n",
      "Red          1   6   6   4   7   2   2   6   7   2   3   0\n",
      "White        1   0   2   2   2   5   5   2   5  12   7   4\n",
      "dof = 55\n",
      "probability = 0.950, critical = 73.311, stat = 72.929\n",
      "Independent (fail to reject H0)\n",
      "significance = 0.050, p = 0.053\n",
      "Independent (fail to reject H0)\n"
     ]
    }
   ],
   "source": [
    "# chi-squared test\n",
    "from scipy.stats import chi2_contingency\n",
    "from scipy.stats import chi2\n",
    "# contingency table\n",
    "table1 = table2\n",
    "print(table1)\n",
    "teststatistic, pvalue , dof, expectedfreq = chi2_contingency(table1)\n",
    "print(\"dof = %d\" % dof)\n",
    "# %d means integer\n",
    "# interpret test-statistic\n",
    "prob = 0.95\n",
    "critical = chi2.ppf(prob, dof)\n",
    "#ppf - Percent point function\n",
    "print(\"probability = %.3f, critical = %.3f, stat = %.3f\" % (prob, critical, teststatistic))\n",
    "if abs(teststatistic) >= critical:\n",
    "    print(\"Dependent (reject H0)\")\n",
    "else:\n",
    "    print(\"Independent (fail to reject H0)\")\n",
    "# interpret p-value\n",
    "alpha = 1.0 - prob\n",
    "print(\"significance = %.3f, p = %.3f\" % (alpha, pvalue))\n",
    "if pvalue <= alpha:\n",
    "     print(\"Dependent (reject H0)\")\n",
    "else:\n",
    "     print(\"Independent (fail to reject H0)\")\n",
    "        \n",
    "#From our decision,we can see that there is no dependence between the student Ages and their eye colors        "
   ]
  },
  {
   "cell_type": "code",
   "execution_count": 15,
   "id": "774706e1",
   "metadata": {},
   "outputs": [
    {
     "name": "stdout",
     "output_type": "stream",
     "text": [
      "    Eye Color Hair Color   BMI Status\n",
      "0       White        Red       NORMAL\n",
      "1       Green   Brunette       NORMAL\n",
      "2       White        Red  UNDERWEIGHT\n",
      "3        Grey     Blonde  UNDERWEIGHT\n",
      "4       Black   Brunette       NORMAL\n",
      "..        ...        ...          ...\n",
      "245      Blue        Red        OBESE\n",
      "246     White     Blonde       NORMAL\n",
      "247      Grey   Brunette   OVERWEIGHT\n",
      "248       Red        Red       NORMAL\n",
      "249      Grey     Blonde  UNDERWEIGHT\n",
      "\n",
      "[250 rows x 3 columns]\n"
     ]
    },
    {
     "data": {
      "image/png": "[encoded data removed]",
      "text/plain": [
       "<Figure size 1074.25x288 with 5 Axes>"
      ]
     },
     "metadata": {
      "needs_background": "light"
     },
     "output_type": "display_data"
    }
   ],
   "source": [
    "mql = pd.read_excel (r'C:\\Users\\User1\\Desktop\\DataAnalysisProject\\Assignment6.xlsx')\n",
    "print(mql)\n",
    "\n",
    "sns.catplot(x = 'Hair Color', hue = 'Eye Color', col = 'BMI Status', data = mql, kind = 'count', height = 4, aspect = .7)\n",
    "plt.show()"
   ]
  },
  {
   "cell_type": "code",
   "execution_count": 106,
   "id": "fde9c873",
   "metadata": {},
   "outputs": [
    {
     "data": {
      "text/html": [
       "<div>\n",
       "<style scoped>\n",
       "    .dataframe tbody tr th:only-of-type {\n",
       "        vertical-align: middle;\n",
       "    }\n",
       "\n",
       "    .dataframe tbody tr th {\n",
       "        vertical-align: top;\n",
       "    }\n",
       "\n",
       "    .dataframe thead th {\n",
       "        text-align: right;\n",
       "    }\n",
       "</style>\n",
       "<table border=\"1\" class=\"dataframe\">\n",
       "  <thead>\n",
       "    <tr style=\"text-align: right;\">\n",
       "      <th></th>\n",
       "      <th>Eye Color</th>\n",
       "      <th>Hair Color</th>\n",
       "      <th>BMI Status</th>\n",
       "    </tr>\n",
       "  </thead>\n",
       "  <tbody>\n",
       "    <tr>\n",
       "      <th>count</th>\n",
       "      <td>250</td>\n",
       "      <td>250</td>\n",
       "      <td>250</td>\n",
       "    </tr>\n",
       "    <tr>\n",
       "      <th>unique</th>\n",
       "      <td>6</td>\n",
       "      <td>4</td>\n",
       "      <td>5</td>\n",
       "    </tr>\n",
       "    <tr>\n",
       "      <th>top</th>\n",
       "      <td>White</td>\n",
       "      <td>Blonde</td>\n",
       "      <td>UNDERWEIGHT</td>\n",
       "    </tr>\n",
       "    <tr>\n",
       "      <th>freq</th>\n",
       "      <td>47</td>\n",
       "      <td>69</td>\n",
       "      <td>86</td>\n",
       "    </tr>\n",
       "  </tbody>\n",
       "</table>\n",
       "</div>"
      ],
      "text/plain": [
       "       Eye Color Hair Color   BMI Status\n",
       "count        250        250          250\n",
       "unique         6          4            5\n",
       "top        White     Blonde  UNDERWEIGHT\n",
       "freq          47         69           86"
      ]
     },
     "execution_count": 106,
     "metadata": {},
     "output_type": "execute_result"
    }
   ],
   "source": [
    "mql.describe(include = \"all\")"
   ]
  },
  {
   "cell_type": "code",
   "execution_count": 107,
   "id": "10469a52",
   "metadata": {},
   "outputs": [
    {
     "name": "stdout",
     "output_type": "stream",
     "text": [
      "<class 'pandas.core.frame.DataFrame'>\n",
      "RangeIndex: 250 entries, 0 to 249\n",
      "Data columns (total 3 columns):\n",
      " #   Column      Non-Null Count  Dtype \n",
      "---  ------      --------------  ----- \n",
      " 0   Eye Color   250 non-null    object\n",
      " 1   Hair Color  250 non-null    object\n",
      " 2   BMI Status  250 non-null    object\n",
      "dtypes: object(3)\n",
      "memory usage: 6.0+ KB\n"
     ]
    }
   ],
   "source": [
    "mql.info()"
   ]
  },
  {
   "cell_type": "code",
   "execution_count": 16,
   "id": "a245e5da",
   "metadata": {},
   "outputs": [
    {
     "name": "stdout",
     "output_type": "stream",
     "text": [
      "     StudentAge  StudentWeight  StudentHeight\n",
      "0            24          63.70           2.63\n",
      "1            26          88.77           4.30\n",
      "2            24          60.97           4.52\n",
      "3            26          67.79           4.80\n",
      "4            21          86.29           4.03\n",
      "..          ...            ...            ...\n",
      "245          23          69.93           2.17\n",
      "246          26          81.20           4.16\n",
      "247          22          82.72           2.98\n",
      "248          20          83.23           4.24\n",
      "249          25          86.14           4.82\n",
      "\n",
      "[250 rows x 3 columns]\n"
     ]
    },
    {
     "data": {
      "image/png": "[encoded data removed]",
      "text/plain": [
       "<Figure size 648x648 with 12 Axes>"
      ]
     },
     "metadata": {
      "needs_background": "light"
     },
     "output_type": "display_data"
    }
   ],
   "source": [
    "mqt = pd.read_excel (r'C:\\Users\\User1\\Desktop\\DataAnalysisProject\\Assignment7.xlsx')\n",
    "print(mqt)\n",
    "\n",
    "sns.pairplot(data = mqt, height = 3)\n",
    "plt.show()"
   ]
  },
  {
   "cell_type": "code",
   "execution_count": 109,
   "id": "56ccc411",
   "metadata": {},
   "outputs": [
    {
     "data": {
      "text/html": [
       "<div>\n",
       "<style scoped>\n",
       "    .dataframe tbody tr th:only-of-type {\n",
       "        vertical-align: middle;\n",
       "    }\n",
       "\n",
       "    .dataframe tbody tr th {\n",
       "        vertical-align: top;\n",
       "    }\n",
       "\n",
       "    .dataframe thead th {\n",
       "        text-align: right;\n",
       "    }\n",
       "</style>\n",
       "<table border=\"1\" class=\"dataframe\">\n",
       "  <thead>\n",
       "    <tr style=\"text-align: right;\">\n",
       "      <th></th>\n",
       "      <th>StudentAge</th>\n",
       "      <th>StudentWeight</th>\n",
       "      <th>StudentHeight</th>\n",
       "    </tr>\n",
       "  </thead>\n",
       "  <tbody>\n",
       "    <tr>\n",
       "      <th>count</th>\n",
       "      <td>250.000000</td>\n",
       "      <td>250.000000</td>\n",
       "      <td>250.000000</td>\n",
       "    </tr>\n",
       "    <tr>\n",
       "      <th>mean</th>\n",
       "      <td>22.028000</td>\n",
       "      <td>75.401920</td>\n",
       "      <td>3.542600</td>\n",
       "    </tr>\n",
       "    <tr>\n",
       "      <th>std</th>\n",
       "      <td>3.216926</td>\n",
       "      <td>8.670352</td>\n",
       "      <td>0.858792</td>\n",
       "    </tr>\n",
       "    <tr>\n",
       "      <th>min</th>\n",
       "      <td>16.000000</td>\n",
       "      <td>60.130000</td>\n",
       "      <td>2.010000</td>\n",
       "    </tr>\n",
       "    <tr>\n",
       "      <th>25%</th>\n",
       "      <td>19.000000</td>\n",
       "      <td>67.932500</td>\n",
       "      <td>2.790000</td>\n",
       "    </tr>\n",
       "    <tr>\n",
       "      <th>50%</th>\n",
       "      <td>22.000000</td>\n",
       "      <td>75.930000</td>\n",
       "      <td>3.560000</td>\n",
       "    </tr>\n",
       "    <tr>\n",
       "      <th>75%</th>\n",
       "      <td>25.000000</td>\n",
       "      <td>83.362500</td>\n",
       "      <td>4.237500</td>\n",
       "    </tr>\n",
       "    <tr>\n",
       "      <th>max</th>\n",
       "      <td>27.000000</td>\n",
       "      <td>89.910000</td>\n",
       "      <td>4.960000</td>\n",
       "    </tr>\n",
       "  </tbody>\n",
       "</table>\n",
       "</div>"
      ],
      "text/plain": [
       "       StudentAge  StudentWeight  StudentHeight\n",
       "count  250.000000     250.000000     250.000000\n",
       "mean    22.028000      75.401920       3.542600\n",
       "std      3.216926       8.670352       0.858792\n",
       "min     16.000000      60.130000       2.010000\n",
       "25%     19.000000      67.932500       2.790000\n",
       "50%     22.000000      75.930000       3.560000\n",
       "75%     25.000000      83.362500       4.237500\n",
       "max     27.000000      89.910000       4.960000"
      ]
     },
     "execution_count": 109,
     "metadata": {},
     "output_type": "execute_result"
    }
   ],
   "source": [
    "mqt.describe(include = \"all\")"
   ]
  },
  {
   "cell_type": "code",
   "execution_count": 110,
   "id": "5f092b34",
   "metadata": {},
   "outputs": [
    {
     "data": {
      "text/plain": [
       "-0.19621098793141006"
      ]
     },
     "execution_count": 110,
     "metadata": {},
     "output_type": "execute_result"
    }
   ],
   "source": [
    "(mqt[\"StudentAge\"]).skew()"
   ]
  },
  {
   "cell_type": "code",
   "execution_count": 111,
   "id": "b96faa7a",
   "metadata": {},
   "outputs": [
    {
     "data": {
      "text/plain": [
       "-1.1571598976356157"
      ]
     },
     "execution_count": 111,
     "metadata": {},
     "output_type": "execute_result"
    }
   ],
   "source": [
    "(mqt[\"StudentAge\"]).kurt()"
   ]
  },
  {
   "cell_type": "code",
   "execution_count": 112,
   "id": "e4d64add",
   "metadata": {},
   "outputs": [
    {
     "data": {
      "text/plain": [
       "-0.12220359233364465"
      ]
     },
     "execution_count": 112,
     "metadata": {},
     "output_type": "execute_result"
    }
   ],
   "source": [
    "(mqt[\"StudentWeight\"]).skew()"
   ]
  },
  {
   "cell_type": "code",
   "execution_count": 113,
   "id": "7dfd6b0a",
   "metadata": {},
   "outputs": [
    {
     "data": {
      "text/plain": [
       "-1.2125186025082717"
      ]
     },
     "execution_count": 113,
     "metadata": {},
     "output_type": "execute_result"
    }
   ],
   "source": [
    "(mqt[\"StudentWeight\"]).kurt()"
   ]
  },
  {
   "cell_type": "code",
   "execution_count": 114,
   "id": "1bad6723",
   "metadata": {},
   "outputs": [
    {
     "name": "stdout",
     "output_type": "stream",
     "text": [
      "-0.10417187914089214\n"
     ]
    }
   ],
   "source": [
    "skw = (mqt[\"StudentHeight\"]).skew()\n",
    "print(skw)"
   ]
  },
  {
   "cell_type": "code",
   "execution_count": 115,
   "id": "e4745c5d",
   "metadata": {},
   "outputs": [
    {
     "name": "stdout",
     "output_type": "stream",
     "text": [
      "-1.1801605641634165\n"
     ]
    }
   ],
   "source": [
    "kurtos = (mqt[\"StudentHeight\"]).kurt()\n",
    "print(kurtos)"
   ]
  },
  {
   "cell_type": "code",
   "execution_count": 116,
   "id": "d6b166e4",
   "metadata": {},
   "outputs": [
    {
     "data": {
      "text/html": [
       "<div>\n",
       "<style scoped>\n",
       "    .dataframe tbody tr th:only-of-type {\n",
       "        vertical-align: middle;\n",
       "    }\n",
       "\n",
       "    .dataframe tbody tr th {\n",
       "        vertical-align: top;\n",
       "    }\n",
       "\n",
       "    .dataframe thead th {\n",
       "        text-align: right;\n",
       "    }\n",
       "</style>\n",
       "<table border=\"1\" class=\"dataframe\">\n",
       "  <thead>\n",
       "    <tr style=\"text-align: right;\">\n",
       "      <th></th>\n",
       "      <th>StudentAge</th>\n",
       "      <th>count</th>\n",
       "      <th>percent</th>\n",
       "      <th>cumulative_count</th>\n",
       "      <th>cumulative_percent</th>\n",
       "    </tr>\n",
       "  </thead>\n",
       "  <tbody>\n",
       "    <tr>\n",
       "      <th>0</th>\n",
       "      <td>24</td>\n",
       "      <td>30</td>\n",
       "      <td>12.0</td>\n",
       "      <td>30</td>\n",
       "      <td>12.0</td>\n",
       "    </tr>\n",
       "    <tr>\n",
       "      <th>1</th>\n",
       "      <td>26</td>\n",
       "      <td>29</td>\n",
       "      <td>11.6</td>\n",
       "      <td>59</td>\n",
       "      <td>23.6</td>\n",
       "    </tr>\n",
       "    <tr>\n",
       "      <th>2</th>\n",
       "      <td>25</td>\n",
       "      <td>26</td>\n",
       "      <td>10.4</td>\n",
       "      <td>85</td>\n",
       "      <td>34.0</td>\n",
       "    </tr>\n",
       "    <tr>\n",
       "      <th>3</th>\n",
       "      <td>20</td>\n",
       "      <td>25</td>\n",
       "      <td>10.0</td>\n",
       "      <td>110</td>\n",
       "      <td>44.0</td>\n",
       "    </tr>\n",
       "    <tr>\n",
       "      <th>4</th>\n",
       "      <td>18</td>\n",
       "      <td>23</td>\n",
       "      <td>9.2</td>\n",
       "      <td>133</td>\n",
       "      <td>53.2</td>\n",
       "    </tr>\n",
       "    <tr>\n",
       "      <th>5</th>\n",
       "      <td>23</td>\n",
       "      <td>22</td>\n",
       "      <td>8.8</td>\n",
       "      <td>155</td>\n",
       "      <td>62.0</td>\n",
       "    </tr>\n",
       "    <tr>\n",
       "      <th>6</th>\n",
       "      <td>22</td>\n",
       "      <td>21</td>\n",
       "      <td>8.4</td>\n",
       "      <td>176</td>\n",
       "      <td>70.4</td>\n",
       "    </tr>\n",
       "    <tr>\n",
       "      <th>7</th>\n",
       "      <td>21</td>\n",
       "      <td>17</td>\n",
       "      <td>6.8</td>\n",
       "      <td>193</td>\n",
       "      <td>77.2</td>\n",
       "    </tr>\n",
       "    <tr>\n",
       "      <th>8</th>\n",
       "      <td>19</td>\n",
       "      <td>17</td>\n",
       "      <td>6.8</td>\n",
       "      <td>210</td>\n",
       "      <td>84.0</td>\n",
       "    </tr>\n",
       "    <tr>\n",
       "      <th>9</th>\n",
       "      <td>17</td>\n",
       "      <td>16</td>\n",
       "      <td>6.4</td>\n",
       "      <td>226</td>\n",
       "      <td>90.4</td>\n",
       "    </tr>\n",
       "    <tr>\n",
       "      <th>10</th>\n",
       "      <td>27</td>\n",
       "      <td>15</td>\n",
       "      <td>6.0</td>\n",
       "      <td>241</td>\n",
       "      <td>96.4</td>\n",
       "    </tr>\n",
       "    <tr>\n",
       "      <th>11</th>\n",
       "      <td>16</td>\n",
       "      <td>9</td>\n",
       "      <td>3.6</td>\n",
       "      <td>250</td>\n",
       "      <td>100.0</td>\n",
       "    </tr>\n",
       "  </tbody>\n",
       "</table>\n",
       "</div>"
      ],
      "text/plain": [
       "    StudentAge  count  percent  cumulative_count  cumulative_percent\n",
       "0           24     30     12.0                30                12.0\n",
       "1           26     29     11.6                59                23.6\n",
       "2           25     26     10.4                85                34.0\n",
       "3           20     25     10.0               110                44.0\n",
       "4           18     23      9.2               133                53.2\n",
       "5           23     22      8.8               155                62.0\n",
       "6           22     21      8.4               176                70.4\n",
       "7           21     17      6.8               193                77.2\n",
       "8           19     17      6.8               210                84.0\n",
       "9           17     16      6.4               226                90.4\n",
       "10          27     15      6.0               241                96.4\n",
       "11          16      9      3.6               250               100.0"
      ]
     },
     "execution_count": 116,
     "metadata": {},
     "output_type": "execute_result"
    }
   ],
   "source": [
    "mqt.stb.freq([\"StudentAge\"])"
   ]
  },
  {
   "cell_type": "code",
   "execution_count": 117,
   "id": "83971b56",
   "metadata": {},
   "outputs": [
    {
     "data": {
      "text/html": [
       "<div>\n",
       "<style scoped>\n",
       "    .dataframe tbody tr th:only-of-type {\n",
       "        vertical-align: middle;\n",
       "    }\n",
       "\n",
       "    .dataframe tbody tr th {\n",
       "        vertical-align: top;\n",
       "    }\n",
       "\n",
       "    .dataframe thead th {\n",
       "        text-align: right;\n",
       "    }\n",
       "</style>\n",
       "<table border=\"1\" class=\"dataframe\">\n",
       "  <thead>\n",
       "    <tr style=\"text-align: right;\">\n",
       "      <th></th>\n",
       "      <th>StudentWeight</th>\n",
       "      <th>count</th>\n",
       "      <th>percent</th>\n",
       "      <th>cumulative_count</th>\n",
       "      <th>cumulative_percent</th>\n",
       "    </tr>\n",
       "  </thead>\n",
       "  <tbody>\n",
       "    <tr>\n",
       "      <th>0</th>\n",
       "      <td>81.20</td>\n",
       "      <td>2</td>\n",
       "      <td>0.8</td>\n",
       "      <td>2</td>\n",
       "      <td>0.8</td>\n",
       "    </tr>\n",
       "    <tr>\n",
       "      <th>1</th>\n",
       "      <td>72.51</td>\n",
       "      <td>2</td>\n",
       "      <td>0.8</td>\n",
       "      <td>4</td>\n",
       "      <td>1.6</td>\n",
       "    </tr>\n",
       "    <tr>\n",
       "      <th>2</th>\n",
       "      <td>89.91</td>\n",
       "      <td>1</td>\n",
       "      <td>0.4</td>\n",
       "      <td>5</td>\n",
       "      <td>2.0</td>\n",
       "    </tr>\n",
       "    <tr>\n",
       "      <th>3</th>\n",
       "      <td>89.88</td>\n",
       "      <td>1</td>\n",
       "      <td>0.4</td>\n",
       "      <td>6</td>\n",
       "      <td>2.4</td>\n",
       "    </tr>\n",
       "    <tr>\n",
       "      <th>4</th>\n",
       "      <td>89.86</td>\n",
       "      <td>1</td>\n",
       "      <td>0.4</td>\n",
       "      <td>7</td>\n",
       "      <td>2.8</td>\n",
       "    </tr>\n",
       "    <tr>\n",
       "      <th>...</th>\n",
       "      <td>...</td>\n",
       "      <td>...</td>\n",
       "      <td>...</td>\n",
       "      <td>...</td>\n",
       "      <td>...</td>\n",
       "    </tr>\n",
       "    <tr>\n",
       "      <th>243</th>\n",
       "      <td>60.49</td>\n",
       "      <td>1</td>\n",
       "      <td>0.4</td>\n",
       "      <td>246</td>\n",
       "      <td>98.4</td>\n",
       "    </tr>\n",
       "    <tr>\n",
       "      <th>244</th>\n",
       "      <td>60.48</td>\n",
       "      <td>1</td>\n",
       "      <td>0.4</td>\n",
       "      <td>247</td>\n",
       "      <td>98.8</td>\n",
       "    </tr>\n",
       "    <tr>\n",
       "      <th>245</th>\n",
       "      <td>60.47</td>\n",
       "      <td>1</td>\n",
       "      <td>0.4</td>\n",
       "      <td>248</td>\n",
       "      <td>99.2</td>\n",
       "    </tr>\n",
       "    <tr>\n",
       "      <th>246</th>\n",
       "      <td>60.33</td>\n",
       "      <td>1</td>\n",
       "      <td>0.4</td>\n",
       "      <td>249</td>\n",
       "      <td>99.6</td>\n",
       "    </tr>\n",
       "    <tr>\n",
       "      <th>247</th>\n",
       "      <td>60.13</td>\n",
       "      <td>1</td>\n",
       "      <td>0.4</td>\n",
       "      <td>250</td>\n",
       "      <td>100.0</td>\n",
       "    </tr>\n",
       "  </tbody>\n",
       "</table>\n",
       "<p>248 rows × 5 columns</p>\n",
       "</div>"
      ],
      "text/plain": [
       "     StudentWeight  count  percent  cumulative_count  cumulative_percent\n",
       "0            81.20      2      0.8                 2                 0.8\n",
       "1            72.51      2      0.8                 4                 1.6\n",
       "2            89.91      1      0.4                 5                 2.0\n",
       "3            89.88      1      0.4                 6                 2.4\n",
       "4            89.86      1      0.4                 7                 2.8\n",
       "..             ...    ...      ...               ...                 ...\n",
       "243          60.49      1      0.4               246                98.4\n",
       "244          60.48      1      0.4               247                98.8\n",
       "245          60.47      1      0.4               248                99.2\n",
       "246          60.33      1      0.4               249                99.6\n",
       "247          60.13      1      0.4               250               100.0\n",
       "\n",
       "[248 rows x 5 columns]"
      ]
     },
     "execution_count": 117,
     "metadata": {},
     "output_type": "execute_result"
    }
   ],
   "source": [
    "mqt.stb.freq([\"StudentWeight\"])"
   ]
  },
  {
   "cell_type": "code",
   "execution_count": 118,
   "id": "4d8e560c",
   "metadata": {},
   "outputs": [
    {
     "name": "stdout",
     "output_type": "stream",
     "text": [
      "     StudentHeight  count  percent  cumulative_count  cumulative_percent\n",
      "0             4.05      6      2.4                 6                 2.4\n",
      "1             3.33      4      1.6                10                 4.0\n",
      "2             2.20      4      1.6                14                 5.6\n",
      "3             4.87      3      1.2                17                 6.8\n",
      "4             4.83      3      1.2                20                 8.0\n",
      "..             ...    ...      ...               ...                 ...\n",
      "159           2.08      1      0.4               246                98.4\n",
      "160           2.06      1      0.4               247                98.8\n",
      "161           2.04      1      0.4               248                99.2\n",
      "162           2.03      1      0.4               249                99.6\n",
      "163           2.01      1      0.4               250               100.0\n",
      "\n",
      "[164 rows x 5 columns]\n"
     ]
    }
   ],
   "source": [
    "mtq =mqt.stb.freq([\"StudentHeight\"])\n",
    "print(mtq)"
   ]
  },
  {
   "cell_type": "code",
   "execution_count": 119,
   "id": "d28b56d5",
   "metadata": {},
   "outputs": [
    {
     "data": {
      "text/plain": [
       "StudentAge       22.00\n",
       "StudentWeight    75.93\n",
       "StudentHeight     3.56\n",
       "dtype: float64"
      ]
     },
     "execution_count": 119,
     "metadata": {},
     "output_type": "execute_result"
    }
   ],
   "source": [
    "mqt.median()"
   ]
  },
  {
   "cell_type": "code",
   "execution_count": 120,
   "id": "edb1cbc5",
   "metadata": {},
   "outputs": [
    {
     "data": {
      "text/plain": [
       "27"
      ]
     },
     "execution_count": 120,
     "metadata": {},
     "output_type": "execute_result"
    }
   ],
   "source": [
    "maxAge = max(mqt[\"StudentAge\"])\n",
    "maxAge"
   ]
  },
  {
   "cell_type": "code",
   "execution_count": 121,
   "id": "6e8dbdae",
   "metadata": {},
   "outputs": [
    {
     "data": {
      "text/plain": [
       "16"
      ]
     },
     "execution_count": 121,
     "metadata": {},
     "output_type": "execute_result"
    }
   ],
   "source": [
    "minAge = min(mqt[\"StudentAge\"])\n",
    "minAge"
   ]
  },
  {
   "cell_type": "code",
   "execution_count": 122,
   "id": "a6f0c778",
   "metadata": {},
   "outputs": [
    {
     "data": {
      "text/plain": [
       "11"
      ]
     },
     "execution_count": 122,
     "metadata": {},
     "output_type": "execute_result"
    }
   ],
   "source": [
    "rangeAge = maxAge - minAge\n",
    "rangeAge"
   ]
  },
  {
   "cell_type": "code",
   "execution_count": 123,
   "id": "b6ac4cf4",
   "metadata": {},
   "outputs": [
    {
     "data": {
      "text/plain": [
       "89.91"
      ]
     },
     "execution_count": 123,
     "metadata": {},
     "output_type": "execute_result"
    }
   ],
   "source": [
    "maxWeight = max(mqt[\"StudentWeight\"])\n",
    "maxWeight"
   ]
  },
  {
   "cell_type": "code",
   "execution_count": 124,
   "id": "10694199",
   "metadata": {},
   "outputs": [
    {
     "data": {
      "text/plain": [
       "60.13"
      ]
     },
     "execution_count": 124,
     "metadata": {},
     "output_type": "execute_result"
    }
   ],
   "source": [
    "minWeight = min(mqt[\"StudentWeight\"])\n",
    "minWeight"
   ]
  },
  {
   "cell_type": "code",
   "execution_count": 125,
   "id": "4df25506",
   "metadata": {},
   "outputs": [
    {
     "data": {
      "text/plain": [
       "29.78"
      ]
     },
     "execution_count": 125,
     "metadata": {},
     "output_type": "execute_result"
    }
   ],
   "source": [
    "rangeWeight = maxWeight - minWeight\n",
    "rangeofWeight = round(rangeWeight,2)\n",
    "rangeofWeight"
   ]
  },
  {
   "cell_type": "code",
   "execution_count": 126,
   "id": "7b34eec0",
   "metadata": {},
   "outputs": [
    {
     "name": "stdout",
     "output_type": "stream",
     "text": [
      "4.96\n"
     ]
    }
   ],
   "source": [
    "maxHeight = max(mqt[\"StudentHeight\"])\n",
    "print(maxHeight)"
   ]
  },
  {
   "cell_type": "code",
   "execution_count": 127,
   "id": "ba025549",
   "metadata": {},
   "outputs": [
    {
     "name": "stdout",
     "output_type": "stream",
     "text": [
      "2.01\n"
     ]
    }
   ],
   "source": [
    "minHeight = min(mqt[\"StudentHeight\"])\n",
    "print(minHeight)"
   ]
  },
  {
   "cell_type": "code",
   "execution_count": 128,
   "id": "e72d511f",
   "metadata": {},
   "outputs": [
    {
     "name": "stdout",
     "output_type": "stream",
     "text": [
      "2.95\n"
     ]
    }
   ],
   "source": [
    "rangeHeight = maxHeight - minHeight\n",
    "print(rangeHeight)"
   ]
  },
  {
   "cell_type": "code",
   "execution_count": 129,
   "id": "930f7261",
   "metadata": {},
   "outputs": [
    {
     "name": "stdout",
     "output_type": "stream",
     "text": [
      "10.348610441767068\n"
     ]
    }
   ],
   "source": [
    "varianceAge = statistics.variance(mqt[\"StudentAge\"])\n",
    "print(varianceAge)"
   ]
  },
  {
   "cell_type": "code",
   "execution_count": 130,
   "id": "80ae141a",
   "metadata": {},
   "outputs": [
    {
     "name": "stdout",
     "output_type": "stream",
     "text": [
      "75.17500352771084\n"
     ]
    }
   ],
   "source": [
    "varianceWeight = statistics.variance(mqt[\"StudentWeight\"])\n",
    "print(varianceWeight)"
   ]
  },
  {
   "cell_type": "code",
   "execution_count": 131,
   "id": "008b8a25",
   "metadata": {},
   "outputs": [
    {
     "name": "stdout",
     "output_type": "stream",
     "text": [
      "0.7375237349397591\n"
     ]
    }
   ],
   "source": [
    "varianceHeight = statistics.variance(mqt[\"StudentHeight\"])\n",
    "print(varianceHeight)"
   ]
  },
  {
   "cell_type": "code",
   "execution_count": 19,
   "id": "b570a68c",
   "metadata": {},
   "outputs": [
    {
     "name": "stdout",
     "output_type": "stream",
     "text": [
      "    StudentName  StudentAge  StudentWeight  StudentHeight  StudentBMI  \\\n",
      "0        Kamaal          24          63.70           2.63        24.2   \n",
      "1          Rick          26          88.77           4.30        20.6   \n",
      "2         Kayla          24          60.97           4.52        13.5   \n",
      "3       Kendall          26          67.79           4.80        14.1   \n",
      "4         Maaiz          21          86.29           4.03        21.4   \n",
      "..          ...         ...            ...            ...         ...   \n",
      "245   Alexander          23          69.93           2.17        32.2   \n",
      "246       Cindy          26          81.20           4.16        19.5   \n",
      "247       Ramla          22          82.72           2.98        27.8   \n",
      "248     Hanoona          20          83.23           4.24        19.6   \n",
      "249     Ruqayya          25          86.14           4.82        17.9   \n",
      "\n",
      "      BMI Status Eye Color Hair Color  \n",
      "0         NORMAL     White        Red  \n",
      "1         NORMAL     Green   Brunette  \n",
      "2    UNDERWEIGHT     White        Red  \n",
      "3    UNDERWEIGHT      Grey     Blonde  \n",
      "4         NORMAL     Black   Brunette  \n",
      "..           ...       ...        ...  \n",
      "245        OBESE      Blue        Red  \n",
      "246       NORMAL     White     Blonde  \n",
      "247   OVERWEIGHT      Grey   Brunette  \n",
      "248       NORMAL       Red        Red  \n",
      "249  UNDERWEIGHT      Grey     Blonde  \n",
      "\n",
      "[250 rows x 8 columns]\n"
     ]
    },
    {
     "data": {
      "image/png": "[encoded data removed]",
      "text/plain": [
       "<Figure size 864x864 with 20 Axes>"
      ]
     },
     "metadata": {
      "needs_background": "light"
     },
     "output_type": "display_data"
    }
   ],
   "source": [
    "mqtql = pd.read_excel (r'C:\\Users\\User1\\Desktop\\DataAnalysisProject\\Assignment8.xlsx')\n",
    "print(mqtql)\n",
    "\n",
    "sns.pairplot (data = mqtql, height = 3)\n",
    "plt.show()"
   ]
  },
  {
   "cell_type": "code",
   "execution_count": 132,
   "id": "344670b8",
   "metadata": {},
   "outputs": [
    {
     "data": {
      "text/html": [
       "<div>\n",
       "<style scoped>\n",
       "    .dataframe tbody tr th:only-of-type {\n",
       "        vertical-align: middle;\n",
       "    }\n",
       "\n",
       "    .dataframe tbody tr th {\n",
       "        vertical-align: top;\n",
       "    }\n",
       "\n",
       "    .dataframe thead th {\n",
       "        text-align: right;\n",
       "    }\n",
       "</style>\n",
       "<table border=\"1\" class=\"dataframe\">\n",
       "  <thead>\n",
       "    <tr style=\"text-align: right;\">\n",
       "      <th></th>\n",
       "      <th>StudentName</th>\n",
       "      <th>StudentAge</th>\n",
       "      <th>StudentWeight</th>\n",
       "      <th>StudentHeight</th>\n",
       "      <th>StudentBMI</th>\n",
       "      <th>BMI Status</th>\n",
       "      <th>Eye Color</th>\n",
       "      <th>Hair Color</th>\n",
       "    </tr>\n",
       "  </thead>\n",
       "  <tbody>\n",
       "    <tr>\n",
       "      <th>count</th>\n",
       "      <td>250</td>\n",
       "      <td>250.000000</td>\n",
       "      <td>250.000000</td>\n",
       "      <td>250.000000</td>\n",
       "      <td>250.000000</td>\n",
       "      <td>250</td>\n",
       "      <td>250</td>\n",
       "      <td>250</td>\n",
       "    </tr>\n",
       "    <tr>\n",
       "      <th>unique</th>\n",
       "      <td>239</td>\n",
       "      <td>NaN</td>\n",
       "      <td>NaN</td>\n",
       "      <td>NaN</td>\n",
       "      <td>NaN</td>\n",
       "      <td>5</td>\n",
       "      <td>6</td>\n",
       "      <td>4</td>\n",
       "    </tr>\n",
       "    <tr>\n",
       "      <th>top</th>\n",
       "      <td>Nicole</td>\n",
       "      <td>NaN</td>\n",
       "      <td>NaN</td>\n",
       "      <td>NaN</td>\n",
       "      <td>NaN</td>\n",
       "      <td>UNDERWEIGHT</td>\n",
       "      <td>White</td>\n",
       "      <td>Blonde</td>\n",
       "    </tr>\n",
       "    <tr>\n",
       "      <th>freq</th>\n",
       "      <td>2</td>\n",
       "      <td>NaN</td>\n",
       "      <td>NaN</td>\n",
       "      <td>NaN</td>\n",
       "      <td>NaN</td>\n",
       "      <td>86</td>\n",
       "      <td>47</td>\n",
       "      <td>69</td>\n",
       "    </tr>\n",
       "    <tr>\n",
       "      <th>mean</th>\n",
       "      <td>NaN</td>\n",
       "      <td>22.028000</td>\n",
       "      <td>75.401920</td>\n",
       "      <td>3.542600</td>\n",
       "      <td>22.734400</td>\n",
       "      <td>NaN</td>\n",
       "      <td>NaN</td>\n",
       "      <td>NaN</td>\n",
       "    </tr>\n",
       "    <tr>\n",
       "      <th>std</th>\n",
       "      <td>NaN</td>\n",
       "      <td>3.216926</td>\n",
       "      <td>8.670352</td>\n",
       "      <td>0.858792</td>\n",
       "      <td>6.745293</td>\n",
       "      <td>NaN</td>\n",
       "      <td>NaN</td>\n",
       "      <td>NaN</td>\n",
       "    </tr>\n",
       "    <tr>\n",
       "      <th>min</th>\n",
       "      <td>NaN</td>\n",
       "      <td>16.000000</td>\n",
       "      <td>60.130000</td>\n",
       "      <td>2.010000</td>\n",
       "      <td>12.400000</td>\n",
       "      <td>NaN</td>\n",
       "      <td>NaN</td>\n",
       "      <td>NaN</td>\n",
       "    </tr>\n",
       "    <tr>\n",
       "      <th>25%</th>\n",
       "      <td>NaN</td>\n",
       "      <td>19.000000</td>\n",
       "      <td>67.932500</td>\n",
       "      <td>2.790000</td>\n",
       "      <td>17.525000</td>\n",
       "      <td>NaN</td>\n",
       "      <td>NaN</td>\n",
       "      <td>NaN</td>\n",
       "    </tr>\n",
       "    <tr>\n",
       "      <th>50%</th>\n",
       "      <td>NaN</td>\n",
       "      <td>22.000000</td>\n",
       "      <td>75.930000</td>\n",
       "      <td>3.560000</td>\n",
       "      <td>21.350000</td>\n",
       "      <td>NaN</td>\n",
       "      <td>NaN</td>\n",
       "      <td>NaN</td>\n",
       "    </tr>\n",
       "    <tr>\n",
       "      <th>75%</th>\n",
       "      <td>NaN</td>\n",
       "      <td>25.000000</td>\n",
       "      <td>83.362500</td>\n",
       "      <td>4.237500</td>\n",
       "      <td>26.375000</td>\n",
       "      <td>NaN</td>\n",
       "      <td>NaN</td>\n",
       "      <td>NaN</td>\n",
       "    </tr>\n",
       "    <tr>\n",
       "      <th>max</th>\n",
       "      <td>NaN</td>\n",
       "      <td>27.000000</td>\n",
       "      <td>89.910000</td>\n",
       "      <td>4.960000</td>\n",
       "      <td>42.600000</td>\n",
       "      <td>NaN</td>\n",
       "      <td>NaN</td>\n",
       "      <td>NaN</td>\n",
       "    </tr>\n",
       "  </tbody>\n",
       "</table>\n",
       "</div>"
      ],
      "text/plain": [
       "       StudentName  StudentAge  StudentWeight  StudentHeight  StudentBMI  \\\n",
       "count          250  250.000000     250.000000     250.000000  250.000000   \n",
       "unique         239         NaN            NaN            NaN         NaN   \n",
       "top         Nicole         NaN            NaN            NaN         NaN   \n",
       "freq             2         NaN            NaN            NaN         NaN   \n",
       "mean           NaN   22.028000      75.401920       3.542600   22.734400   \n",
       "std            NaN    3.216926       8.670352       0.858792    6.745293   \n",
       "min            NaN   16.000000      60.130000       2.010000   12.400000   \n",
       "25%            NaN   19.000000      67.932500       2.790000   17.525000   \n",
       "50%            NaN   22.000000      75.930000       3.560000   21.350000   \n",
       "75%            NaN   25.000000      83.362500       4.237500   26.375000   \n",
       "max            NaN   27.000000      89.910000       4.960000   42.600000   \n",
       "\n",
       "         BMI Status Eye Color Hair Color  \n",
       "count           250       250        250  \n",
       "unique            5         6          4  \n",
       "top     UNDERWEIGHT     White     Blonde  \n",
       "freq             86        47         69  \n",
       "mean            NaN       NaN        NaN  \n",
       "std             NaN       NaN        NaN  \n",
       "min             NaN       NaN        NaN  \n",
       "25%             NaN       NaN        NaN  \n",
       "50%             NaN       NaN        NaN  \n",
       "75%             NaN       NaN        NaN  \n",
       "max             NaN       NaN        NaN  "
      ]
     },
     "execution_count": 132,
     "metadata": {},
     "output_type": "execute_result"
    }
   ],
   "source": [
    "mqtql.describe(include = \"all\")"
   ]
  },
  {
   "cell_type": "code",
   "execution_count": 133,
   "id": "36713cbc",
   "metadata": {},
   "outputs": [
    {
     "name": "stdout",
     "output_type": "stream",
     "text": [
      "<class 'pandas.core.frame.DataFrame'>\n",
      "RangeIndex: 250 entries, 0 to 249\n",
      "Data columns (total 8 columns):\n",
      " #   Column         Non-Null Count  Dtype  \n",
      "---  ------         --------------  -----  \n",
      " 0   StudentName    250 non-null    object \n",
      " 1   StudentAge     250 non-null    int64  \n",
      " 2   StudentWeight  250 non-null    float64\n",
      " 3   StudentHeight  250 non-null    float64\n",
      " 4   StudentBMI     250 non-null    float64\n",
      " 5   BMI Status     250 non-null    object \n",
      " 6   Eye Color      250 non-null    object \n",
      " 7   Hair Color     250 non-null    object \n",
      "dtypes: float64(3), int64(1), object(4)\n",
      "memory usage: 15.8+ KB\n"
     ]
    }
   ],
   "source": [
    "mqtql.info()"
   ]
  },
  {
   "cell_type": "code",
   "execution_count": 134,
   "id": "498731f2",
   "metadata": {},
   "outputs": [
    {
     "data": {
      "text/plain": [
       "-0.19621098793141006"
      ]
     },
     "execution_count": 134,
     "metadata": {},
     "output_type": "execute_result"
    }
   ],
   "source": [
    "(mqtql[\"StudentAge\"]).skew()"
   ]
  },
  {
   "cell_type": "code",
   "execution_count": 135,
   "id": "81e96f93",
   "metadata": {},
   "outputs": [
    {
     "data": {
      "text/plain": [
       "-1.1571598976356157"
      ]
     },
     "execution_count": 135,
     "metadata": {},
     "output_type": "execute_result"
    }
   ],
   "source": [
    "(mqtql[\"StudentAge\"]).kurt()"
   ]
  },
  {
   "cell_type": "code",
   "execution_count": 136,
   "id": "9e16bcad",
   "metadata": {},
   "outputs": [
    {
     "data": {
      "text/plain": [
       "-0.12220359233364465"
      ]
     },
     "execution_count": 136,
     "metadata": {},
     "output_type": "execute_result"
    }
   ],
   "source": [
    "(mqtql[\"StudentWeight\"]).skew()"
   ]
  },
  {
   "cell_type": "code",
   "execution_count": 137,
   "id": "1bad15e3",
   "metadata": {},
   "outputs": [
    {
     "data": {
      "text/plain": [
       "-1.2125186025082717"
      ]
     },
     "execution_count": 137,
     "metadata": {},
     "output_type": "execute_result"
    }
   ],
   "source": [
    "(mqtql[\"StudentWeight\"]).kurt()"
   ]
  },
  {
   "cell_type": "code",
   "execution_count": 138,
   "id": "552ba8ae",
   "metadata": {},
   "outputs": [
    {
     "data": {
      "text/plain": [
       "-0.10417187914089214"
      ]
     },
     "execution_count": 138,
     "metadata": {},
     "output_type": "execute_result"
    }
   ],
   "source": [
    "(mqtql[\"StudentHeight\"]).skew()"
   ]
  },
  {
   "cell_type": "code",
   "execution_count": 139,
   "id": "9fa27b90",
   "metadata": {},
   "outputs": [
    {
     "data": {
      "text/plain": [
       "-1.1801605641634165"
      ]
     },
     "execution_count": 139,
     "metadata": {},
     "output_type": "execute_result"
    }
   ],
   "source": [
    "(mqtql[\"StudentHeight\"]).kurt()"
   ]
  },
  {
   "cell_type": "code",
   "execution_count": 140,
   "id": "907c598c",
   "metadata": {},
   "outputs": [
    {
     "data": {
      "text/html": [
       "<div>\n",
       "<style scoped>\n",
       "    .dataframe tbody tr th:only-of-type {\n",
       "        vertical-align: middle;\n",
       "    }\n",
       "\n",
       "    .dataframe tbody tr th {\n",
       "        vertical-align: top;\n",
       "    }\n",
       "\n",
       "    .dataframe thead th {\n",
       "        text-align: right;\n",
       "    }\n",
       "</style>\n",
       "<table border=\"1\" class=\"dataframe\">\n",
       "  <thead>\n",
       "    <tr style=\"text-align: right;\">\n",
       "      <th></th>\n",
       "      <th>StudentAge</th>\n",
       "      <th>count</th>\n",
       "      <th>percent</th>\n",
       "      <th>cumulative_count</th>\n",
       "      <th>cumulative_percent</th>\n",
       "    </tr>\n",
       "  </thead>\n",
       "  <tbody>\n",
       "    <tr>\n",
       "      <th>0</th>\n",
       "      <td>24</td>\n",
       "      <td>30</td>\n",
       "      <td>12.0</td>\n",
       "      <td>30</td>\n",
       "      <td>12.0</td>\n",
       "    </tr>\n",
       "    <tr>\n",
       "      <th>1</th>\n",
       "      <td>26</td>\n",
       "      <td>29</td>\n",
       "      <td>11.6</td>\n",
       "      <td>59</td>\n",
       "      <td>23.6</td>\n",
       "    </tr>\n",
       "    <tr>\n",
       "      <th>2</th>\n",
       "      <td>25</td>\n",
       "      <td>26</td>\n",
       "      <td>10.4</td>\n",
       "      <td>85</td>\n",
       "      <td>34.0</td>\n",
       "    </tr>\n",
       "    <tr>\n",
       "      <th>3</th>\n",
       "      <td>20</td>\n",
       "      <td>25</td>\n",
       "      <td>10.0</td>\n",
       "      <td>110</td>\n",
       "      <td>44.0</td>\n",
       "    </tr>\n",
       "    <tr>\n",
       "      <th>4</th>\n",
       "      <td>18</td>\n",
       "      <td>23</td>\n",
       "      <td>9.2</td>\n",
       "      <td>133</td>\n",
       "      <td>53.2</td>\n",
       "    </tr>\n",
       "    <tr>\n",
       "      <th>5</th>\n",
       "      <td>23</td>\n",
       "      <td>22</td>\n",
       "      <td>8.8</td>\n",
       "      <td>155</td>\n",
       "      <td>62.0</td>\n",
       "    </tr>\n",
       "    <tr>\n",
       "      <th>6</th>\n",
       "      <td>22</td>\n",
       "      <td>21</td>\n",
       "      <td>8.4</td>\n",
       "      <td>176</td>\n",
       "      <td>70.4</td>\n",
       "    </tr>\n",
       "    <tr>\n",
       "      <th>7</th>\n",
       "      <td>21</td>\n",
       "      <td>17</td>\n",
       "      <td>6.8</td>\n",
       "      <td>193</td>\n",
       "      <td>77.2</td>\n",
       "    </tr>\n",
       "    <tr>\n",
       "      <th>8</th>\n",
       "      <td>19</td>\n",
       "      <td>17</td>\n",
       "      <td>6.8</td>\n",
       "      <td>210</td>\n",
       "      <td>84.0</td>\n",
       "    </tr>\n",
       "    <tr>\n",
       "      <th>9</th>\n",
       "      <td>17</td>\n",
       "      <td>16</td>\n",
       "      <td>6.4</td>\n",
       "      <td>226</td>\n",
       "      <td>90.4</td>\n",
       "    </tr>\n",
       "    <tr>\n",
       "      <th>10</th>\n",
       "      <td>27</td>\n",
       "      <td>15</td>\n",
       "      <td>6.0</td>\n",
       "      <td>241</td>\n",
       "      <td>96.4</td>\n",
       "    </tr>\n",
       "    <tr>\n",
       "      <th>11</th>\n",
       "      <td>16</td>\n",
       "      <td>9</td>\n",
       "      <td>3.6</td>\n",
       "      <td>250</td>\n",
       "      <td>100.0</td>\n",
       "    </tr>\n",
       "  </tbody>\n",
       "</table>\n",
       "</div>"
      ],
      "text/plain": [
       "    StudentAge  count  percent  cumulative_count  cumulative_percent\n",
       "0           24     30     12.0                30                12.0\n",
       "1           26     29     11.6                59                23.6\n",
       "2           25     26     10.4                85                34.0\n",
       "3           20     25     10.0               110                44.0\n",
       "4           18     23      9.2               133                53.2\n",
       "5           23     22      8.8               155                62.0\n",
       "6           22     21      8.4               176                70.4\n",
       "7           21     17      6.8               193                77.2\n",
       "8           19     17      6.8               210                84.0\n",
       "9           17     16      6.4               226                90.4\n",
       "10          27     15      6.0               241                96.4\n",
       "11          16      9      3.6               250               100.0"
      ]
     },
     "execution_count": 140,
     "metadata": {},
     "output_type": "execute_result"
    }
   ],
   "source": [
    "mqtql.stb.freq([\"StudentAge\"])"
   ]
  },
  {
   "cell_type": "code",
   "execution_count": 141,
   "id": "477c8947",
   "metadata": {},
   "outputs": [
    {
     "data": {
      "text/html": [
       "<div>\n",
       "<style scoped>\n",
       "    .dataframe tbody tr th:only-of-type {\n",
       "        vertical-align: middle;\n",
       "    }\n",
       "\n",
       "    .dataframe tbody tr th {\n",
       "        vertical-align: top;\n",
       "    }\n",
       "\n",
       "    .dataframe thead th {\n",
       "        text-align: right;\n",
       "    }\n",
       "</style>\n",
       "<table border=\"1\" class=\"dataframe\">\n",
       "  <thead>\n",
       "    <tr style=\"text-align: right;\">\n",
       "      <th></th>\n",
       "      <th>StudentWeight</th>\n",
       "      <th>count</th>\n",
       "      <th>percent</th>\n",
       "      <th>cumulative_count</th>\n",
       "      <th>cumulative_percent</th>\n",
       "    </tr>\n",
       "  </thead>\n",
       "  <tbody>\n",
       "    <tr>\n",
       "      <th>0</th>\n",
       "      <td>81.20</td>\n",
       "      <td>2</td>\n",
       "      <td>0.8</td>\n",
       "      <td>2</td>\n",
       "      <td>0.8</td>\n",
       "    </tr>\n",
       "    <tr>\n",
       "      <th>1</th>\n",
       "      <td>72.51</td>\n",
       "      <td>2</td>\n",
       "      <td>0.8</td>\n",
       "      <td>4</td>\n",
       "      <td>1.6</td>\n",
       "    </tr>\n",
       "    <tr>\n",
       "      <th>2</th>\n",
       "      <td>89.91</td>\n",
       "      <td>1</td>\n",
       "      <td>0.4</td>\n",
       "      <td>5</td>\n",
       "      <td>2.0</td>\n",
       "    </tr>\n",
       "    <tr>\n",
       "      <th>3</th>\n",
       "      <td>89.88</td>\n",
       "      <td>1</td>\n",
       "      <td>0.4</td>\n",
       "      <td>6</td>\n",
       "      <td>2.4</td>\n",
       "    </tr>\n",
       "    <tr>\n",
       "      <th>4</th>\n",
       "      <td>89.86</td>\n",
       "      <td>1</td>\n",
       "      <td>0.4</td>\n",
       "      <td>7</td>\n",
       "      <td>2.8</td>\n",
       "    </tr>\n",
       "    <tr>\n",
       "      <th>...</th>\n",
       "      <td>...</td>\n",
       "      <td>...</td>\n",
       "      <td>...</td>\n",
       "      <td>...</td>\n",
       "      <td>...</td>\n",
       "    </tr>\n",
       "    <tr>\n",
       "      <th>243</th>\n",
       "      <td>60.49</td>\n",
       "      <td>1</td>\n",
       "      <td>0.4</td>\n",
       "      <td>246</td>\n",
       "      <td>98.4</td>\n",
       "    </tr>\n",
       "    <tr>\n",
       "      <th>244</th>\n",
       "      <td>60.48</td>\n",
       "      <td>1</td>\n",
       "      <td>0.4</td>\n",
       "      <td>247</td>\n",
       "      <td>98.8</td>\n",
       "    </tr>\n",
       "    <tr>\n",
       "      <th>245</th>\n",
       "      <td>60.47</td>\n",
       "      <td>1</td>\n",
       "      <td>0.4</td>\n",
       "      <td>248</td>\n",
       "      <td>99.2</td>\n",
       "    </tr>\n",
       "    <tr>\n",
       "      <th>246</th>\n",
       "      <td>60.33</td>\n",
       "      <td>1</td>\n",
       "      <td>0.4</td>\n",
       "      <td>249</td>\n",
       "      <td>99.6</td>\n",
       "    </tr>\n",
       "    <tr>\n",
       "      <th>247</th>\n",
       "      <td>60.13</td>\n",
       "      <td>1</td>\n",
       "      <td>0.4</td>\n",
       "      <td>250</td>\n",
       "      <td>100.0</td>\n",
       "    </tr>\n",
       "  </tbody>\n",
       "</table>\n",
       "<p>248 rows × 5 columns</p>\n",
       "</div>"
      ],
      "text/plain": [
       "     StudentWeight  count  percent  cumulative_count  cumulative_percent\n",
       "0            81.20      2      0.8                 2                 0.8\n",
       "1            72.51      2      0.8                 4                 1.6\n",
       "2            89.91      1      0.4                 5                 2.0\n",
       "3            89.88      1      0.4                 6                 2.4\n",
       "4            89.86      1      0.4                 7                 2.8\n",
       "..             ...    ...      ...               ...                 ...\n",
       "243          60.49      1      0.4               246                98.4\n",
       "244          60.48      1      0.4               247                98.8\n",
       "245          60.47      1      0.4               248                99.2\n",
       "246          60.33      1      0.4               249                99.6\n",
       "247          60.13      1      0.4               250               100.0\n",
       "\n",
       "[248 rows x 5 columns]"
      ]
     },
     "execution_count": 141,
     "metadata": {},
     "output_type": "execute_result"
    }
   ],
   "source": [
    "mqtql.stb.freq([\"StudentWeight\"])"
   ]
  },
  {
   "cell_type": "code",
   "execution_count": 142,
   "id": "5e4a5b64",
   "metadata": {},
   "outputs": [
    {
     "data": {
      "text/html": [
       "<div>\n",
       "<style scoped>\n",
       "    .dataframe tbody tr th:only-of-type {\n",
       "        vertical-align: middle;\n",
       "    }\n",
       "\n",
       "    .dataframe tbody tr th {\n",
       "        vertical-align: top;\n",
       "    }\n",
       "\n",
       "    .dataframe thead th {\n",
       "        text-align: right;\n",
       "    }\n",
       "</style>\n",
       "<table border=\"1\" class=\"dataframe\">\n",
       "  <thead>\n",
       "    <tr style=\"text-align: right;\">\n",
       "      <th></th>\n",
       "      <th>StudentHeight</th>\n",
       "      <th>count</th>\n",
       "      <th>percent</th>\n",
       "      <th>cumulative_count</th>\n",
       "      <th>cumulative_percent</th>\n",
       "    </tr>\n",
       "  </thead>\n",
       "  <tbody>\n",
       "    <tr>\n",
       "      <th>0</th>\n",
       "      <td>4.05</td>\n",
       "      <td>6</td>\n",
       "      <td>2.4</td>\n",
       "      <td>6</td>\n",
       "      <td>2.4</td>\n",
       "    </tr>\n",
       "    <tr>\n",
       "      <th>1</th>\n",
       "      <td>3.33</td>\n",
       "      <td>4</td>\n",
       "      <td>1.6</td>\n",
       "      <td>10</td>\n",
       "      <td>4.0</td>\n",
       "    </tr>\n",
       "    <tr>\n",
       "      <th>2</th>\n",
       "      <td>2.20</td>\n",
       "      <td>4</td>\n",
       "      <td>1.6</td>\n",
       "      <td>14</td>\n",
       "      <td>5.6</td>\n",
       "    </tr>\n",
       "    <tr>\n",
       "      <th>3</th>\n",
       "      <td>4.87</td>\n",
       "      <td>3</td>\n",
       "      <td>1.2</td>\n",
       "      <td>17</td>\n",
       "      <td>6.8</td>\n",
       "    </tr>\n",
       "    <tr>\n",
       "      <th>4</th>\n",
       "      <td>4.83</td>\n",
       "      <td>3</td>\n",
       "      <td>1.2</td>\n",
       "      <td>20</td>\n",
       "      <td>8.0</td>\n",
       "    </tr>\n",
       "    <tr>\n",
       "      <th>...</th>\n",
       "      <td>...</td>\n",
       "      <td>...</td>\n",
       "      <td>...</td>\n",
       "      <td>...</td>\n",
       "      <td>...</td>\n",
       "    </tr>\n",
       "    <tr>\n",
       "      <th>159</th>\n",
       "      <td>2.08</td>\n",
       "      <td>1</td>\n",
       "      <td>0.4</td>\n",
       "      <td>246</td>\n",
       "      <td>98.4</td>\n",
       "    </tr>\n",
       "    <tr>\n",
       "      <th>160</th>\n",
       "      <td>2.06</td>\n",
       "      <td>1</td>\n",
       "      <td>0.4</td>\n",
       "      <td>247</td>\n",
       "      <td>98.8</td>\n",
       "    </tr>\n",
       "    <tr>\n",
       "      <th>161</th>\n",
       "      <td>2.04</td>\n",
       "      <td>1</td>\n",
       "      <td>0.4</td>\n",
       "      <td>248</td>\n",
       "      <td>99.2</td>\n",
       "    </tr>\n",
       "    <tr>\n",
       "      <th>162</th>\n",
       "      <td>2.03</td>\n",
       "      <td>1</td>\n",
       "      <td>0.4</td>\n",
       "      <td>249</td>\n",
       "      <td>99.6</td>\n",
       "    </tr>\n",
       "    <tr>\n",
       "      <th>163</th>\n",
       "      <td>2.01</td>\n",
       "      <td>1</td>\n",
       "      <td>0.4</td>\n",
       "      <td>250</td>\n",
       "      <td>100.0</td>\n",
       "    </tr>\n",
       "  </tbody>\n",
       "</table>\n",
       "<p>164 rows × 5 columns</p>\n",
       "</div>"
      ],
      "text/plain": [
       "     StudentHeight  count  percent  cumulative_count  cumulative_percent\n",
       "0             4.05      6      2.4                 6                 2.4\n",
       "1             3.33      4      1.6                10                 4.0\n",
       "2             2.20      4      1.6                14                 5.6\n",
       "3             4.87      3      1.2                17                 6.8\n",
       "4             4.83      3      1.2                20                 8.0\n",
       "..             ...    ...      ...               ...                 ...\n",
       "159           2.08      1      0.4               246                98.4\n",
       "160           2.06      1      0.4               247                98.8\n",
       "161           2.04      1      0.4               248                99.2\n",
       "162           2.03      1      0.4               249                99.6\n",
       "163           2.01      1      0.4               250               100.0\n",
       "\n",
       "[164 rows x 5 columns]"
      ]
     },
     "execution_count": 142,
     "metadata": {},
     "output_type": "execute_result"
    }
   ],
   "source": [
    "mqtql.stb.freq([\"StudentHeight\"])"
   ]
  },
  {
   "cell_type": "code",
   "execution_count": 143,
   "id": "58361c95",
   "metadata": {},
   "outputs": [
    {
     "name": "stderr",
     "output_type": "stream",
     "text": [
      "C:\\Users\\User1\\AppData\\Local\\Temp/ipykernel_11112/2146078145.py:1: FutureWarning: Dropping of nuisance columns in DataFrame reductions (with 'numeric_only=None') is deprecated; in a future version this will raise TypeError.  Select only valid columns before calling the reduction.\n",
      "  mqtql.median()\n"
     ]
    },
    {
     "data": {
      "text/plain": [
       "StudentAge       22.00\n",
       "StudentWeight    75.93\n",
       "StudentHeight     3.56\n",
       "StudentBMI       21.35\n",
       "dtype: float64"
      ]
     },
     "execution_count": 143,
     "metadata": {},
     "output_type": "execute_result"
    }
   ],
   "source": [
    "mqtql.median()"
   ]
  },
  {
   "cell_type": "code",
   "execution_count": 144,
   "id": "3a84d4c3",
   "metadata": {},
   "outputs": [
    {
     "name": "stdout",
     "output_type": "stream",
     "text": [
      "The maximum age is 27\n",
      "The minimum age is 16\n",
      "The range of the ages is 11\n",
      "The maximum Weight is 89.91\n",
      "The minimum Weight is 60.13\n",
      "The range of the Weights is 29.78\n",
      "The maximum Height is 4.96\n",
      "The minimum Height is 2.01\n",
      "The range of the Heights is 2.95\n"
     ]
    }
   ],
   "source": [
    "maxAge = max(mqtql[\"StudentAge\"])\n",
    "maxAge\n",
    "\n",
    "print(\"The maximum age is\" , maxAge)\n",
    "\n",
    "minAge = min(mqtql[\"StudentAge\"])\n",
    "minAge\n",
    "\n",
    "print(\"The minimum age is\" , minAge)\n",
    "\n",
    "rangeAge = maxAge - minAge\n",
    "rangeAge\n",
    "\n",
    "print(\"The range of the ages is\" , rangeAge)\n",
    "\n",
    "maxWeight = max(mqtql[\"StudentWeight\"])\n",
    "maxWeight\n",
    "\n",
    "print(\"The maximum Weight is\" , maxWeight)\n",
    "\n",
    "minWeight = min(mqtql[\"StudentWeight\"])\n",
    "minWeight\n",
    "\n",
    "print(\"The minimum Weight is\" , minWeight)\n",
    "\n",
    "rangeWeight = maxWeight - minWeight\n",
    "rangeofWeight = round(rangeWeight,2)\n",
    "rangeofWeight\n",
    "\n",
    "print(\"The range of the Weights is\" , rangeofWeight)\n",
    "\n",
    "maxHeight = max(mqtql[\"StudentHeight\"])\n",
    "maxHeight\n",
    "\n",
    "print(\"The maximum Height is\" , maxHeight)\n",
    "\n",
    "minHeight = min(mqtql[\"StudentHeight\"])\n",
    "minHeight\n",
    "\n",
    "print(\"The minimum Height is\" , minHeight)\n",
    "\n",
    "rangeHeight = maxHeight - minHeight\n",
    "rangeHeight\n",
    "\n",
    "print(\"The range of the Heights is\" , rangeHeight)\n"
   ]
  },
  {
   "cell_type": "code",
   "execution_count": 145,
   "id": "eb1ddd6a",
   "metadata": {},
   "outputs": [
    {
     "name": "stdout",
     "output_type": "stream",
     "text": [
      "10.348610441767068\n"
     ]
    }
   ],
   "source": [
    "varianceAge = statistics.variance(mqtql[\"StudentAge\"])\n",
    "print(varianceAge)"
   ]
  },
  {
   "cell_type": "code",
   "execution_count": 146,
   "id": "4fc3faa5",
   "metadata": {},
   "outputs": [
    {
     "name": "stdout",
     "output_type": "stream",
     "text": [
      "75.17500352771084\n"
     ]
    }
   ],
   "source": [
    "varianceWeight = statistics.variance(mqtql[\"StudentWeight\"])\n",
    "print(varianceWeight)"
   ]
  },
  {
   "cell_type": "code",
   "execution_count": 147,
   "id": "f56d87c7",
   "metadata": {},
   "outputs": [
    {
     "name": "stdout",
     "output_type": "stream",
     "text": [
      "0.7375237349397591\n"
     ]
    }
   ],
   "source": [
    "varianceHeight = statistics.variance(mqtql[\"StudentHeight\"])\n",
    "print(varianceHeight)"
   ]
  },
  {
   "cell_type": "code",
   "execution_count": null,
   "id": "b91d81d4",
   "metadata": {},
   "outputs": [],
   "source": []
  }
 ],
 "metadata": {
  "kernelspec": {
   "display_name": "Python 3",
   "language": "python",
   "name": "python3"
  },
  "language_info": {
   "codemirror_mode": {
    "name": "ipython",
    "version": 3
   },
   "file_extension": ".py",
   "mimetype": "text/x-python",
   "name": "python",
   "nbconvert_exporter": "python",
   "pygments_lexer": "ipython3",
   "version": "3.8.8"
  }
 },
 "nbformat": 4,
 "nbformat_minor": 5
}
